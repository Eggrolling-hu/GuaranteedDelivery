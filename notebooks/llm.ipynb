{
 "cells": [
  {
   "cell_type": "code",
   "execution_count": 1,
   "metadata": {},
   "outputs": [],
   "source": [
    "import sys\n",
    "sys.path.append(\"/media/shadowmotion/0CD113590CD11359/code/demo/smp/GuaranteedDelivery\")\n",
    "# sys.path.append(\"d:\\\\code\\\\demo\\\\smp\\\\GuaranteedDelivery\")\n",
    "import warnings\n",
    "warnings.filterwarnings('ignore', category=ResourceWarning)"
   ]
  },
  {
   "cell_type": "code",
   "execution_count": 2,
   "metadata": {},
   "outputs": [],
   "source": [
    "from core.models.chatglm2.jina_client import encode\n",
    "from core.prompt import intent_recognition_prompt\n",
    "from core.prompt import entity_recognition_prompt\n",
    "from core.data import JinaEmbeddings\n",
    "\n",
    "from langchain.vectorstores import Weaviate\n",
    "from langchain.schema import Document\n",
    "import weaviate\n",
    "\n",
    "import json"
   ]
  },
  {
   "cell_type": "code",
   "execution_count": 3,
   "metadata": {},
   "outputs": [],
   "source": [
    "client = weaviate.Client(\n",
    "    url=\"http://localhost:8080\",  # Replace with your endpoint\n",
    "    auth_client_secret=weaviate.AuthApiKey(api_key=\"shadowmotion-secret-key\"))\n",
    "\n",
    "embedding = JinaEmbeddings(\"127.0.0.1\")"
   ]
  },
  {
   "cell_type": "code",
   "execution_count": 4,
   "metadata": {},
   "outputs": [],
   "source": [
    "with open(\"../data/chatglm_llm_fintech_raw_dataset/uuid.json\", \"r\") as f:\n",
    "    uuid_dict = json.load(f)\n",
    "def attain_uuid(entities, uuid_dict):\n",
    "    for k, v in uuid_dict.items():\n",
    "        fg = True\n",
    "        for entity in entities:\n",
    "            if entity not in k:\n",
    "                fg = False\n",
    "                break\n",
    "        if fg:\n",
    "            print(entities, k)\n",
    "            return v\n",
    "    return None\n"
   ]
  },
  {
   "cell_type": "code",
   "execution_count": 5,
   "metadata": {},
   "outputs": [],
   "source": [
    "def parse_entity_recognition(response: str):\n",
    "    parse_list = []\n",
    "    lines = response.split('\\n')\n",
    "    for line in lines:\n",
    "        sep = ':' if ':' in lines[-1] else '：'\n",
    "        if \"公司名\" in line:\n",
    "            parse_list.append(line.split(sep)[1])\n",
    "        if \"年份\" in line:\n",
    "            parse_list.append(line.split(sep)[1])\n",
    "    return parse_list\n",
    "def parse_intent_recognition(response: str):\n",
    "    lines = response.split('\\n')\n",
    "    return lines[-1]"
   ]
  },
  {
   "cell_type": "code",
   "execution_count": 6,
   "metadata": {},
   "outputs": [],
   "source": [
    "questions = []\n",
    "# with open('D:\\\\code\\\\demo\\\\smp\\\\GuaranteedDelivery\\\\data\\\\chatglm_llm_fintech_raw_dataset\\\\test_questions.jsonl', 'r', encoding='utf-8') as f:\n",
    "with open('/media/shadowmotion/0CD113590CD11359/code/demo/smp/GuaranteedDelivery/data/chatglm_llm_fintech_raw_dataset/test_questions.jsonl', 'r', encoding='utf-8') as f:\n",
    "    for line in f:\n",
    "        data = json.loads(line)\n",
    "        questions.append(data['question'])"
   ]
  },
  {
   "cell_type": "code",
   "execution_count": 7,
   "metadata": {},
   "outputs": [],
   "source": [
    "prompt = entity_recognition_prompt(\"博云新材在2020年对联营企业和合营企业的投资收益是多少元？\")"
   ]
  },
  {
   "cell_type": "code",
   "execution_count": 8,
   "metadata": {},
   "outputs": [
    {
     "data": {
      "text/html": [
       "<pre style=\"white-space:pre;overflow-x:auto;line-height:normal;font-family:Menlo,'DejaVu Sans Mono',consolas,'Courier New',monospace\">\n",
       "</pre>\n"
      ],
      "text/plain": [
       "\n"
      ]
     },
     "metadata": {},
     "output_type": "display_data"
    },
    {
     "name": "stderr",
     "output_type": "stream",
     "text": [
      "\u001b[1;33mResourceWarning: Unclosed socket <zmq.Socket(zmq.PUSH) at 0x7f70a4c3b160>\u001b[0m \u001b[1;30m(raised from sys:1)\u001b[0m\n"
     ]
    }
   ],
   "source": [
    "response = encode(prompt, history=[])"
   ]
  },
  {
   "cell_type": "code",
   "execution_count": 9,
   "metadata": {},
   "outputs": [
    {
     "name": "stdout",
     "output_type": "stream",
     "text": [
      "公司名：博云新材\n",
      "年份：2020年\n",
      "['博云新材', '2020年'] 2021-03-27__湖南博云新材料股份有限公司__002297__博云新材__2020年__年度报告\n"
     ]
    },
    {
     "data": {
      "text/plain": [
       "218751418353274469826944992019657509108"
      ]
     },
     "execution_count": 9,
     "metadata": {},
     "output_type": "execute_result"
    }
   ],
   "source": [
    "print(response[0].text)\n",
    "r = parse_entity_recognition(response[0].text)\n",
    "attain_uuid(r, uuid_dict)"
   ]
  },
  {
   "cell_type": "code",
   "execution_count": 10,
   "metadata": {},
   "outputs": [],
   "source": [
    "prompt = intent_recognition_prompt(\"博云新材在2020年对联营企业和合营企业的投资收益是多少元？\")"
   ]
  },
  {
   "cell_type": "code",
   "execution_count": 11,
   "metadata": {},
   "outputs": [
    {
     "data": {
      "text/html": [
       "<pre style=\"white-space:pre;overflow-x:auto;line-height:normal;font-family:Menlo,'DejaVu Sans Mono',consolas,'Courier New',monospace\">\n",
       "</pre>\n"
      ],
      "text/plain": [
       "\n"
      ]
     },
     "metadata": {},
     "output_type": "display_data"
    },
    {
     "name": "stderr",
     "output_type": "stream",
     "text": [
      "\u001b[1;33mResourceWarning: Unclosed socket <zmq.Socket(zmq.PUSH) at 0x7f709ef6afe0>\u001b[0m \u001b[1;30m(raised from sys:1)\u001b[0m\n"
     ]
    }
   ],
   "source": [
    "response = encode(prompt, history=[])"
   ]
  },
  {
   "cell_type": "code",
   "execution_count": 12,
   "metadata": {},
   "outputs": [
    {
     "data": {
      "text/plain": [
       "'思考：\\n1. 题目中出现了具体公司名称的关键词 \"博云新材\"。\\n2. 由于题目包含具体公司名称的关键词，判断该题目属于检索问题。\\n答案: 检索问题'"
      ]
     },
     "execution_count": 12,
     "metadata": {},
     "output_type": "execute_result"
    }
   ],
   "source": [
    "response[0].text"
   ]
  },
  {
   "cell_type": "code",
   "execution_count": 13,
   "metadata": {},
   "outputs": [
    {
     "name": "stdout",
     "output_type": "stream",
     "text": [
      "思考：\n",
      "1. 题目中出现了具体公司名称的关键词 \"博云新材\"。\n",
      "2. 由于题目包含具体公司名称的关键词，判断该题目属于检索问题。\n",
      "答案: 检索问题\n"
     ]
    },
    {
     "data": {
      "text/plain": [
       "'答案: 检索问题'"
      ]
     },
     "execution_count": 13,
     "metadata": {},
     "output_type": "execute_result"
    }
   ],
   "source": [
    "print(response[0].text)\n",
    "parse_intent_recognition(response[0].text)"
   ]
  },
  {
   "cell_type": "code",
   "execution_count": 14,
   "metadata": {},
   "outputs": [
    {
     "name": "stdout",
     "output_type": "stream",
     "text": [
      "['汉宇集团股份有限公司', '2020'] 2020-02-29__汉宇集团股份有限公司__300403__汉宇集团__2019年__年度报告\n"
     ]
    },
    {
     "data": {
      "text/plain": [
       "67652975731946022315610746591998057209"
      ]
     },
     "execution_count": 14,
     "metadata": {},
     "output_type": "execute_result"
    }
   ],
   "source": [
    "attain_uuid([\"汉宇集团股份有限公司\", \"2020\"], uuid_dict)"
   ]
  },
  {
   "cell_type": "code",
   "execution_count": 19,
   "metadata": {},
   "outputs": [
    {
     "data": {
      "text/html": [
       "<pre style=\"white-space:pre;overflow-x:auto;line-height:normal;font-family:Menlo,'DejaVu Sans Mono',consolas,'Courier New',monospace\">\n",
       "</pre>\n"
      ],
      "text/plain": [
       "\n"
      ]
     },
     "metadata": {},
     "output_type": "display_data"
    },
    {
     "name": "stderr",
     "output_type": "stream",
     "text": [
      "\u001b[1;33mResourceWarning: Unclosed socket <zmq.Socket(zmq.PUSH) at 0x7f709e68e560>\u001b[0m \u001b[1;30m(raised from sys:1)\u001b[0m\n"
     ]
    },
    {
     "data": {
      "text/html": [
       "<pre style=\"white-space:pre;overflow-x:auto;line-height:normal;font-family:Menlo,'DejaVu Sans Mono',consolas,'Courier New',monospace\">\n",
       "</pre>\n"
      ],
      "text/plain": [
       "\n"
      ]
     },
     "metadata": {},
     "output_type": "display_data"
    },
    {
     "name": "stdout",
     "output_type": "stream",
     "text": [
      "['江化微', '2019年'] 2020-03-12__江阴江化微电子材料股份有限公司__603078__江化微__2019年__年度报告\n"
     ]
    },
    {
     "name": "stderr",
     "output_type": "stream",
     "text": [
      "\u001b[1;33mResourceWarning: Unclosed socket <zmq.Socket(zmq.PUSH) at 0x7f709e54bca0>\u001b[0m \u001b[1;30m(raised from sys:1)\u001b[0m\n"
     ]
    },
    {
     "data": {
      "text/html": [
       "<pre style=\"white-space:pre;overflow-x:auto;line-height:normal;font-family:Menlo,'DejaVu Sans Mono',consolas,'Courier New',monospace\"><span style=\"color: #800000; text-decoration-color: #800000; font-weight: bold\">ERROR </span> GRPCClient@<span style=\"color: #008080; text-decoration-color: #008080; font-weight: bold\">634985</span> gRPC error: StatusCode.UNAVAILABLE failed to connect to all addresses  <span style=\"color: #7f7f7f; text-decoration-color: #7f7f7f\">[08/04/23 09:06:27]</span>\n",
       "       <span style=\"color: #800080; text-decoration-color: #800080; font-style: italic\">None</span>                                                                                     <span style=\"color: #7f7f7f; text-decoration-color: #7f7f7f\">                   </span>\n",
       "       The ongoing request is terminated as the server is not available or closed already.      <span style=\"color: #7f7f7f; text-decoration-color: #7f7f7f\">                   </span>\n",
       "</pre>\n"
      ],
      "text/plain": [
       "\u001b[1;31mERROR \u001b[0m GRPCClient@\u001b[1;36m634985\u001b[0m gRPC error: StatusCode.UNAVAILABLE failed to connect to all addresses  \u001b[2m[08/04/23 09:06:27]\u001b[0m\n",
       "       \u001b[3;35mNone\u001b[0m                                                                                     \u001b[2m                   \u001b[0m\n",
       "       The ongoing request is terminated as the server is not available or closed already.      \u001b[2m                   \u001b[0m\n"
      ]
     },
     "metadata": {},
     "output_type": "display_data"
    },
    {
     "data": {
      "text/html": [
       "<pre style=\"white-space:pre;overflow-x:auto;line-height:normal;font-family:Menlo,'DejaVu Sans Mono',consolas,'Courier New',monospace\">\n",
       "</pre>\n"
      ],
      "text/plain": [
       "\n"
      ]
     },
     "metadata": {},
     "output_type": "display_data"
    },
    {
     "name": "stderr",
     "output_type": "stream",
     "text": [
      "Exception in thread Thread-369:\n",
      "Traceback (most recent call last):\n",
      "  File \"/home/shadowmotion/anaconda3/envs/py10-117/lib/python3.10/site-packages/jina/clients/base/grpc.py\", line 142, in _get_results\n",
      "    async for response in stream_rpc.stream_rpc_with_retry():\n",
      "  File \"/home/shadowmotion/anaconda3/envs/py10-117/lib/python3.10/site-packages/jina/clients/base/stream_rpc.py\", line 51, in stream_rpc_with_retry\n",
      "    async for resp in stub.Call(\n",
      "  File \"/home/shadowmotion/anaconda3/envs/py10-117/lib/python3.10/site-packages/grpc/aio/_call.py\", line 326, in _fetch_stream_responses\n",
      "    await self._raise_for_status()\n",
      "  File \"/home/shadowmotion/anaconda3/envs/py10-117/lib/python3.10/site-packages/grpc/aio/_call.py\", line 236, in _raise_for_status\n",
      "    raise _create_rpc_error(await self.initial_metadata(), await\n",
      "grpc.aio._call.AioRpcError: <AioRpcError of RPC that terminated with:\n",
      "\tstatus = StatusCode.UNAVAILABLE\n",
      "\tdetails = \"failed to connect to all addresses\"\n",
      "\tdebug_error_string = \"{\"created\":\"@1691111187.080615602\",\"description\":\"Failed to pick subchannel\",\"file\":\"src/core/ext/filters/client_channel/client_channel.cc\",\"file_line\":3260,\"referenced_errors\":[{\"created\":\"@1691111187.080613317\",\"description\":\"failed to connect to all addresses\",\"file\":\"src/core/lib/transport/error_utils.cc\",\"file_line\":167,\"grpc_status\":14}]}\"\n",
      ">\n",
      "\n",
      "During handling of the above exception, another exception occurred:\n",
      "\n",
      "Traceback (most recent call last):\n",
      "  File \"/home/shadowmotion/anaconda3/envs/py10-117/lib/python3.10/threading.py\", line 1016, in _bootstrap_inner\n",
      "    self.run()\n",
      "  File \"/home/shadowmotion/anaconda3/envs/py10-117/lib/python3.10/site-packages/jina/helper.py\", line 1299, in run\n",
      "    self.result = asyncio.run(func(*args, **kwargs))\n",
      "  File \"/home/shadowmotion/anaconda3/envs/py10-117/lib/python3.10/asyncio/runners.py\", line 44, in run\n",
      "    return loop.run_until_complete(main)\n",
      "  File \"/home/shadowmotion/anaconda3/envs/py10-117/lib/python3.10/asyncio/base_events.py\", line 649, in run_until_complete\n",
      "    return future.result()\n",
      "  File \"/home/shadowmotion/anaconda3/envs/py10-117/lib/python3.10/site-packages/jina/clients/mixin.py\", line 401, in _get_results\n",
      "    async for resp in c._get_results(*args, **kwargs):\n",
      "  File \"/home/shadowmotion/anaconda3/envs/py10-117/lib/python3.10/site-packages/jina/clients/base/grpc.py\", line 169, in _get_results\n",
      "    await self._handle_error_and_metadata(err)\n",
      "  File \"/home/shadowmotion/anaconda3/envs/py10-117/lib/python3.10/site-packages/jina/clients/base/grpc.py\", line 188, in _handle_error_and_metadata\n",
      "    raise ConnectionError(msg)\n",
      "ConnectionError: gRPC error: StatusCode.UNAVAILABLE failed to connect to all addresses\n",
      "None\n",
      "\u001b[1;33mResourceWarning: Unclosed socket <zmq.Socket(zmq.PUSH) at 0x7f709e54b460>\u001b[0m \u001b[1;30m(raised from sys:1)\u001b[0m\n"
     ]
    },
    {
     "data": {
      "text/html": [
       "<pre style=\"white-space:pre;overflow-x:auto;line-height:normal;font-family:Menlo,'DejaVu Sans Mono',consolas,'Courier New',monospace\">\n",
       "</pre>\n"
      ],
      "text/plain": [
       "\n"
      ]
     },
     "metadata": {},
     "output_type": "display_data"
    },
    {
     "name": "stderr",
     "output_type": "stream",
     "text": [
      "\u001b[1;33mResourceWarning: Unclosed socket <zmq.Socket(zmq.PUSH) at 0x7f709e5480a0>\u001b[0m \u001b[1;30m(raised from sys:1)\u001b[0m\n"
     ]
    },
    {
     "data": {
      "text/html": [
       "<pre style=\"white-space:pre;overflow-x:auto;line-height:normal;font-family:Menlo,'DejaVu Sans Mono',consolas,'Courier New',monospace\">\n",
       "</pre>\n"
      ],
      "text/plain": [
       "\n"
      ]
     },
     "metadata": {},
     "output_type": "display_data"
    },
    {
     "name": "stdout",
     "output_type": "stream",
     "text": [
      "['四方科技', '2019年'] 2020-04-16__四方科技集团股份有限公司__603339__四方科技__2019年__年度报告\n"
     ]
    },
    {
     "name": "stderr",
     "output_type": "stream",
     "text": [
      "\u001b[1;33mResourceWarning: Unclosed socket <zmq.Socket(zmq.PUSH) at 0x7f709e548040>\u001b[0m \u001b[1;30m(raised from sys:1)\u001b[0m\n"
     ]
    },
    {
     "data": {
      "text/html": [
       "<pre style=\"white-space:pre;overflow-x:auto;line-height:normal;font-family:Menlo,'DejaVu Sans Mono',consolas,'Courier New',monospace\"><span style=\"color: #800000; text-decoration-color: #800000; font-weight: bold\">ERROR </span> GRPCClient@<span style=\"color: #008080; text-decoration-color: #008080; font-weight: bold\">634985</span> gRPC error: StatusCode.UNAVAILABLE failed to connect to all addresses  <span style=\"color: #7f7f7f; text-decoration-color: #7f7f7f\">[08/04/23 09:06:40]</span>\n",
       "       <span style=\"color: #800080; text-decoration-color: #800080; font-style: italic\">None</span>                                                                                     <span style=\"color: #7f7f7f; text-decoration-color: #7f7f7f\">                   </span>\n",
       "       The ongoing request is terminated as the server is not available or closed already.      <span style=\"color: #7f7f7f; text-decoration-color: #7f7f7f\">                   </span>\n",
       "</pre>\n"
      ],
      "text/plain": [
       "\u001b[1;31mERROR \u001b[0m GRPCClient@\u001b[1;36m634985\u001b[0m gRPC error: StatusCode.UNAVAILABLE failed to connect to all addresses  \u001b[2m[08/04/23 09:06:40]\u001b[0m\n",
       "       \u001b[3;35mNone\u001b[0m                                                                                     \u001b[2m                   \u001b[0m\n",
       "       The ongoing request is terminated as the server is not available or closed already.      \u001b[2m                   \u001b[0m\n"
      ]
     },
     "metadata": {},
     "output_type": "display_data"
    },
    {
     "data": {
      "text/html": [
       "<pre style=\"white-space:pre;overflow-x:auto;line-height:normal;font-family:Menlo,'DejaVu Sans Mono',consolas,'Courier New',monospace\">\n",
       "</pre>\n"
      ],
      "text/plain": [
       "\n"
      ]
     },
     "metadata": {},
     "output_type": "display_data"
    },
    {
     "name": "stderr",
     "output_type": "stream",
     "text": [
      "Exception in thread Thread-373:\n",
      "Traceback (most recent call last):\n",
      "  File \"/home/shadowmotion/anaconda3/envs/py10-117/lib/python3.10/site-packages/jina/clients/base/grpc.py\", line 142, in _get_results\n",
      "    async for response in stream_rpc.stream_rpc_with_retry():\n",
      "  File \"/home/shadowmotion/anaconda3/envs/py10-117/lib/python3.10/site-packages/jina/clients/base/stream_rpc.py\", line 51, in stream_rpc_with_retry\n",
      "    async for resp in stub.Call(\n",
      "  File \"/home/shadowmotion/anaconda3/envs/py10-117/lib/python3.10/site-packages/grpc/aio/_call.py\", line 326, in _fetch_stream_responses\n",
      "    await self._raise_for_status()\n",
      "  File \"/home/shadowmotion/anaconda3/envs/py10-117/lib/python3.10/site-packages/grpc/aio/_call.py\", line 236, in _raise_for_status\n",
      "    raise _create_rpc_error(await self.initial_metadata(), await\n",
      "grpc.aio._call.AioRpcError: <AioRpcError of RPC that terminated with:\n",
      "\tstatus = StatusCode.UNAVAILABLE\n",
      "\tdetails = \"failed to connect to all addresses\"\n",
      "\tdebug_error_string = \"{\"created\":\"@1691111200.058134496\",\"description\":\"Failed to pick subchannel\",\"file\":\"src/core/ext/filters/client_channel/client_channel.cc\",\"file_line\":3260,\"referenced_errors\":[{\"created\":\"@1691111200.058132291\",\"description\":\"failed to connect to all addresses\",\"file\":\"src/core/lib/transport/error_utils.cc\",\"file_line\":167,\"grpc_status\":14}]}\"\n",
      ">\n",
      "\n",
      "During handling of the above exception, another exception occurred:\n",
      "\n",
      "Traceback (most recent call last):\n",
      "  File \"/home/shadowmotion/anaconda3/envs/py10-117/lib/python3.10/threading.py\", line 1016, in _bootstrap_inner\n",
      "    self.run()\n",
      "  File \"/home/shadowmotion/anaconda3/envs/py10-117/lib/python3.10/site-packages/jina/helper.py\", line 1299, in run\n",
      "    self.result = asyncio.run(func(*args, **kwargs))\n",
      "  File \"/home/shadowmotion/anaconda3/envs/py10-117/lib/python3.10/asyncio/runners.py\", line 44, in run\n",
      "    return loop.run_until_complete(main)\n",
      "  File \"/home/shadowmotion/anaconda3/envs/py10-117/lib/python3.10/asyncio/base_events.py\", line 649, in run_until_complete\n",
      "    return future.result()\n",
      "  File \"/home/shadowmotion/anaconda3/envs/py10-117/lib/python3.10/site-packages/jina/clients/mixin.py\", line 401, in _get_results\n",
      "    async for resp in c._get_results(*args, **kwargs):\n",
      "  File \"/home/shadowmotion/anaconda3/envs/py10-117/lib/python3.10/site-packages/jina/clients/base/grpc.py\", line 169, in _get_results\n",
      "    await self._handle_error_and_metadata(err)\n",
      "  File \"/home/shadowmotion/anaconda3/envs/py10-117/lib/python3.10/site-packages/jina/clients/base/grpc.py\", line 188, in _handle_error_and_metadata\n",
      "    raise ConnectionError(msg)\n",
      "ConnectionError: gRPC error: StatusCode.UNAVAILABLE failed to connect to all addresses\n",
      "None\n"
     ]
    },
    {
     "data": {
      "text/html": [
       "<pre style=\"white-space:pre;overflow-x:auto;line-height:normal;font-family:Menlo,'DejaVu Sans Mono',consolas,'Courier New',monospace\">\n",
       "</pre>\n"
      ],
      "text/plain": [
       "\n"
      ]
     },
     "metadata": {},
     "output_type": "display_data"
    },
    {
     "name": "stderr",
     "output_type": "stream",
     "text": [
      "\u001b[1;33mResourceWarning: Unclosed socket <zmq.Socket(zmq.PUSH) at 0x7f709e549960>\u001b[0m \u001b[1;30m(raised from sys:1)\u001b[0m\n"
     ]
    },
    {
     "data": {
      "text/html": [
       "<pre style=\"white-space:pre;overflow-x:auto;line-height:normal;font-family:Menlo,'DejaVu Sans Mono',consolas,'Courier New',monospace\">\n",
       "</pre>\n"
      ],
      "text/plain": [
       "\n"
      ]
     },
     "metadata": {},
     "output_type": "display_data"
    },
    {
     "name": "stdout",
     "output_type": "stream",
     "text": [
      "['河北金牛化工股份有限公司', '2020年'] 2021-04-28__河北金牛化工股份有限公司__600722__金牛化工__2020年__年度报告\n"
     ]
    },
    {
     "name": "stderr",
     "output_type": "stream",
     "text": [
      "\u001b[1;33mResourceWarning: Unclosed socket <zmq.Socket(zmq.PUSH) at 0x7f709e548ee0>\u001b[0m \u001b[1;30m(raised from sys:1)\u001b[0m\n"
     ]
    },
    {
     "data": {
      "text/html": [
       "<pre style=\"white-space:pre;overflow-x:auto;line-height:normal;font-family:Menlo,'DejaVu Sans Mono',consolas,'Courier New',monospace\"><span style=\"color: #800000; text-decoration-color: #800000; font-weight: bold\">ERROR </span> GRPCClient@<span style=\"color: #008080; text-decoration-color: #008080; font-weight: bold\">634985</span> gRPC error: StatusCode.UNAVAILABLE failed to connect to all addresses  <span style=\"color: #7f7f7f; text-decoration-color: #7f7f7f\">[08/04/23 09:06:53]</span>\n",
       "       <span style=\"color: #800080; text-decoration-color: #800080; font-style: italic\">None</span>                                                                                     <span style=\"color: #7f7f7f; text-decoration-color: #7f7f7f\">                   </span>\n",
       "       The ongoing request is terminated as the server is not available or closed already.      <span style=\"color: #7f7f7f; text-decoration-color: #7f7f7f\">                   </span>\n",
       "</pre>\n"
      ],
      "text/plain": [
       "\u001b[1;31mERROR \u001b[0m GRPCClient@\u001b[1;36m634985\u001b[0m gRPC error: StatusCode.UNAVAILABLE failed to connect to all addresses  \u001b[2m[08/04/23 09:06:53]\u001b[0m\n",
       "       \u001b[3;35mNone\u001b[0m                                                                                     \u001b[2m                   \u001b[0m\n",
       "       The ongoing request is terminated as the server is not available or closed already.      \u001b[2m                   \u001b[0m\n"
      ]
     },
     "metadata": {},
     "output_type": "display_data"
    },
    {
     "data": {
      "text/html": [
       "<pre style=\"white-space:pre;overflow-x:auto;line-height:normal;font-family:Menlo,'DejaVu Sans Mono',consolas,'Courier New',monospace\">\n",
       "</pre>\n"
      ],
      "text/plain": [
       "\n"
      ]
     },
     "metadata": {},
     "output_type": "display_data"
    },
    {
     "name": "stderr",
     "output_type": "stream",
     "text": [
      "Exception in thread Thread-376:\n",
      "Traceback (most recent call last):\n",
      "  File \"/home/shadowmotion/anaconda3/envs/py10-117/lib/python3.10/site-packages/jina/clients/base/grpc.py\", line 142, in _get_results\n",
      "    async for response in stream_rpc.stream_rpc_with_retry():\n",
      "  File \"/home/shadowmotion/anaconda3/envs/py10-117/lib/python3.10/site-packages/jina/clients/base/stream_rpc.py\", line 51, in stream_rpc_with_retry\n",
      "    async for resp in stub.Call(\n",
      "  File \"/home/shadowmotion/anaconda3/envs/py10-117/lib/python3.10/site-packages/grpc/aio/_call.py\", line 326, in _fetch_stream_responses\n",
      "    await self._raise_for_status()\n",
      "  File \"/home/shadowmotion/anaconda3/envs/py10-117/lib/python3.10/site-packages/grpc/aio/_call.py\", line 236, in _raise_for_status\n",
      "    raise _create_rpc_error(await self.initial_metadata(), await\n",
      "grpc.aio._call.AioRpcError: <AioRpcError of RPC that terminated with:\n",
      "\tstatus = StatusCode.UNAVAILABLE\n",
      "\tdetails = \"failed to connect to all addresses\"\n",
      "\tdebug_error_string = \"{\"created\":\"@1691111213.778005969\",\"description\":\"Failed to pick subchannel\",\"file\":\"src/core/ext/filters/client_channel/client_channel.cc\",\"file_line\":3260,\"referenced_errors\":[{\"created\":\"@1691111213.778003256\",\"description\":\"failed to connect to all addresses\",\"file\":\"src/core/lib/transport/error_utils.cc\",\"file_line\":167,\"grpc_status\":14}]}\"\n",
      ">\n",
      "\n",
      "During handling of the above exception, another exception occurred:\n",
      "\n",
      "Traceback (most recent call last):\n",
      "  File \"/home/shadowmotion/anaconda3/envs/py10-117/lib/python3.10/threading.py\", line 1016, in _bootstrap_inner\n",
      "    self.run()\n",
      "  File \"/home/shadowmotion/anaconda3/envs/py10-117/lib/python3.10/site-packages/jina/helper.py\", line 1299, in run\n",
      "    self.result = asyncio.run(func(*args, **kwargs))\n",
      "  File \"/home/shadowmotion/anaconda3/envs/py10-117/lib/python3.10/asyncio/runners.py\", line 44, in run\n",
      "    return loop.run_until_complete(main)\n",
      "  File \"/home/shadowmotion/anaconda3/envs/py10-117/lib/python3.10/asyncio/base_events.py\", line 649, in run_until_complete\n",
      "    return future.result()\n",
      "  File \"/home/shadowmotion/anaconda3/envs/py10-117/lib/python3.10/site-packages/jina/clients/mixin.py\", line 401, in _get_results\n",
      "    async for resp in c._get_results(*args, **kwargs):\n",
      "  File \"/home/shadowmotion/anaconda3/envs/py10-117/lib/python3.10/site-packages/jina/clients/base/grpc.py\", line 169, in _get_results\n",
      "    await self._handle_error_and_metadata(err)\n",
      "  File \"/home/shadowmotion/anaconda3/envs/py10-117/lib/python3.10/site-packages/jina/clients/base/grpc.py\", line 188, in _handle_error_and_metadata\n",
      "    raise ConnectionError(msg)\n",
      "ConnectionError: gRPC error: StatusCode.UNAVAILABLE failed to connect to all addresses\n",
      "None\n"
     ]
    },
    {
     "data": {
      "text/html": [
       "<pre style=\"white-space:pre;overflow-x:auto;line-height:normal;font-family:Menlo,'DejaVu Sans Mono',consolas,'Courier New',monospace\">\n",
       "</pre>\n"
      ],
      "text/plain": [
       "\n"
      ]
     },
     "metadata": {},
     "output_type": "display_data"
    },
    {
     "data": {
      "text/html": [
       "<pre style=\"white-space:pre;overflow-x:auto;line-height:normal;font-family:Menlo,'DejaVu Sans Mono',consolas,'Courier New',monospace\">\n",
       "</pre>\n"
      ],
      "text/plain": [
       "\n"
      ]
     },
     "metadata": {},
     "output_type": "display_data"
    },
    {
     "name": "stdout",
     "output_type": "stream",
     "text": [
      "['南京康尼机电股份有限公司', '2019年'] 2020-04-03__南京康尼机电股份有限公司__603111__康尼机电__2019年__年度报告\n"
     ]
    },
    {
     "name": "stderr",
     "output_type": "stream",
     "text": [
      "\u001b[1;33mResourceWarning: Unclosed socket <zmq.Socket(zmq.PUSH) at 0x7f709e549fc0>\u001b[0m \u001b[1;30m(raised from sys:1)\u001b[0m\n"
     ]
    },
    {
     "data": {
      "text/html": [
       "<pre style=\"white-space:pre;overflow-x:auto;line-height:normal;font-family:Menlo,'DejaVu Sans Mono',consolas,'Courier New',monospace\"><span style=\"color: #800000; text-decoration-color: #800000; font-weight: bold\">ERROR </span> GRPCClient@<span style=\"color: #008080; text-decoration-color: #008080; font-weight: bold\">634985</span> gRPC error: StatusCode.UNAVAILABLE failed to connect to all addresses  <span style=\"color: #7f7f7f; text-decoration-color: #7f7f7f\">[08/04/23 09:07:08]</span>\n",
       "       <span style=\"color: #800080; text-decoration-color: #800080; font-style: italic\">None</span>                                                                                     <span style=\"color: #7f7f7f; text-decoration-color: #7f7f7f\">                   </span>\n",
       "       The ongoing request is terminated as the server is not available or closed already.      <span style=\"color: #7f7f7f; text-decoration-color: #7f7f7f\">                   </span>\n",
       "</pre>\n"
      ],
      "text/plain": [
       "\u001b[1;31mERROR \u001b[0m GRPCClient@\u001b[1;36m634985\u001b[0m gRPC error: StatusCode.UNAVAILABLE failed to connect to all addresses  \u001b[2m[08/04/23 09:07:08]\u001b[0m\n",
       "       \u001b[3;35mNone\u001b[0m                                                                                     \u001b[2m                   \u001b[0m\n",
       "       The ongoing request is terminated as the server is not available or closed already.      \u001b[2m                   \u001b[0m\n"
      ]
     },
     "metadata": {},
     "output_type": "display_data"
    },
    {
     "data": {
      "text/html": [
       "<pre style=\"white-space:pre;overflow-x:auto;line-height:normal;font-family:Menlo,'DejaVu Sans Mono',consolas,'Courier New',monospace\">\n",
       "</pre>\n"
      ],
      "text/plain": [
       "\n"
      ]
     },
     "metadata": {},
     "output_type": "display_data"
    },
    {
     "name": "stderr",
     "output_type": "stream",
     "text": [
      "Exception in thread Thread-379:\n",
      "Traceback (most recent call last):\n",
      "  File \"/home/shadowmotion/anaconda3/envs/py10-117/lib/python3.10/site-packages/jina/clients/base/grpc.py\", line 142, in _get_results\n",
      "    async for response in stream_rpc.stream_rpc_with_retry():\n",
      "  File \"/home/shadowmotion/anaconda3/envs/py10-117/lib/python3.10/site-packages/jina/clients/base/stream_rpc.py\", line 51, in stream_rpc_with_retry\n",
      "    async for resp in stub.Call(\n",
      "  File \"/home/shadowmotion/anaconda3/envs/py10-117/lib/python3.10/site-packages/grpc/aio/_call.py\", line 326, in _fetch_stream_responses\n",
      "    await self._raise_for_status()\n",
      "  File \"/home/shadowmotion/anaconda3/envs/py10-117/lib/python3.10/site-packages/grpc/aio/_call.py\", line 236, in _raise_for_status\n",
      "    raise _create_rpc_error(await self.initial_metadata(), await\n",
      "grpc.aio._call.AioRpcError: <AioRpcError of RPC that terminated with:\n",
      "\tstatus = StatusCode.UNAVAILABLE\n",
      "\tdetails = \"failed to connect to all addresses\"\n",
      "\tdebug_error_string = \"{\"created\":\"@1691111228.373151148\",\"description\":\"Failed to pick subchannel\",\"file\":\"src/core/ext/filters/client_channel/client_channel.cc\",\"file_line\":3260,\"referenced_errors\":[{\"created\":\"@1691111228.373148825\",\"description\":\"failed to connect to all addresses\",\"file\":\"src/core/lib/transport/error_utils.cc\",\"file_line\":167,\"grpc_status\":14}]}\"\n",
      ">\n",
      "\n",
      "During handling of the above exception, another exception occurred:\n",
      "\n",
      "Traceback (most recent call last):\n",
      "  File \"/home/shadowmotion/anaconda3/envs/py10-117/lib/python3.10/threading.py\", line 1016, in _bootstrap_inner\n",
      "    self.run()\n",
      "  File \"/home/shadowmotion/anaconda3/envs/py10-117/lib/python3.10/site-packages/jina/helper.py\", line 1299, in run\n",
      "    self.result = asyncio.run(func(*args, **kwargs))\n",
      "  File \"/home/shadowmotion/anaconda3/envs/py10-117/lib/python3.10/asyncio/runners.py\", line 44, in run\n",
      "    return loop.run_until_complete(main)\n",
      "  File \"/home/shadowmotion/anaconda3/envs/py10-117/lib/python3.10/asyncio/base_events.py\", line 649, in run_until_complete\n",
      "    return future.result()\n",
      "  File \"/home/shadowmotion/anaconda3/envs/py10-117/lib/python3.10/site-packages/jina/clients/mixin.py\", line 401, in _get_results\n",
      "    async for resp in c._get_results(*args, **kwargs):\n",
      "  File \"/home/shadowmotion/anaconda3/envs/py10-117/lib/python3.10/site-packages/jina/clients/base/grpc.py\", line 169, in _get_results\n",
      "    await self._handle_error_and_metadata(err)\n",
      "  File \"/home/shadowmotion/anaconda3/envs/py10-117/lib/python3.10/site-packages/jina/clients/base/grpc.py\", line 188, in _handle_error_and_metadata\n",
      "    raise ConnectionError(msg)\n",
      "ConnectionError: gRPC error: StatusCode.UNAVAILABLE failed to connect to all addresses\n",
      "None\n",
      "\u001b[1;33mResourceWarning: Unclosed socket <zmq.Socket(zmq.PUSH) at 0x7f709e549ba0>\u001b[0m \u001b[1;30m(raised from sys:1)\u001b[0m\n"
     ]
    },
    {
     "data": {
      "text/html": [
       "<pre style=\"white-space:pre;overflow-x:auto;line-height:normal;font-family:Menlo,'DejaVu Sans Mono',consolas,'Courier New',monospace\">\n",
       "</pre>\n"
      ],
      "text/plain": [
       "\n"
      ]
     },
     "metadata": {},
     "output_type": "display_data"
    },
    {
     "data": {
      "text/html": [
       "<pre style=\"white-space:pre;overflow-x:auto;line-height:normal;font-family:Menlo,'DejaVu Sans Mono',consolas,'Courier New',monospace\">\n",
       "</pre>\n"
      ],
      "text/plain": [
       "\n"
      ]
     },
     "metadata": {},
     "output_type": "display_data"
    },
    {
     "data": {
      "text/html": [
       "<pre style=\"white-space:pre;overflow-x:auto;line-height:normal;font-family:Menlo,'DejaVu Sans Mono',consolas,'Courier New',monospace\">\n",
       "</pre>\n"
      ],
      "text/plain": [
       "\n"
      ]
     },
     "metadata": {},
     "output_type": "display_data"
    },
    {
     "data": {
      "text/html": [
       "<pre style=\"white-space:pre;overflow-x:auto;line-height:normal;font-family:Menlo,'DejaVu Sans Mono',consolas,'Courier New',monospace\">\n",
       "</pre>\n"
      ],
      "text/plain": [
       "\n"
      ]
     },
     "metadata": {},
     "output_type": "display_data"
    },
    {
     "name": "stdout",
     "output_type": "stream",
     "text": [
      "['安记食品股份有限公司', '2019年'] 2020-04-17__安记食品股份有限公司__603696__安记食品__2019年__年度报告\n"
     ]
    },
    {
     "name": "stderr",
     "output_type": "stream",
     "text": [
      "\u001b[1;33mResourceWarning: Unclosed socket <zmq.Socket(zmq.PUSH) at 0x7f709e590160>\u001b[0m \u001b[1;30m(raised from sys:1)\u001b[0m\n"
     ]
    },
    {
     "data": {
      "text/html": [
       "<pre style=\"white-space:pre;overflow-x:auto;line-height:normal;font-family:Menlo,'DejaVu Sans Mono',consolas,'Courier New',monospace\"><span style=\"color: #800000; text-decoration-color: #800000; font-weight: bold\">ERROR </span> GRPCClient@<span style=\"color: #008080; text-decoration-color: #008080; font-weight: bold\">634985</span> gRPC error: StatusCode.UNAVAILABLE failed to connect to all addresses  <span style=\"color: #7f7f7f; text-decoration-color: #7f7f7f\">[08/04/23 09:07:36]</span>\n",
       "       <span style=\"color: #800080; text-decoration-color: #800080; font-style: italic\">None</span>                                                                                     <span style=\"color: #7f7f7f; text-decoration-color: #7f7f7f\">                   </span>\n",
       "       The ongoing request is terminated as the server is not available or closed already.      <span style=\"color: #7f7f7f; text-decoration-color: #7f7f7f\">                   </span>\n",
       "</pre>\n"
      ],
      "text/plain": [
       "\u001b[1;31mERROR \u001b[0m GRPCClient@\u001b[1;36m634985\u001b[0m gRPC error: StatusCode.UNAVAILABLE failed to connect to all addresses  \u001b[2m[08/04/23 09:07:36]\u001b[0m\n",
       "       \u001b[3;35mNone\u001b[0m                                                                                     \u001b[2m                   \u001b[0m\n",
       "       The ongoing request is terminated as the server is not available or closed already.      \u001b[2m                   \u001b[0m\n"
      ]
     },
     "metadata": {},
     "output_type": "display_data"
    },
    {
     "data": {
      "text/html": [
       "<pre style=\"white-space:pre;overflow-x:auto;line-height:normal;font-family:Menlo,'DejaVu Sans Mono',consolas,'Courier New',monospace\">\n",
       "</pre>\n"
      ],
      "text/plain": [
       "\n"
      ]
     },
     "metadata": {},
     "output_type": "display_data"
    },
    {
     "name": "stderr",
     "output_type": "stream",
     "text": [
      "Exception in thread Thread-384:\n",
      "Traceback (most recent call last):\n",
      "  File \"/home/shadowmotion/anaconda3/envs/py10-117/lib/python3.10/site-packages/jina/clients/base/grpc.py\", line 142, in _get_results\n",
      "    async for response in stream_rpc.stream_rpc_with_retry():\n",
      "  File \"/home/shadowmotion/anaconda3/envs/py10-117/lib/python3.10/site-packages/jina/clients/base/stream_rpc.py\", line 51, in stream_rpc_with_retry\n",
      "    async for resp in stub.Call(\n",
      "  File \"/home/shadowmotion/anaconda3/envs/py10-117/lib/python3.10/site-packages/grpc/aio/_call.py\", line 326, in _fetch_stream_responses\n",
      "    await self._raise_for_status()\n",
      "  File \"/home/shadowmotion/anaconda3/envs/py10-117/lib/python3.10/site-packages/grpc/aio/_call.py\", line 236, in _raise_for_status\n",
      "    raise _create_rpc_error(await self.initial_metadata(), await\n",
      "grpc.aio._call.AioRpcError: <AioRpcError of RPC that terminated with:\n",
      "\tstatus = StatusCode.UNAVAILABLE\n",
      "\tdetails = \"failed to connect to all addresses\"\n",
      "\tdebug_error_string = \"{\"created\":\"@1691111256.059855567\",\"description\":\"Failed to pick subchannel\",\"file\":\"src/core/ext/filters/client_channel/client_channel.cc\",\"file_line\":3260,\"referenced_errors\":[{\"created\":\"@1691111256.059854663\",\"description\":\"failed to connect to all addresses\",\"file\":\"src/core/lib/transport/error_utils.cc\",\"file_line\":167,\"grpc_status\":14}]}\"\n",
      ">\n",
      "\n",
      "During handling of the above exception, another exception occurred:\n",
      "\n",
      "Traceback (most recent call last):\n",
      "  File \"/home/shadowmotion/anaconda3/envs/py10-117/lib/python3.10/threading.py\", line 1016, in _bootstrap_inner\n",
      "    self.run()\n",
      "  File \"/home/shadowmotion/anaconda3/envs/py10-117/lib/python3.10/site-packages/jina/helper.py\", line 1299, in run\n",
      "    self.result = asyncio.run(func(*args, **kwargs))\n",
      "  File \"/home/shadowmotion/anaconda3/envs/py10-117/lib/python3.10/asyncio/runners.py\", line 44, in run\n",
      "    return loop.run_until_complete(main)\n",
      "  File \"/home/shadowmotion/anaconda3/envs/py10-117/lib/python3.10/asyncio/base_events.py\", line 649, in run_until_complete\n",
      "    return future.result()\n",
      "  File \"/home/shadowmotion/anaconda3/envs/py10-117/lib/python3.10/site-packages/jina/clients/mixin.py\", line 401, in _get_results\n",
      "    async for resp in c._get_results(*args, **kwargs):\n",
      "  File \"/home/shadowmotion/anaconda3/envs/py10-117/lib/python3.10/site-packages/jina/clients/base/grpc.py\", line 169, in _get_results\n",
      "    await self._handle_error_and_metadata(err)\n",
      "  File \"/home/shadowmotion/anaconda3/envs/py10-117/lib/python3.10/site-packages/jina/clients/base/grpc.py\", line 188, in _handle_error_and_metadata\n",
      "    raise ConnectionError(msg)\n",
      "ConnectionError: gRPC error: StatusCode.UNAVAILABLE failed to connect to all addresses\n",
      "None\n",
      "\u001b[1;33mResourceWarning: Unclosed socket <zmq.Socket(zmq.PUSH) at 0x7f709e590760>\u001b[0m \u001b[1;30m(raised from sys:1)\u001b[0m\n"
     ]
    },
    {
     "data": {
      "text/html": [
       "<pre style=\"white-space:pre;overflow-x:auto;line-height:normal;font-family:Menlo,'DejaVu Sans Mono',consolas,'Courier New',monospace\">\n",
       "</pre>\n"
      ],
      "text/plain": [
       "\n"
      ]
     },
     "metadata": {},
     "output_type": "display_data"
    },
    {
     "data": {
      "text/html": [
       "<pre style=\"white-space:pre;overflow-x:auto;line-height:normal;font-family:Menlo,'DejaVu Sans Mono',consolas,'Courier New',monospace\">\n",
       "</pre>\n"
      ],
      "text/plain": [
       "\n"
      ]
     },
     "metadata": {},
     "output_type": "display_data"
    },
    {
     "name": "stderr",
     "output_type": "stream",
     "text": [
      "\u001b[1;33mResourceWarning: Unclosed socket <zmq.Socket(zmq.PUSH) at 0x7f709e5900a0>\u001b[0m \u001b[1;30m(raised from sys:1)\u001b[0m\n"
     ]
    },
    {
     "data": {
      "text/html": [
       "<pre style=\"white-space:pre;overflow-x:auto;line-height:normal;font-family:Menlo,'DejaVu Sans Mono',consolas,'Courier New',monospace\">\n",
       "</pre>\n"
      ],
      "text/plain": [
       "\n"
      ]
     },
     "metadata": {},
     "output_type": "display_data"
    },
    {
     "name": "stderr",
     "output_type": "stream",
     "text": [
      "\u001b[1;33mResourceWarning: Unclosed socket <zmq.Socket(zmq.PUSH) at 0x7f709e590520>\u001b[0m \u001b[1;30m(raised from sys:1)\u001b[0m\n"
     ]
    },
    {
     "data": {
      "text/html": [
       "<pre style=\"white-space:pre;overflow-x:auto;line-height:normal;font-family:Menlo,'DejaVu Sans Mono',consolas,'Courier New',monospace\">\n",
       "</pre>\n"
      ],
      "text/plain": [
       "\n"
      ]
     },
     "metadata": {},
     "output_type": "display_data"
    },
    {
     "name": "stdout",
     "output_type": "stream",
     "text": [
      "['震安科技', '2019年'] 2020-05-15__震安科技股份有限公司__300767__震安科技__2019年__年度报告\n"
     ]
    },
    {
     "name": "stderr",
     "output_type": "stream",
     "text": [
      "\u001b[1;33mResourceWarning: Unclosed socket <zmq.Socket(zmq.PUSH) at 0x7f709e590a60>\u001b[0m \u001b[1;30m(raised from sys:1)\u001b[0m\n"
     ]
    },
    {
     "data": {
      "text/html": [
       "<pre style=\"white-space:pre;overflow-x:auto;line-height:normal;font-family:Menlo,'DejaVu Sans Mono',consolas,'Courier New',monospace\"><span style=\"color: #800000; text-decoration-color: #800000; font-weight: bold\">ERROR </span> GRPCClient@<span style=\"color: #008080; text-decoration-color: #008080; font-weight: bold\">634985</span> gRPC error: StatusCode.UNAVAILABLE failed to connect to all addresses  <span style=\"color: #7f7f7f; text-decoration-color: #7f7f7f\">[08/04/23 09:08:03]</span>\n",
       "       <span style=\"color: #800080; text-decoration-color: #800080; font-style: italic\">None</span>                                                                                     <span style=\"color: #7f7f7f; text-decoration-color: #7f7f7f\">                   </span>\n",
       "       The ongoing request is terminated as the server is not available or closed already.      <span style=\"color: #7f7f7f; text-decoration-color: #7f7f7f\">                   </span>\n",
       "</pre>\n"
      ],
      "text/plain": [
       "\u001b[1;31mERROR \u001b[0m GRPCClient@\u001b[1;36m634985\u001b[0m gRPC error: StatusCode.UNAVAILABLE failed to connect to all addresses  \u001b[2m[08/04/23 09:08:03]\u001b[0m\n",
       "       \u001b[3;35mNone\u001b[0m                                                                                     \u001b[2m                   \u001b[0m\n",
       "       The ongoing request is terminated as the server is not available or closed already.      \u001b[2m                   \u001b[0m\n"
      ]
     },
     "metadata": {},
     "output_type": "display_data"
    },
    {
     "data": {
      "text/html": [
       "<pre style=\"white-space:pre;overflow-x:auto;line-height:normal;font-family:Menlo,'DejaVu Sans Mono',consolas,'Courier New',monospace\">\n",
       "</pre>\n"
      ],
      "text/plain": [
       "\n"
      ]
     },
     "metadata": {},
     "output_type": "display_data"
    },
    {
     "name": "stderr",
     "output_type": "stream",
     "text": [
      "Exception in thread Thread-389:\n",
      "Traceback (most recent call last):\n",
      "  File \"/home/shadowmotion/anaconda3/envs/py10-117/lib/python3.10/site-packages/jina/clients/base/grpc.py\", line 142, in _get_results\n",
      "    async for response in stream_rpc.stream_rpc_with_retry():\n",
      "  File \"/home/shadowmotion/anaconda3/envs/py10-117/lib/python3.10/site-packages/jina/clients/base/stream_rpc.py\", line 51, in stream_rpc_with_retry\n",
      "    async for resp in stub.Call(\n",
      "  File \"/home/shadowmotion/anaconda3/envs/py10-117/lib/python3.10/site-packages/grpc/aio/_call.py\", line 326, in _fetch_stream_responses\n",
      "    await self._raise_for_status()\n",
      "  File \"/home/shadowmotion/anaconda3/envs/py10-117/lib/python3.10/site-packages/grpc/aio/_call.py\", line 236, in _raise_for_status\n",
      "    raise _create_rpc_error(await self.initial_metadata(), await\n",
      "grpc.aio._call.AioRpcError: <AioRpcError of RPC that terminated with:\n",
      "\tstatus = StatusCode.UNAVAILABLE\n",
      "\tdetails = \"failed to connect to all addresses\"\n",
      "\tdebug_error_string = \"{\"created\":\"@1691111283.121810620\",\"description\":\"Failed to pick subchannel\",\"file\":\"src/core/ext/filters/client_channel/client_channel.cc\",\"file_line\":3260,\"referenced_errors\":[{\"created\":\"@1691111283.121809505\",\"description\":\"failed to connect to all addresses\",\"file\":\"src/core/lib/transport/error_utils.cc\",\"file_line\":167,\"grpc_status\":14}]}\"\n",
      ">\n",
      "\n",
      "During handling of the above exception, another exception occurred:\n",
      "\n",
      "Traceback (most recent call last):\n",
      "  File \"/home/shadowmotion/anaconda3/envs/py10-117/lib/python3.10/threading.py\", line 1016, in _bootstrap_inner\n",
      "    self.run()\n",
      "  File \"/home/shadowmotion/anaconda3/envs/py10-117/lib/python3.10/site-packages/jina/helper.py\", line 1299, in run\n",
      "    self.result = asyncio.run(func(*args, **kwargs))\n",
      "  File \"/home/shadowmotion/anaconda3/envs/py10-117/lib/python3.10/asyncio/runners.py\", line 44, in run\n",
      "    return loop.run_until_complete(main)\n",
      "  File \"/home/shadowmotion/anaconda3/envs/py10-117/lib/python3.10/asyncio/base_events.py\", line 649, in run_until_complete\n",
      "    return future.result()\n",
      "  File \"/home/shadowmotion/anaconda3/envs/py10-117/lib/python3.10/site-packages/jina/clients/mixin.py\", line 401, in _get_results\n",
      "    async for resp in c._get_results(*args, **kwargs):\n",
      "  File \"/home/shadowmotion/anaconda3/envs/py10-117/lib/python3.10/site-packages/jina/clients/base/grpc.py\", line 169, in _get_results\n",
      "    await self._handle_error_and_metadata(err)\n",
      "  File \"/home/shadowmotion/anaconda3/envs/py10-117/lib/python3.10/site-packages/jina/clients/base/grpc.py\", line 188, in _handle_error_and_metadata\n",
      "    raise ConnectionError(msg)\n",
      "ConnectionError: gRPC error: StatusCode.UNAVAILABLE failed to connect to all addresses\n",
      "None\n"
     ]
    },
    {
     "data": {
      "text/html": [
       "<pre style=\"white-space:pre;overflow-x:auto;line-height:normal;font-family:Menlo,'DejaVu Sans Mono',consolas,'Courier New',monospace\">\n",
       "</pre>\n"
      ],
      "text/plain": [
       "\n"
      ]
     },
     "metadata": {},
     "output_type": "display_data"
    },
    {
     "name": "stderr",
     "output_type": "stream",
     "text": [
      "\u001b[1;33mResourceWarning: Unclosed socket <zmq.Socket(zmq.PUSH) at 0x7f709e590ee0>\u001b[0m \u001b[1;30m(raised from sys:1)\u001b[0m\n"
     ]
    },
    {
     "data": {
      "text/html": [
       "<pre style=\"white-space:pre;overflow-x:auto;line-height:normal;font-family:Menlo,'DejaVu Sans Mono',consolas,'Courier New',monospace\">\n",
       "</pre>\n"
      ],
      "text/plain": [
       "\n"
      ]
     },
     "metadata": {},
     "output_type": "display_data"
    },
    {
     "name": "stderr",
     "output_type": "stream",
     "text": [
      "\u001b[1;33mResourceWarning: Unclosed socket <zmq.Socket(zmq.PUSH) at 0x7f709e590ac0>\u001b[0m \u001b[1;30m(raised from sys:1)\u001b[0m\n"
     ]
    },
    {
     "data": {
      "text/html": [
       "<pre style=\"white-space:pre;overflow-x:auto;line-height:normal;font-family:Menlo,'DejaVu Sans Mono',consolas,'Courier New',monospace\">\n",
       "</pre>\n"
      ],
      "text/plain": [
       "\n"
      ]
     },
     "metadata": {},
     "output_type": "display_data"
    },
    {
     "name": "stderr",
     "output_type": "stream",
     "text": [
      "\u001b[1;33mResourceWarning: Unclosed socket <zmq.Socket(zmq.PUSH) at 0x7f709e591120>\u001b[0m \u001b[1;30m(raised from sys:1)\u001b[0m\n"
     ]
    },
    {
     "data": {
      "text/html": [
       "<pre style=\"white-space:pre;overflow-x:auto;line-height:normal;font-family:Menlo,'DejaVu Sans Mono',consolas,'Courier New',monospace\">\n",
       "</pre>\n"
      ],
      "text/plain": [
       "\n"
      ]
     },
     "metadata": {},
     "output_type": "display_data"
    },
    {
     "name": "stdout",
     "output_type": "stream",
     "text": [
      "['永新股份', '2019年'] 2020-03-14__黄山永新股份有限公司__002014__永新股份__2019年__年度报告\n"
     ]
    },
    {
     "name": "stderr",
     "output_type": "stream",
     "text": [
      "\u001b[1;33mResourceWarning: Unclosed socket <zmq.Socket(zmq.PUSH) at 0x7f709e591360>\u001b[0m \u001b[1;30m(raised from sys:1)\u001b[0m\n"
     ]
    },
    {
     "data": {
      "text/html": [
       "<pre style=\"white-space:pre;overflow-x:auto;line-height:normal;font-family:Menlo,'DejaVu Sans Mono',consolas,'Courier New',monospace\"><span style=\"color: #800000; text-decoration-color: #800000; font-weight: bold\">ERROR </span> GRPCClient@<span style=\"color: #008080; text-decoration-color: #008080; font-weight: bold\">634985</span> gRPC error: StatusCode.UNAVAILABLE failed to connect to all addresses  <span style=\"color: #7f7f7f; text-decoration-color: #7f7f7f\">[08/04/23 09:08:30]</span>\n",
       "       <span style=\"color: #800080; text-decoration-color: #800080; font-style: italic\">None</span>                                                                                     <span style=\"color: #7f7f7f; text-decoration-color: #7f7f7f\">                   </span>\n",
       "       The ongoing request is terminated as the server is not available or closed already.      <span style=\"color: #7f7f7f; text-decoration-color: #7f7f7f\">                   </span>\n",
       "</pre>\n"
      ],
      "text/plain": [
       "\u001b[1;31mERROR \u001b[0m GRPCClient@\u001b[1;36m634985\u001b[0m gRPC error: StatusCode.UNAVAILABLE failed to connect to all addresses  \u001b[2m[08/04/23 09:08:30]\u001b[0m\n",
       "       \u001b[3;35mNone\u001b[0m                                                                                     \u001b[2m                   \u001b[0m\n",
       "       The ongoing request is terminated as the server is not available or closed already.      \u001b[2m                   \u001b[0m\n"
      ]
     },
     "metadata": {},
     "output_type": "display_data"
    },
    {
     "data": {
      "text/html": [
       "<pre style=\"white-space:pre;overflow-x:auto;line-height:normal;font-family:Menlo,'DejaVu Sans Mono',consolas,'Courier New',monospace\">\n",
       "</pre>\n"
      ],
      "text/plain": [
       "\n"
      ]
     },
     "metadata": {},
     "output_type": "display_data"
    },
    {
     "name": "stderr",
     "output_type": "stream",
     "text": [
      "Exception in thread Thread-394:\n",
      "Traceback (most recent call last):\n",
      "  File \"/home/shadowmotion/anaconda3/envs/py10-117/lib/python3.10/site-packages/jina/clients/base/grpc.py\", line 142, in _get_results\n",
      "    async for response in stream_rpc.stream_rpc_with_retry():\n",
      "  File \"/home/shadowmotion/anaconda3/envs/py10-117/lib/python3.10/site-packages/jina/clients/base/stream_rpc.py\", line 51, in stream_rpc_with_retry\n",
      "    async for resp in stub.Call(\n",
      "  File \"/home/shadowmotion/anaconda3/envs/py10-117/lib/python3.10/site-packages/grpc/aio/_call.py\", line 326, in _fetch_stream_responses\n",
      "    await self._raise_for_status()\n",
      "  File \"/home/shadowmotion/anaconda3/envs/py10-117/lib/python3.10/site-packages/grpc/aio/_call.py\", line 236, in _raise_for_status\n",
      "    raise _create_rpc_error(await self.initial_metadata(), await\n",
      "grpc.aio._call.AioRpcError: <AioRpcError of RPC that terminated with:\n",
      "\tstatus = StatusCode.UNAVAILABLE\n",
      "\tdetails = \"failed to connect to all addresses\"\n",
      "\tdebug_error_string = \"{\"created\":\"@1691111310.618808060\",\"description\":\"Failed to pick subchannel\",\"file\":\"src/core/ext/filters/client_channel/client_channel.cc\",\"file_line\":3260,\"referenced_errors\":[{\"created\":\"@1691111310.618807072\",\"description\":\"failed to connect to all addresses\",\"file\":\"src/core/lib/transport/error_utils.cc\",\"file_line\":167,\"grpc_status\":14}]}\"\n",
      ">\n",
      "\n",
      "During handling of the above exception, another exception occurred:\n",
      "\n",
      "Traceback (most recent call last):\n",
      "  File \"/home/shadowmotion/anaconda3/envs/py10-117/lib/python3.10/threading.py\", line 1016, in _bootstrap_inner\n",
      "    self.run()\n",
      "  File \"/home/shadowmotion/anaconda3/envs/py10-117/lib/python3.10/site-packages/jina/helper.py\", line 1299, in run\n",
      "    self.result = asyncio.run(func(*args, **kwargs))\n",
      "  File \"/home/shadowmotion/anaconda3/envs/py10-117/lib/python3.10/asyncio/runners.py\", line 44, in run\n",
      "    return loop.run_until_complete(main)\n",
      "  File \"/home/shadowmotion/anaconda3/envs/py10-117/lib/python3.10/asyncio/base_events.py\", line 649, in run_until_complete\n",
      "    return future.result()\n",
      "  File \"/home/shadowmotion/anaconda3/envs/py10-117/lib/python3.10/site-packages/jina/clients/mixin.py\", line 401, in _get_results\n",
      "    async for resp in c._get_results(*args, **kwargs):\n",
      "  File \"/home/shadowmotion/anaconda3/envs/py10-117/lib/python3.10/site-packages/jina/clients/base/grpc.py\", line 169, in _get_results\n",
      "    await self._handle_error_and_metadata(err)\n",
      "  File \"/home/shadowmotion/anaconda3/envs/py10-117/lib/python3.10/site-packages/jina/clients/base/grpc.py\", line 188, in _handle_error_and_metadata\n",
      "    raise ConnectionError(msg)\n",
      "ConnectionError: gRPC error: StatusCode.UNAVAILABLE failed to connect to all addresses\n",
      "None\n",
      "\u001b[1;33mResourceWarning: Unclosed socket <zmq.Socket(zmq.PUSH) at 0x7f709e591240>\u001b[0m \u001b[1;30m(raised from sys:1)\u001b[0m\n"
     ]
    },
    {
     "data": {
      "text/html": [
       "<pre style=\"white-space:pre;overflow-x:auto;line-height:normal;font-family:Menlo,'DejaVu Sans Mono',consolas,'Courier New',monospace\">\n",
       "</pre>\n"
      ],
      "text/plain": [
       "\n"
      ]
     },
     "metadata": {},
     "output_type": "display_data"
    },
    {
     "name": "stderr",
     "output_type": "stream",
     "text": [
      "\u001b[1;33mResourceWarning: Unclosed socket <zmq.Socket(zmq.PUSH) at 0x7f709e591660>\u001b[0m \u001b[1;30m(raised from sys:1)\u001b[0m\n"
     ]
    },
    {
     "data": {
      "text/html": [
       "<pre style=\"white-space:pre;overflow-x:auto;line-height:normal;font-family:Menlo,'DejaVu Sans Mono',consolas,'Courier New',monospace\">\n",
       "</pre>\n"
      ],
      "text/plain": [
       "\n"
      ]
     },
     "metadata": {},
     "output_type": "display_data"
    },
    {
     "name": "stdout",
     "output_type": "stream",
     "text": [
      "['西安饮食股份有限公司', '2019年'] 2020-04-15__西安饮食股份有限公司__000721__西安饮食__2019年__年度报告\n"
     ]
    },
    {
     "name": "stderr",
     "output_type": "stream",
     "text": [
      "\u001b[1;33mResourceWarning: Unclosed socket <zmq.Socket(zmq.PUSH) at 0x7f709e590b80>\u001b[0m \u001b[1;30m(raised from sys:1)\u001b[0m\n"
     ]
    },
    {
     "data": {
      "text/html": [
       "<pre style=\"white-space:pre;overflow-x:auto;line-height:normal;font-family:Menlo,'DejaVu Sans Mono',consolas,'Courier New',monospace\"><span style=\"color: #800000; text-decoration-color: #800000; font-weight: bold\">ERROR </span> GRPCClient@<span style=\"color: #008080; text-decoration-color: #008080; font-weight: bold\">634985</span> gRPC error: StatusCode.UNAVAILABLE failed to connect to all addresses  <span style=\"color: #7f7f7f; text-decoration-color: #7f7f7f\">[08/04/23 09:08:44]</span>\n",
       "       <span style=\"color: #800080; text-decoration-color: #800080; font-style: italic\">None</span>                                                                                     <span style=\"color: #7f7f7f; text-decoration-color: #7f7f7f\">                   </span>\n",
       "       The ongoing request is terminated as the server is not available or closed already.      <span style=\"color: #7f7f7f; text-decoration-color: #7f7f7f\">                   </span>\n",
       "</pre>\n"
      ],
      "text/plain": [
       "\u001b[1;31mERROR \u001b[0m GRPCClient@\u001b[1;36m634985\u001b[0m gRPC error: StatusCode.UNAVAILABLE failed to connect to all addresses  \u001b[2m[08/04/23 09:08:44]\u001b[0m\n",
       "       \u001b[3;35mNone\u001b[0m                                                                                     \u001b[2m                   \u001b[0m\n",
       "       The ongoing request is terminated as the server is not available or closed already.      \u001b[2m                   \u001b[0m\n"
      ]
     },
     "metadata": {},
     "output_type": "display_data"
    },
    {
     "data": {
      "text/html": [
       "<pre style=\"white-space:pre;overflow-x:auto;line-height:normal;font-family:Menlo,'DejaVu Sans Mono',consolas,'Courier New',monospace\">\n",
       "</pre>\n"
      ],
      "text/plain": [
       "\n"
      ]
     },
     "metadata": {},
     "output_type": "display_data"
    },
    {
     "name": "stderr",
     "output_type": "stream",
     "text": [
      "Exception in thread Thread-397:\n",
      "Traceback (most recent call last):\n",
      "  File \"/home/shadowmotion/anaconda3/envs/py10-117/lib/python3.10/site-packages/jina/clients/base/grpc.py\", line 142, in _get_results\n",
      "    async for response in stream_rpc.stream_rpc_with_retry():\n",
      "  File \"/home/shadowmotion/anaconda3/envs/py10-117/lib/python3.10/site-packages/jina/clients/base/stream_rpc.py\", line 51, in stream_rpc_with_retry\n",
      "    async for resp in stub.Call(\n",
      "  File \"/home/shadowmotion/anaconda3/envs/py10-117/lib/python3.10/site-packages/grpc/aio/_call.py\", line 326, in _fetch_stream_responses\n",
      "    await self._raise_for_status()\n",
      "  File \"/home/shadowmotion/anaconda3/envs/py10-117/lib/python3.10/site-packages/grpc/aio/_call.py\", line 236, in _raise_for_status\n",
      "    raise _create_rpc_error(await self.initial_metadata(), await\n",
      "grpc.aio._call.AioRpcError: <AioRpcError of RPC that terminated with:\n",
      "\tstatus = StatusCode.UNAVAILABLE\n",
      "\tdetails = \"failed to connect to all addresses\"\n",
      "\tdebug_error_string = \"{\"created\":\"@1691111324.231253959\",\"description\":\"Failed to pick subchannel\",\"file\":\"src/core/ext/filters/client_channel/client_channel.cc\",\"file_line\":3260,\"referenced_errors\":[{\"created\":\"@1691111324.231250792\",\"description\":\"failed to connect to all addresses\",\"file\":\"src/core/lib/transport/error_utils.cc\",\"file_line\":167,\"grpc_status\":14}]}\"\n",
      ">\n",
      "\n",
      "During handling of the above exception, another exception occurred:\n",
      "\n",
      "Traceback (most recent call last):\n",
      "  File \"/home/shadowmotion/anaconda3/envs/py10-117/lib/python3.10/threading.py\", line 1016, in _bootstrap_inner\n",
      "    self.run()\n",
      "  File \"/home/shadowmotion/anaconda3/envs/py10-117/lib/python3.10/site-packages/jina/helper.py\", line 1299, in run\n",
      "    self.result = asyncio.run(func(*args, **kwargs))\n",
      "  File \"/home/shadowmotion/anaconda3/envs/py10-117/lib/python3.10/asyncio/runners.py\", line 44, in run\n",
      "    return loop.run_until_complete(main)\n",
      "  File \"/home/shadowmotion/anaconda3/envs/py10-117/lib/python3.10/asyncio/base_events.py\", line 649, in run_until_complete\n",
      "    return future.result()\n",
      "  File \"/home/shadowmotion/anaconda3/envs/py10-117/lib/python3.10/site-packages/jina/clients/mixin.py\", line 401, in _get_results\n",
      "    async for resp in c._get_results(*args, **kwargs):\n",
      "  File \"/home/shadowmotion/anaconda3/envs/py10-117/lib/python3.10/site-packages/jina/clients/base/grpc.py\", line 169, in _get_results\n",
      "    await self._handle_error_and_metadata(err)\n",
      "  File \"/home/shadowmotion/anaconda3/envs/py10-117/lib/python3.10/site-packages/jina/clients/base/grpc.py\", line 188, in _handle_error_and_metadata\n",
      "    raise ConnectionError(msg)\n",
      "ConnectionError: gRPC error: StatusCode.UNAVAILABLE failed to connect to all addresses\n",
      "None\n",
      "\u001b[1;33mResourceWarning: Unclosed socket <zmq.Socket(zmq.PUSH) at 0x7f709e591c60>\u001b[0m \u001b[1;30m(raised from sys:1)\u001b[0m\n"
     ]
    },
    {
     "data": {
      "text/html": [
       "<pre style=\"white-space:pre;overflow-x:auto;line-height:normal;font-family:Menlo,'DejaVu Sans Mono',consolas,'Courier New',monospace\">\n",
       "</pre>\n"
      ],
      "text/plain": [
       "\n"
      ]
     },
     "metadata": {},
     "output_type": "display_data"
    },
    {
     "name": "stderr",
     "output_type": "stream",
     "text": [
      "\u001b[1;33mResourceWarning: Unclosed socket <zmq.Socket(zmq.PUSH) at 0x7f709e591f60>\u001b[0m \u001b[1;30m(raised from sys:1)\u001b[0m\n"
     ]
    },
    {
     "data": {
      "text/html": [
       "<pre style=\"white-space:pre;overflow-x:auto;line-height:normal;font-family:Menlo,'DejaVu Sans Mono',consolas,'Courier New',monospace\">\n",
       "</pre>\n"
      ],
      "text/plain": [
       "\n"
      ]
     },
     "metadata": {},
     "output_type": "display_data"
    },
    {
     "name": "stderr",
     "output_type": "stream",
     "text": [
      "\u001b[1;33mResourceWarning: Unclosed socket <zmq.Socket(zmq.PUSH) at 0x7f709e591ae0>\u001b[0m \u001b[1;30m(raised from sys:1)\u001b[0m\n"
     ]
    },
    {
     "data": {
      "text/html": [
       "<pre style=\"white-space:pre;overflow-x:auto;line-height:normal;font-family:Menlo,'DejaVu Sans Mono',consolas,'Courier New',monospace\">\n",
       "</pre>\n"
      ],
      "text/plain": [
       "\n"
      ]
     },
     "metadata": {},
     "output_type": "display_data"
    },
    {
     "name": "stderr",
     "output_type": "stream",
     "text": [
      "\u001b[1;33mResourceWarning: Unclosed socket <zmq.Socket(zmq.PUSH) at 0x7f709e592200>\u001b[0m \u001b[1;30m(raised from sys:1)\u001b[0m\n"
     ]
    },
    {
     "data": {
      "text/html": [
       "<pre style=\"white-space:pre;overflow-x:auto;line-height:normal;font-family:Menlo,'DejaVu Sans Mono',consolas,'Courier New',monospace\">\n",
       "</pre>\n"
      ],
      "text/plain": [
       "\n"
      ]
     },
     "metadata": {},
     "output_type": "display_data"
    },
    {
     "name": "stdout",
     "output_type": "stream",
     "text": [
      "['德美化工', '2019年'] 2020-04-25__广东德美精细化工集团股份有限公司__002054__德美化工__2019年__年度报告\n"
     ]
    },
    {
     "name": "stderr",
     "output_type": "stream",
     "text": [
      "\u001b[1;33mResourceWarning: Unclosed socket <zmq.Socket(zmq.PUSH) at 0x7f709e592440>\u001b[0m \u001b[1;30m(raised from sys:1)\u001b[0m\n"
     ]
    },
    {
     "data": {
      "text/html": [
       "<pre style=\"white-space:pre;overflow-x:auto;line-height:normal;font-family:Menlo,'DejaVu Sans Mono',consolas,'Courier New',monospace\"><span style=\"color: #800000; text-decoration-color: #800000; font-weight: bold\">ERROR </span> GRPCClient@<span style=\"color: #008080; text-decoration-color: #008080; font-weight: bold\">634985</span> gRPC error: StatusCode.UNAVAILABLE failed to connect to all addresses  <span style=\"color: #7f7f7f; text-decoration-color: #7f7f7f\">[08/04/23 09:09:11]</span>\n",
       "       <span style=\"color: #800080; text-decoration-color: #800080; font-style: italic\">None</span>                                                                                     <span style=\"color: #7f7f7f; text-decoration-color: #7f7f7f\">                   </span>\n",
       "       The ongoing request is terminated as the server is not available or closed already.      <span style=\"color: #7f7f7f; text-decoration-color: #7f7f7f\">                   </span>\n",
       "</pre>\n"
      ],
      "text/plain": [
       "\u001b[1;31mERROR \u001b[0m GRPCClient@\u001b[1;36m634985\u001b[0m gRPC error: StatusCode.UNAVAILABLE failed to connect to all addresses  \u001b[2m[08/04/23 09:09:11]\u001b[0m\n",
       "       \u001b[3;35mNone\u001b[0m                                                                                     \u001b[2m                   \u001b[0m\n",
       "       The ongoing request is terminated as the server is not available or closed already.      \u001b[2m                   \u001b[0m\n"
      ]
     },
     "metadata": {},
     "output_type": "display_data"
    },
    {
     "data": {
      "text/html": [
       "<pre style=\"white-space:pre;overflow-x:auto;line-height:normal;font-family:Menlo,'DejaVu Sans Mono',consolas,'Courier New',monospace\">\n",
       "</pre>\n"
      ],
      "text/plain": [
       "\n"
      ]
     },
     "metadata": {},
     "output_type": "display_data"
    },
    {
     "name": "stderr",
     "output_type": "stream",
     "text": [
      "Exception in thread Thread-402:\n",
      "Traceback (most recent call last):\n",
      "  File \"/home/shadowmotion/anaconda3/envs/py10-117/lib/python3.10/site-packages/jina/clients/base/grpc.py\", line 142, in _get_results\n",
      "    async for response in stream_rpc.stream_rpc_with_retry():\n",
      "  File \"/home/shadowmotion/anaconda3/envs/py10-117/lib/python3.10/site-packages/jina/clients/base/stream_rpc.py\", line 51, in stream_rpc_with_retry\n",
      "    async for resp in stub.Call(\n",
      "  File \"/home/shadowmotion/anaconda3/envs/py10-117/lib/python3.10/site-packages/grpc/aio/_call.py\", line 326, in _fetch_stream_responses\n",
      "    await self._raise_for_status()\n",
      "  File \"/home/shadowmotion/anaconda3/envs/py10-117/lib/python3.10/site-packages/grpc/aio/_call.py\", line 236, in _raise_for_status\n",
      "    raise _create_rpc_error(await self.initial_metadata(), await\n",
      "grpc.aio._call.AioRpcError: <AioRpcError of RPC that terminated with:\n",
      "\tstatus = StatusCode.UNAVAILABLE\n",
      "\tdetails = \"failed to connect to all addresses\"\n",
      "\tdebug_error_string = \"{\"created\":\"@1691111351.099711246\",\"description\":\"Failed to pick subchannel\",\"file\":\"src/core/ext/filters/client_channel/client_channel.cc\",\"file_line\":3260,\"referenced_errors\":[{\"created\":\"@1691111351.099710067\",\"description\":\"failed to connect to all addresses\",\"file\":\"src/core/lib/transport/error_utils.cc\",\"file_line\":167,\"grpc_status\":14}]}\"\n",
      ">\n",
      "\n",
      "During handling of the above exception, another exception occurred:\n",
      "\n",
      "Traceback (most recent call last):\n",
      "  File \"/home/shadowmotion/anaconda3/envs/py10-117/lib/python3.10/threading.py\", line 1016, in _bootstrap_inner\n",
      "    self.run()\n",
      "  File \"/home/shadowmotion/anaconda3/envs/py10-117/lib/python3.10/site-packages/jina/helper.py\", line 1299, in run\n",
      "    self.result = asyncio.run(func(*args, **kwargs))\n",
      "  File \"/home/shadowmotion/anaconda3/envs/py10-117/lib/python3.10/asyncio/runners.py\", line 44, in run\n",
      "    return loop.run_until_complete(main)\n",
      "  File \"/home/shadowmotion/anaconda3/envs/py10-117/lib/python3.10/asyncio/base_events.py\", line 649, in run_until_complete\n",
      "    return future.result()\n",
      "  File \"/home/shadowmotion/anaconda3/envs/py10-117/lib/python3.10/site-packages/jina/clients/mixin.py\", line 401, in _get_results\n",
      "    async for resp in c._get_results(*args, **kwargs):\n",
      "  File \"/home/shadowmotion/anaconda3/envs/py10-117/lib/python3.10/site-packages/jina/clients/base/grpc.py\", line 169, in _get_results\n",
      "    await self._handle_error_and_metadata(err)\n",
      "  File \"/home/shadowmotion/anaconda3/envs/py10-117/lib/python3.10/site-packages/jina/clients/base/grpc.py\", line 188, in _handle_error_and_metadata\n",
      "    raise ConnectionError(msg)\n",
      "ConnectionError: gRPC error: StatusCode.UNAVAILABLE failed to connect to all addresses\n",
      "None\n",
      "\u001b[1;33mResourceWarning: Unclosed socket <zmq.Socket(zmq.PUSH) at 0x7f709e68fb20>\u001b[0m \u001b[1;30m(raised from sys:1)\u001b[0m\n"
     ]
    },
    {
     "data": {
      "text/html": [
       "<pre style=\"white-space:pre;overflow-x:auto;line-height:normal;font-family:Menlo,'DejaVu Sans Mono',consolas,'Courier New',monospace\">\n",
       "</pre>\n"
      ],
      "text/plain": [
       "\n"
      ]
     },
     "metadata": {},
     "output_type": "display_data"
    },
    {
     "data": {
      "text/html": [
       "<pre style=\"white-space:pre;overflow-x:auto;line-height:normal;font-family:Menlo,'DejaVu Sans Mono',consolas,'Courier New',monospace\">\n",
       "</pre>\n"
      ],
      "text/plain": [
       "\n"
      ]
     },
     "metadata": {},
     "output_type": "display_data"
    },
    {
     "name": "stdout",
     "output_type": "stream",
     "text": [
      "['苏州迈为科技股份有限公司', '2019年'] 2020-03-28__苏州迈为科技股份有限公司__300751__迈为股份__2019年__年度报告\n"
     ]
    },
    {
     "data": {
      "text/html": [
       "<pre style=\"white-space:pre;overflow-x:auto;line-height:normal;font-family:Menlo,'DejaVu Sans Mono',consolas,'Courier New',monospace\"><span style=\"color: #800000; text-decoration-color: #800000; font-weight: bold\">ERROR </span> GRPCClient@<span style=\"color: #008080; text-decoration-color: #008080; font-weight: bold\">634985</span> gRPC error: StatusCode.UNAVAILABLE failed to connect to all addresses  <span style=\"color: #7f7f7f; text-decoration-color: #7f7f7f\">[08/04/23 09:09:25]</span>\n",
       "       <span style=\"color: #800080; text-decoration-color: #800080; font-style: italic\">None</span>                                                                                     <span style=\"color: #7f7f7f; text-decoration-color: #7f7f7f\">                   </span>\n",
       "       The ongoing request is terminated as the server is not available or closed already.      <span style=\"color: #7f7f7f; text-decoration-color: #7f7f7f\">                   </span>\n",
       "</pre>\n"
      ],
      "text/plain": [
       "\u001b[1;31mERROR \u001b[0m GRPCClient@\u001b[1;36m634985\u001b[0m gRPC error: StatusCode.UNAVAILABLE failed to connect to all addresses  \u001b[2m[08/04/23 09:09:25]\u001b[0m\n",
       "       \u001b[3;35mNone\u001b[0m                                                                                     \u001b[2m                   \u001b[0m\n",
       "       The ongoing request is terminated as the server is not available or closed already.      \u001b[2m                   \u001b[0m\n"
      ]
     },
     "metadata": {},
     "output_type": "display_data"
    },
    {
     "data": {
      "text/html": [
       "<pre style=\"white-space:pre;overflow-x:auto;line-height:normal;font-family:Menlo,'DejaVu Sans Mono',consolas,'Courier New',monospace\">\n",
       "</pre>\n"
      ],
      "text/plain": [
       "\n"
      ]
     },
     "metadata": {},
     "output_type": "display_data"
    },
    {
     "name": "stderr",
     "output_type": "stream",
     "text": [
      "Exception in thread Thread-405:\n",
      "Traceback (most recent call last):\n",
      "  File \"/home/shadowmotion/anaconda3/envs/py10-117/lib/python3.10/site-packages/jina/clients/base/grpc.py\", line 142, in _get_results\n",
      "    async for response in stream_rpc.stream_rpc_with_retry():\n",
      "  File \"/home/shadowmotion/anaconda3/envs/py10-117/lib/python3.10/site-packages/jina/clients/base/stream_rpc.py\", line 51, in stream_rpc_with_retry\n",
      "    async for resp in stub.Call(\n",
      "  File \"/home/shadowmotion/anaconda3/envs/py10-117/lib/python3.10/site-packages/grpc/aio/_call.py\", line 326, in _fetch_stream_responses\n",
      "    await self._raise_for_status()\n",
      "  File \"/home/shadowmotion/anaconda3/envs/py10-117/lib/python3.10/site-packages/grpc/aio/_call.py\", line 236, in _raise_for_status\n",
      "    raise _create_rpc_error(await self.initial_metadata(), await\n",
      "grpc.aio._call.AioRpcError: <AioRpcError of RPC that terminated with:\n",
      "\tstatus = StatusCode.UNAVAILABLE\n",
      "\tdetails = \"failed to connect to all addresses\"\n",
      "\tdebug_error_string = \"{\"created\":\"@1691111365.230495324\",\"description\":\"Failed to pick subchannel\",\"file\":\"src/core/ext/filters/client_channel/client_channel.cc\",\"file_line\":3260,\"referenced_errors\":[{\"created\":\"@1691111365.230494400\",\"description\":\"failed to connect to all addresses\",\"file\":\"src/core/lib/transport/error_utils.cc\",\"file_line\":167,\"grpc_status\":14}]}\"\n",
      ">\n",
      "\n",
      "During handling of the above exception, another exception occurred:\n",
      "\n",
      "Traceback (most recent call last):\n",
      "  File \"/home/shadowmotion/anaconda3/envs/py10-117/lib/python3.10/threading.py\", line 1016, in _bootstrap_inner\n",
      "    self.run()\n",
      "  File \"/home/shadowmotion/anaconda3/envs/py10-117/lib/python3.10/site-packages/jina/helper.py\", line 1299, in run\n",
      "    self.result = asyncio.run(func(*args, **kwargs))\n",
      "  File \"/home/shadowmotion/anaconda3/envs/py10-117/lib/python3.10/asyncio/runners.py\", line 44, in run\n",
      "    return loop.run_until_complete(main)\n",
      "  File \"/home/shadowmotion/anaconda3/envs/py10-117/lib/python3.10/asyncio/base_events.py\", line 649, in run_until_complete\n",
      "    return future.result()\n",
      "  File \"/home/shadowmotion/anaconda3/envs/py10-117/lib/python3.10/site-packages/jina/clients/mixin.py\", line 401, in _get_results\n",
      "    async for resp in c._get_results(*args, **kwargs):\n",
      "  File \"/home/shadowmotion/anaconda3/envs/py10-117/lib/python3.10/site-packages/jina/clients/base/grpc.py\", line 169, in _get_results\n",
      "    await self._handle_error_and_metadata(err)\n",
      "  File \"/home/shadowmotion/anaconda3/envs/py10-117/lib/python3.10/site-packages/jina/clients/base/grpc.py\", line 188, in _handle_error_and_metadata\n",
      "    raise ConnectionError(msg)\n",
      "ConnectionError: gRPC error: StatusCode.UNAVAILABLE failed to connect to all addresses\n",
      "None\n"
     ]
    },
    {
     "data": {
      "text/html": [
       "<pre style=\"white-space:pre;overflow-x:auto;line-height:normal;font-family:Menlo,'DejaVu Sans Mono',consolas,'Courier New',monospace\">\n",
       "</pre>\n"
      ],
      "text/plain": [
       "\n"
      ]
     },
     "metadata": {},
     "output_type": "display_data"
    },
    {
     "name": "stderr",
     "output_type": "stream",
     "text": [
      "\u001b[1;33mResourceWarning: Unclosed socket <zmq.Socket(zmq.PUSH) at 0x7f709e54b1c0>\u001b[0m \u001b[1;30m(raised from sys:1)\u001b[0m\n"
     ]
    },
    {
     "data": {
      "text/html": [
       "<pre style=\"white-space:pre;overflow-x:auto;line-height:normal;font-family:Menlo,'DejaVu Sans Mono',consolas,'Courier New',monospace\">\n",
       "</pre>\n"
      ],
      "text/plain": [
       "\n"
      ]
     },
     "metadata": {},
     "output_type": "display_data"
    },
    {
     "name": "stdout",
     "output_type": "stream",
     "text": [
      "['招商局积余产业运营服务股份有限公司', '2019年'] 2020-04-14__招商局积余产业运营服务股份有限公司__001914__招商积余__2019年__年度报告\n"
     ]
    },
    {
     "name": "stderr",
     "output_type": "stream",
     "text": [
      "\u001b[1;33mResourceWarning: Unclosed socket <zmq.Socket(zmq.PUSH) at 0x7f709e548580>\u001b[0m \u001b[1;30m(raised from sys:1)\u001b[0m\n"
     ]
    },
    {
     "data": {
      "text/html": [
       "<pre style=\"white-space:pre;overflow-x:auto;line-height:normal;font-family:Menlo,'DejaVu Sans Mono',consolas,'Courier New',monospace\"><span style=\"color: #800000; text-decoration-color: #800000; font-weight: bold\">ERROR </span> GRPCClient@<span style=\"color: #008080; text-decoration-color: #008080; font-weight: bold\">634985</span> gRPC error: StatusCode.UNAVAILABLE failed to connect to all addresses  <span style=\"color: #7f7f7f; text-decoration-color: #7f7f7f\">[08/04/23 09:09:40]</span>\n",
       "       <span style=\"color: #800080; text-decoration-color: #800080; font-style: italic\">None</span>                                                                                     <span style=\"color: #7f7f7f; text-decoration-color: #7f7f7f\">                   </span>\n",
       "       The ongoing request is terminated as the server is not available or closed already.      <span style=\"color: #7f7f7f; text-decoration-color: #7f7f7f\">                   </span>\n",
       "</pre>\n"
      ],
      "text/plain": [
       "\u001b[1;31mERROR \u001b[0m GRPCClient@\u001b[1;36m634985\u001b[0m gRPC error: StatusCode.UNAVAILABLE failed to connect to all addresses  \u001b[2m[08/04/23 09:09:40]\u001b[0m\n",
       "       \u001b[3;35mNone\u001b[0m                                                                                     \u001b[2m                   \u001b[0m\n",
       "       The ongoing request is terminated as the server is not available or closed already.      \u001b[2m                   \u001b[0m\n"
      ]
     },
     "metadata": {},
     "output_type": "display_data"
    },
    {
     "data": {
      "text/html": [
       "<pre style=\"white-space:pre;overflow-x:auto;line-height:normal;font-family:Menlo,'DejaVu Sans Mono',consolas,'Courier New',monospace\">\n",
       "</pre>\n"
      ],
      "text/plain": [
       "\n"
      ]
     },
     "metadata": {},
     "output_type": "display_data"
    },
    {
     "name": "stderr",
     "output_type": "stream",
     "text": [
      "Exception in thread Thread-408:\n",
      "Traceback (most recent call last):\n",
      "  File \"/home/shadowmotion/anaconda3/envs/py10-117/lib/python3.10/site-packages/jina/clients/base/grpc.py\", line 142, in _get_results\n",
      "    async for response in stream_rpc.stream_rpc_with_retry():\n",
      "  File \"/home/shadowmotion/anaconda3/envs/py10-117/lib/python3.10/site-packages/jina/clients/base/stream_rpc.py\", line 51, in stream_rpc_with_retry\n",
      "    async for resp in stub.Call(\n",
      "  File \"/home/shadowmotion/anaconda3/envs/py10-117/lib/python3.10/site-packages/grpc/aio/_call.py\", line 326, in _fetch_stream_responses\n",
      "    await self._raise_for_status()\n",
      "  File \"/home/shadowmotion/anaconda3/envs/py10-117/lib/python3.10/site-packages/grpc/aio/_call.py\", line 236, in _raise_for_status\n",
      "    raise _create_rpc_error(await self.initial_metadata(), await\n",
      "grpc.aio._call.AioRpcError: <AioRpcError of RPC that terminated with:\n",
      "\tstatus = StatusCode.UNAVAILABLE\n",
      "\tdetails = \"failed to connect to all addresses\"\n",
      "\tdebug_error_string = \"{\"created\":\"@1691111380.686560918\",\"description\":\"Failed to pick subchannel\",\"file\":\"src/core/ext/filters/client_channel/client_channel.cc\",\"file_line\":3260,\"referenced_errors\":[{\"created\":\"@1691111380.686560066\",\"description\":\"failed to connect to all addresses\",\"file\":\"src/core/lib/transport/error_utils.cc\",\"file_line\":167,\"grpc_status\":14}]}\"\n",
      ">\n",
      "\n",
      "During handling of the above exception, another exception occurred:\n",
      "\n",
      "Traceback (most recent call last):\n",
      "  File \"/home/shadowmotion/anaconda3/envs/py10-117/lib/python3.10/threading.py\", line 1016, in _bootstrap_inner\n",
      "    self.run()\n",
      "  File \"/home/shadowmotion/anaconda3/envs/py10-117/lib/python3.10/site-packages/jina/helper.py\", line 1299, in run\n",
      "    self.result = asyncio.run(func(*args, **kwargs))\n",
      "  File \"/home/shadowmotion/anaconda3/envs/py10-117/lib/python3.10/asyncio/runners.py\", line 44, in run\n",
      "    return loop.run_until_complete(main)\n",
      "  File \"/home/shadowmotion/anaconda3/envs/py10-117/lib/python3.10/asyncio/base_events.py\", line 649, in run_until_complete\n",
      "    return future.result()\n",
      "  File \"/home/shadowmotion/anaconda3/envs/py10-117/lib/python3.10/site-packages/jina/clients/mixin.py\", line 401, in _get_results\n",
      "    async for resp in c._get_results(*args, **kwargs):\n",
      "  File \"/home/shadowmotion/anaconda3/envs/py10-117/lib/python3.10/site-packages/jina/clients/base/grpc.py\", line 169, in _get_results\n",
      "    await self._handle_error_and_metadata(err)\n",
      "  File \"/home/shadowmotion/anaconda3/envs/py10-117/lib/python3.10/site-packages/jina/clients/base/grpc.py\", line 188, in _handle_error_and_metadata\n",
      "    raise ConnectionError(msg)\n",
      "ConnectionError: gRPC error: StatusCode.UNAVAILABLE failed to connect to all addresses\n",
      "None\n",
      "\u001b[1;33mResourceWarning: Unclosed socket <zmq.Socket(zmq.PUSH) at 0x7f709e54bbe0>\u001b[0m \u001b[1;30m(raised from sys:1)\u001b[0m\n"
     ]
    },
    {
     "data": {
      "text/html": [
       "<pre style=\"white-space:pre;overflow-x:auto;line-height:normal;font-family:Menlo,'DejaVu Sans Mono',consolas,'Courier New',monospace\">\n",
       "</pre>\n"
      ],
      "text/plain": [
       "\n"
      ]
     },
     "metadata": {},
     "output_type": "display_data"
    },
    {
     "name": "stderr",
     "output_type": "stream",
     "text": [
      "\u001b[1;33mResourceWarning: Unclosed socket <zmq.Socket(zmq.PUSH) at 0x7f709e54ba00>\u001b[0m \u001b[1;30m(raised from sys:1)\u001b[0m\n"
     ]
    },
    {
     "data": {
      "text/html": [
       "<pre style=\"white-space:pre;overflow-x:auto;line-height:normal;font-family:Menlo,'DejaVu Sans Mono',consolas,'Courier New',monospace\">\n",
       "</pre>\n"
      ],
      "text/plain": [
       "\n"
      ]
     },
     "metadata": {},
     "output_type": "display_data"
    },
    {
     "name": "stdout",
     "output_type": "stream",
     "text": [
      "['同花顺', '2019年'] 2020-02-25__浙江核新同花顺网络信息股份有限公司__300033__同花顺__2019年__年度报告\n"
     ]
    },
    {
     "data": {
      "text/html": [
       "<pre style=\"white-space:pre;overflow-x:auto;line-height:normal;font-family:Menlo,'DejaVu Sans Mono',consolas,'Courier New',monospace\"><span style=\"color: #800000; text-decoration-color: #800000; font-weight: bold\">ERROR </span> GRPCClient@<span style=\"color: #008080; text-decoration-color: #008080; font-weight: bold\">634985</span> gRPC error: StatusCode.UNAVAILABLE failed to connect to all addresses  <span style=\"color: #7f7f7f; text-decoration-color: #7f7f7f\">[08/04/23 09:09:54]</span>\n",
       "       <span style=\"color: #800080; text-decoration-color: #800080; font-style: italic\">None</span>                                                                                     <span style=\"color: #7f7f7f; text-decoration-color: #7f7f7f\">                   </span>\n",
       "       The ongoing request is terminated as the server is not available or closed already.      <span style=\"color: #7f7f7f; text-decoration-color: #7f7f7f\">                   </span>\n",
       "</pre>\n"
      ],
      "text/plain": [
       "\u001b[1;31mERROR \u001b[0m GRPCClient@\u001b[1;36m634985\u001b[0m gRPC error: StatusCode.UNAVAILABLE failed to connect to all addresses  \u001b[2m[08/04/23 09:09:54]\u001b[0m\n",
       "       \u001b[3;35mNone\u001b[0m                                                                                     \u001b[2m                   \u001b[0m\n",
       "       The ongoing request is terminated as the server is not available or closed already.      \u001b[2m                   \u001b[0m\n"
      ]
     },
     "metadata": {},
     "output_type": "display_data"
    },
    {
     "data": {
      "text/html": [
       "<pre style=\"white-space:pre;overflow-x:auto;line-height:normal;font-family:Menlo,'DejaVu Sans Mono',consolas,'Courier New',monospace\">\n",
       "</pre>\n"
      ],
      "text/plain": [
       "\n"
      ]
     },
     "metadata": {},
     "output_type": "display_data"
    },
    {
     "name": "stderr",
     "output_type": "stream",
     "text": [
      "Exception in thread Thread-411:\n",
      "Traceback (most recent call last):\n",
      "  File \"/home/shadowmotion/anaconda3/envs/py10-117/lib/python3.10/site-packages/jina/clients/base/grpc.py\", line 142, in _get_results\n",
      "    async for response in stream_rpc.stream_rpc_with_retry():\n",
      "  File \"/home/shadowmotion/anaconda3/envs/py10-117/lib/python3.10/site-packages/jina/clients/base/stream_rpc.py\", line 51, in stream_rpc_with_retry\n",
      "    async for resp in stub.Call(\n",
      "  File \"/home/shadowmotion/anaconda3/envs/py10-117/lib/python3.10/site-packages/grpc/aio/_call.py\", line 326, in _fetch_stream_responses\n",
      "    await self._raise_for_status()\n",
      "  File \"/home/shadowmotion/anaconda3/envs/py10-117/lib/python3.10/site-packages/grpc/aio/_call.py\", line 236, in _raise_for_status\n",
      "    raise _create_rpc_error(await self.initial_metadata(), await\n",
      "grpc.aio._call.AioRpcError: <AioRpcError of RPC that terminated with:\n",
      "\tstatus = StatusCode.UNAVAILABLE\n",
      "\tdetails = \"failed to connect to all addresses\"\n",
      "\tdebug_error_string = \"{\"created\":\"@1691111394.538152937\",\"description\":\"Failed to pick subchannel\",\"file\":\"src/core/ext/filters/client_channel/client_channel.cc\",\"file_line\":3260,\"referenced_errors\":[{\"created\":\"@1691111394.538150468\",\"description\":\"failed to connect to all addresses\",\"file\":\"src/core/lib/transport/error_utils.cc\",\"file_line\":167,\"grpc_status\":14}]}\"\n",
      ">\n",
      "\n",
      "During handling of the above exception, another exception occurred:\n",
      "\n",
      "Traceback (most recent call last):\n",
      "  File \"/home/shadowmotion/anaconda3/envs/py10-117/lib/python3.10/threading.py\", line 1016, in _bootstrap_inner\n",
      "    self.run()\n",
      "  File \"/home/shadowmotion/anaconda3/envs/py10-117/lib/python3.10/site-packages/jina/helper.py\", line 1299, in run\n",
      "    self.result = asyncio.run(func(*args, **kwargs))\n",
      "  File \"/home/shadowmotion/anaconda3/envs/py10-117/lib/python3.10/asyncio/runners.py\", line 44, in run\n",
      "    return loop.run_until_complete(main)\n",
      "  File \"/home/shadowmotion/anaconda3/envs/py10-117/lib/python3.10/asyncio/base_events.py\", line 649, in run_until_complete\n",
      "    return future.result()\n",
      "  File \"/home/shadowmotion/anaconda3/envs/py10-117/lib/python3.10/site-packages/jina/clients/mixin.py\", line 401, in _get_results\n",
      "    async for resp in c._get_results(*args, **kwargs):\n",
      "  File \"/home/shadowmotion/anaconda3/envs/py10-117/lib/python3.10/site-packages/jina/clients/base/grpc.py\", line 169, in _get_results\n",
      "    await self._handle_error_and_metadata(err)\n",
      "  File \"/home/shadowmotion/anaconda3/envs/py10-117/lib/python3.10/site-packages/jina/clients/base/grpc.py\", line 188, in _handle_error_and_metadata\n",
      "    raise ConnectionError(msg)\n",
      "ConnectionError: gRPC error: StatusCode.UNAVAILABLE failed to connect to all addresses\n",
      "None\n"
     ]
    },
    {
     "data": {
      "text/html": [
       "<pre style=\"white-space:pre;overflow-x:auto;line-height:normal;font-family:Menlo,'DejaVu Sans Mono',consolas,'Courier New',monospace\">\n",
       "</pre>\n"
      ],
      "text/plain": [
       "\n"
      ]
     },
     "metadata": {},
     "output_type": "display_data"
    },
    {
     "name": "stderr",
     "output_type": "stream",
     "text": [
      "\u001b[1;33mResourceWarning: Unclosed socket <zmq.Socket(zmq.PUSH) at 0x7f709e591960>\u001b[0m \u001b[1;30m(raised from sys:1)\u001b[0m\n"
     ]
    },
    {
     "data": {
      "text/html": [
       "<pre style=\"white-space:pre;overflow-x:auto;line-height:normal;font-family:Menlo,'DejaVu Sans Mono',consolas,'Courier New',monospace\">\n",
       "</pre>\n"
      ],
      "text/plain": [
       "\n"
      ]
     },
     "metadata": {},
     "output_type": "display_data"
    },
    {
     "name": "stdout",
     "output_type": "stream",
     "text": [
      "['南方精工', '2019年'] 2020-03-20__江苏南方精工股份有限公司__002553__南方精工__2019年__年度报告\n"
     ]
    },
    {
     "data": {
      "text/html": [
       "<pre style=\"white-space:pre;overflow-x:auto;line-height:normal;font-family:Menlo,'DejaVu Sans Mono',consolas,'Courier New',monospace\"><span style=\"color: #800000; text-decoration-color: #800000; font-weight: bold\">ERROR </span> GRPCClient@<span style=\"color: #008080; text-decoration-color: #008080; font-weight: bold\">634985</span> gRPC error: StatusCode.UNAVAILABLE failed to connect to all addresses  <span style=\"color: #7f7f7f; text-decoration-color: #7f7f7f\">[08/04/23 09:10:08]</span>\n",
       "       <span style=\"color: #800080; text-decoration-color: #800080; font-style: italic\">None</span>                                                                                     <span style=\"color: #7f7f7f; text-decoration-color: #7f7f7f\">                   </span>\n",
       "       The ongoing request is terminated as the server is not available or closed already.      <span style=\"color: #7f7f7f; text-decoration-color: #7f7f7f\">                   </span>\n",
       "</pre>\n"
      ],
      "text/plain": [
       "\u001b[1;31mERROR \u001b[0m GRPCClient@\u001b[1;36m634985\u001b[0m gRPC error: StatusCode.UNAVAILABLE failed to connect to all addresses  \u001b[2m[08/04/23 09:10:08]\u001b[0m\n",
       "       \u001b[3;35mNone\u001b[0m                                                                                     \u001b[2m                   \u001b[0m\n",
       "       The ongoing request is terminated as the server is not available or closed already.      \u001b[2m                   \u001b[0m\n"
      ]
     },
     "metadata": {},
     "output_type": "display_data"
    },
    {
     "data": {
      "text/html": [
       "<pre style=\"white-space:pre;overflow-x:auto;line-height:normal;font-family:Menlo,'DejaVu Sans Mono',consolas,'Courier New',monospace\">\n",
       "</pre>\n"
      ],
      "text/plain": [
       "\n"
      ]
     },
     "metadata": {},
     "output_type": "display_data"
    },
    {
     "name": "stderr",
     "output_type": "stream",
     "text": [
      "Exception in thread Thread-414:\n",
      "Traceback (most recent call last):\n",
      "  File \"/home/shadowmotion/anaconda3/envs/py10-117/lib/python3.10/site-packages/jina/clients/base/grpc.py\", line 142, in _get_results\n",
      "    async for response in stream_rpc.stream_rpc_with_retry():\n",
      "  File \"/home/shadowmotion/anaconda3/envs/py10-117/lib/python3.10/site-packages/jina/clients/base/stream_rpc.py\", line 51, in stream_rpc_with_retry\n",
      "    async for resp in stub.Call(\n",
      "  File \"/home/shadowmotion/anaconda3/envs/py10-117/lib/python3.10/site-packages/grpc/aio/_call.py\", line 326, in _fetch_stream_responses\n",
      "    await self._raise_for_status()\n",
      "  File \"/home/shadowmotion/anaconda3/envs/py10-117/lib/python3.10/site-packages/grpc/aio/_call.py\", line 236, in _raise_for_status\n",
      "    raise _create_rpc_error(await self.initial_metadata(), await\n",
      "grpc.aio._call.AioRpcError: <AioRpcError of RPC that terminated with:\n",
      "\tstatus = StatusCode.UNAVAILABLE\n",
      "\tdetails = \"failed to connect to all addresses\"\n",
      "\tdebug_error_string = \"{\"created\":\"@1691111408.168245961\",\"description\":\"Failed to pick subchannel\",\"file\":\"src/core/ext/filters/client_channel/client_channel.cc\",\"file_line\":3260,\"referenced_errors\":[{\"created\":\"@1691111408.168242694\",\"description\":\"failed to connect to all addresses\",\"file\":\"src/core/lib/transport/error_utils.cc\",\"file_line\":167,\"grpc_status\":14}]}\"\n",
      ">\n",
      "\n",
      "During handling of the above exception, another exception occurred:\n",
      "\n",
      "Traceback (most recent call last):\n",
      "  File \"/home/shadowmotion/anaconda3/envs/py10-117/lib/python3.10/threading.py\", line 1016, in _bootstrap_inner\n",
      "    self.run()\n",
      "  File \"/home/shadowmotion/anaconda3/envs/py10-117/lib/python3.10/site-packages/jina/helper.py\", line 1299, in run\n",
      "    self.result = asyncio.run(func(*args, **kwargs))\n",
      "  File \"/home/shadowmotion/anaconda3/envs/py10-117/lib/python3.10/asyncio/runners.py\", line 44, in run\n",
      "    return loop.run_until_complete(main)\n",
      "  File \"/home/shadowmotion/anaconda3/envs/py10-117/lib/python3.10/asyncio/base_events.py\", line 649, in run_until_complete\n",
      "    return future.result()\n",
      "  File \"/home/shadowmotion/anaconda3/envs/py10-117/lib/python3.10/site-packages/jina/clients/mixin.py\", line 401, in _get_results\n",
      "    async for resp in c._get_results(*args, **kwargs):\n",
      "  File \"/home/shadowmotion/anaconda3/envs/py10-117/lib/python3.10/site-packages/jina/clients/base/grpc.py\", line 169, in _get_results\n",
      "    await self._handle_error_and_metadata(err)\n",
      "  File \"/home/shadowmotion/anaconda3/envs/py10-117/lib/python3.10/site-packages/jina/clients/base/grpc.py\", line 188, in _handle_error_and_metadata\n",
      "    raise ConnectionError(msg)\n",
      "ConnectionError: gRPC error: StatusCode.UNAVAILABLE failed to connect to all addresses\n",
      "None\n",
      "\u001b[1;33mResourceWarning: Unclosed socket <zmq.Socket(zmq.PUSH) at 0x7f709e5911e0>\u001b[0m \u001b[1;30m(raised from sys:1)\u001b[0m\n"
     ]
    },
    {
     "data": {
      "text/html": [
       "<pre style=\"white-space:pre;overflow-x:auto;line-height:normal;font-family:Menlo,'DejaVu Sans Mono',consolas,'Courier New',monospace\">\n",
       "</pre>\n"
      ],
      "text/plain": [
       "\n"
      ]
     },
     "metadata": {},
     "output_type": "display_data"
    },
    {
     "name": "stderr",
     "output_type": "stream",
     "text": [
      "\u001b[1;33mResourceWarning: Unclosed socket <zmq.Socket(zmq.PUSH) at 0x7f709e592680>\u001b[0m \u001b[1;30m(raised from sys:1)\u001b[0m\n"
     ]
    },
    {
     "data": {
      "text/html": [
       "<pre style=\"white-space:pre;overflow-x:auto;line-height:normal;font-family:Menlo,'DejaVu Sans Mono',consolas,'Courier New',monospace\">\n",
       "</pre>\n"
      ],
      "text/plain": [
       "\n"
      ]
     },
     "metadata": {},
     "output_type": "display_data"
    },
    {
     "name": "stdout",
     "output_type": "stream",
     "text": [
      "['东华工程科技股份有限公司', '2019年'] 2020-03-31__东华工程科技股份有限公司__002140__东华科技__2019年__年度报告\n"
     ]
    },
    {
     "data": {
      "text/html": [
       "<pre style=\"white-space:pre;overflow-x:auto;line-height:normal;font-family:Menlo,'DejaVu Sans Mono',consolas,'Courier New',monospace\"><span style=\"color: #800000; text-decoration-color: #800000; font-weight: bold\">ERROR </span> GRPCClient@<span style=\"color: #008080; text-decoration-color: #008080; font-weight: bold\">634985</span> gRPC error: StatusCode.UNAVAILABLE failed to connect to all addresses  <span style=\"color: #7f7f7f; text-decoration-color: #7f7f7f\">[08/04/23 09:10:22]</span>\n",
       "       <span style=\"color: #800080; text-decoration-color: #800080; font-style: italic\">None</span>                                                                                     <span style=\"color: #7f7f7f; text-decoration-color: #7f7f7f\">                   </span>\n",
       "       The ongoing request is terminated as the server is not available or closed already.      <span style=\"color: #7f7f7f; text-decoration-color: #7f7f7f\">                   </span>\n",
       "</pre>\n"
      ],
      "text/plain": [
       "\u001b[1;31mERROR \u001b[0m GRPCClient@\u001b[1;36m634985\u001b[0m gRPC error: StatusCode.UNAVAILABLE failed to connect to all addresses  \u001b[2m[08/04/23 09:10:22]\u001b[0m\n",
       "       \u001b[3;35mNone\u001b[0m                                                                                     \u001b[2m                   \u001b[0m\n",
       "       The ongoing request is terminated as the server is not available or closed already.      \u001b[2m                   \u001b[0m\n"
      ]
     },
     "metadata": {},
     "output_type": "display_data"
    },
    {
     "data": {
      "text/html": [
       "<pre style=\"white-space:pre;overflow-x:auto;line-height:normal;font-family:Menlo,'DejaVu Sans Mono',consolas,'Courier New',monospace\">\n",
       "</pre>\n"
      ],
      "text/plain": [
       "\n"
      ]
     },
     "metadata": {},
     "output_type": "display_data"
    },
    {
     "name": "stderr",
     "output_type": "stream",
     "text": [
      "Exception in thread Thread-417:\n",
      "Traceback (most recent call last):\n",
      "  File \"/home/shadowmotion/anaconda3/envs/py10-117/lib/python3.10/site-packages/jina/clients/base/grpc.py\", line 142, in _get_results\n",
      "    async for response in stream_rpc.stream_rpc_with_retry():\n",
      "  File \"/home/shadowmotion/anaconda3/envs/py10-117/lib/python3.10/site-packages/jina/clients/base/stream_rpc.py\", line 51, in stream_rpc_with_retry\n",
      "    async for resp in stub.Call(\n",
      "  File \"/home/shadowmotion/anaconda3/envs/py10-117/lib/python3.10/site-packages/grpc/aio/_call.py\", line 326, in _fetch_stream_responses\n",
      "    await self._raise_for_status()\n",
      "  File \"/home/shadowmotion/anaconda3/envs/py10-117/lib/python3.10/site-packages/grpc/aio/_call.py\", line 236, in _raise_for_status\n",
      "    raise _create_rpc_error(await self.initial_metadata(), await\n",
      "grpc.aio._call.AioRpcError: <AioRpcError of RPC that terminated with:\n",
      "\tstatus = StatusCode.UNAVAILABLE\n",
      "\tdetails = \"failed to connect to all addresses\"\n",
      "\tdebug_error_string = \"{\"created\":\"@1691111422.225985157\",\"description\":\"Failed to pick subchannel\",\"file\":\"src/core/ext/filters/client_channel/client_channel.cc\",\"file_line\":3260,\"referenced_errors\":[{\"created\":\"@1691111422.225982177\",\"description\":\"failed to connect to all addresses\",\"file\":\"src/core/lib/transport/error_utils.cc\",\"file_line\":167,\"grpc_status\":14}]}\"\n",
      ">\n",
      "\n",
      "During handling of the above exception, another exception occurred:\n",
      "\n",
      "Traceback (most recent call last):\n",
      "  File \"/home/shadowmotion/anaconda3/envs/py10-117/lib/python3.10/threading.py\", line 1016, in _bootstrap_inner\n",
      "    self.run()\n",
      "  File \"/home/shadowmotion/anaconda3/envs/py10-117/lib/python3.10/site-packages/jina/helper.py\", line 1299, in run\n",
      "    self.result = asyncio.run(func(*args, **kwargs))\n",
      "  File \"/home/shadowmotion/anaconda3/envs/py10-117/lib/python3.10/asyncio/runners.py\", line 44, in run\n",
      "    return loop.run_until_complete(main)\n",
      "  File \"/home/shadowmotion/anaconda3/envs/py10-117/lib/python3.10/asyncio/base_events.py\", line 649, in run_until_complete\n",
      "    return future.result()\n",
      "  File \"/home/shadowmotion/anaconda3/envs/py10-117/lib/python3.10/site-packages/jina/clients/mixin.py\", line 401, in _get_results\n",
      "    async for resp in c._get_results(*args, **kwargs):\n",
      "  File \"/home/shadowmotion/anaconda3/envs/py10-117/lib/python3.10/site-packages/jina/clients/base/grpc.py\", line 169, in _get_results\n",
      "    await self._handle_error_and_metadata(err)\n",
      "  File \"/home/shadowmotion/anaconda3/envs/py10-117/lib/python3.10/site-packages/jina/clients/base/grpc.py\", line 188, in _handle_error_and_metadata\n",
      "    raise ConnectionError(msg)\n",
      "ConnectionError: gRPC error: StatusCode.UNAVAILABLE failed to connect to all addresses\n",
      "None\n",
      "\u001b[1;33mResourceWarning: Unclosed socket <zmq.Socket(zmq.PUSH) at 0x7f709e54b820>\u001b[0m \u001b[1;30m(raised from sys:1)\u001b[0m\n"
     ]
    },
    {
     "data": {
      "text/html": [
       "<pre style=\"white-space:pre;overflow-x:auto;line-height:normal;font-family:Menlo,'DejaVu Sans Mono',consolas,'Courier New',monospace\">\n",
       "</pre>\n"
      ],
      "text/plain": [
       "\n"
      ]
     },
     "metadata": {},
     "output_type": "display_data"
    },
    {
     "name": "stderr",
     "output_type": "stream",
     "text": [
      "\u001b[1;33mResourceWarning: Unclosed socket <zmq.Socket(zmq.PUSH) at 0x7f709e592560>\u001b[0m \u001b[1;30m(raised from sys:1)\u001b[0m\n"
     ]
    },
    {
     "data": {
      "text/html": [
       "<pre style=\"white-space:pre;overflow-x:auto;line-height:normal;font-family:Menlo,'DejaVu Sans Mono',consolas,'Courier New',monospace\">\n",
       "</pre>\n"
      ],
      "text/plain": [
       "\n"
      ]
     },
     "metadata": {},
     "output_type": "display_data"
    },
    {
     "name": "stdout",
     "output_type": "stream",
     "text": [
      "['江西铜业', '2019年'] 2020-03-31__江西铜业股份有限公司__600362__江西铜业__2019年__年度报告\n"
     ]
    },
    {
     "name": "stderr",
     "output_type": "stream",
     "text": [
      "\u001b[1;33mResourceWarning: Unclosed socket <zmq.Socket(zmq.PUSH) at 0x7f709e592140>\u001b[0m \u001b[1;30m(raised from sys:1)\u001b[0m\n"
     ]
    },
    {
     "data": {
      "text/html": [
       "<pre style=\"white-space:pre;overflow-x:auto;line-height:normal;font-family:Menlo,'DejaVu Sans Mono',consolas,'Courier New',monospace\"><span style=\"color: #800000; text-decoration-color: #800000; font-weight: bold\">ERROR </span> GRPCClient@<span style=\"color: #008080; text-decoration-color: #008080; font-weight: bold\">634985</span> gRPC error: StatusCode.UNAVAILABLE failed to connect to all addresses  <span style=\"color: #7f7f7f; text-decoration-color: #7f7f7f\">[08/04/23 09:10:35]</span>\n",
       "       <span style=\"color: #800080; text-decoration-color: #800080; font-style: italic\">None</span>                                                                                     <span style=\"color: #7f7f7f; text-decoration-color: #7f7f7f\">                   </span>\n",
       "       The ongoing request is terminated as the server is not available or closed already.      <span style=\"color: #7f7f7f; text-decoration-color: #7f7f7f\">                   </span>\n",
       "</pre>\n"
      ],
      "text/plain": [
       "\u001b[1;31mERROR \u001b[0m GRPCClient@\u001b[1;36m634985\u001b[0m gRPC error: StatusCode.UNAVAILABLE failed to connect to all addresses  \u001b[2m[08/04/23 09:10:35]\u001b[0m\n",
       "       \u001b[3;35mNone\u001b[0m                                                                                     \u001b[2m                   \u001b[0m\n",
       "       The ongoing request is terminated as the server is not available or closed already.      \u001b[2m                   \u001b[0m\n"
      ]
     },
     "metadata": {},
     "output_type": "display_data"
    },
    {
     "data": {
      "text/html": [
       "<pre style=\"white-space:pre;overflow-x:auto;line-height:normal;font-family:Menlo,'DejaVu Sans Mono',consolas,'Courier New',monospace\">\n",
       "</pre>\n"
      ],
      "text/plain": [
       "\n"
      ]
     },
     "metadata": {},
     "output_type": "display_data"
    },
    {
     "name": "stderr",
     "output_type": "stream",
     "text": [
      "Exception in thread Thread-420:\n",
      "Traceback (most recent call last):\n",
      "  File \"/home/shadowmotion/anaconda3/envs/py10-117/lib/python3.10/site-packages/jina/clients/base/grpc.py\", line 142, in _get_results\n",
      "    async for response in stream_rpc.stream_rpc_with_retry():\n",
      "  File \"/home/shadowmotion/anaconda3/envs/py10-117/lib/python3.10/site-packages/jina/clients/base/stream_rpc.py\", line 51, in stream_rpc_with_retry\n",
      "    async for resp in stub.Call(\n",
      "  File \"/home/shadowmotion/anaconda3/envs/py10-117/lib/python3.10/site-packages/grpc/aio/_call.py\", line 326, in _fetch_stream_responses\n",
      "    await self._raise_for_status()\n",
      "  File \"/home/shadowmotion/anaconda3/envs/py10-117/lib/python3.10/site-packages/grpc/aio/_call.py\", line 236, in _raise_for_status\n",
      "    raise _create_rpc_error(await self.initial_metadata(), await\n",
      "grpc.aio._call.AioRpcError: <AioRpcError of RPC that terminated with:\n",
      "\tstatus = StatusCode.UNAVAILABLE\n",
      "\tdetails = \"failed to connect to all addresses\"\n",
      "\tdebug_error_string = \"{\"created\":\"@1691111435.647259781\",\"description\":\"Failed to pick subchannel\",\"file\":\"src/core/ext/filters/client_channel/client_channel.cc\",\"file_line\":3260,\"referenced_errors\":[{\"created\":\"@1691111435.647258108\",\"description\":\"failed to connect to all addresses\",\"file\":\"src/core/lib/transport/error_utils.cc\",\"file_line\":167,\"grpc_status\":14}]}\"\n",
      ">\n",
      "\n",
      "During handling of the above exception, another exception occurred:\n",
      "\n",
      "Traceback (most recent call last):\n",
      "  File \"/home/shadowmotion/anaconda3/envs/py10-117/lib/python3.10/threading.py\", line 1016, in _bootstrap_inner\n",
      "    self.run()\n",
      "  File \"/home/shadowmotion/anaconda3/envs/py10-117/lib/python3.10/site-packages/jina/helper.py\", line 1299, in run\n",
      "    self.result = asyncio.run(func(*args, **kwargs))\n",
      "  File \"/home/shadowmotion/anaconda3/envs/py10-117/lib/python3.10/asyncio/runners.py\", line 44, in run\n",
      "    return loop.run_until_complete(main)\n",
      "  File \"/home/shadowmotion/anaconda3/envs/py10-117/lib/python3.10/asyncio/base_events.py\", line 649, in run_until_complete\n",
      "    return future.result()\n",
      "  File \"/home/shadowmotion/anaconda3/envs/py10-117/lib/python3.10/site-packages/jina/clients/mixin.py\", line 401, in _get_results\n",
      "    async for resp in c._get_results(*args, **kwargs):\n",
      "  File \"/home/shadowmotion/anaconda3/envs/py10-117/lib/python3.10/site-packages/jina/clients/base/grpc.py\", line 169, in _get_results\n",
      "    await self._handle_error_and_metadata(err)\n",
      "  File \"/home/shadowmotion/anaconda3/envs/py10-117/lib/python3.10/site-packages/jina/clients/base/grpc.py\", line 188, in _handle_error_and_metadata\n",
      "    raise ConnectionError(msg)\n",
      "ConnectionError: gRPC error: StatusCode.UNAVAILABLE failed to connect to all addresses\n",
      "None\n"
     ]
    },
    {
     "data": {
      "text/html": [
       "<pre style=\"white-space:pre;overflow-x:auto;line-height:normal;font-family:Menlo,'DejaVu Sans Mono',consolas,'Courier New',monospace\">\n",
       "</pre>\n"
      ],
      "text/plain": [
       "\n"
      ]
     },
     "metadata": {},
     "output_type": "display_data"
    },
    {
     "data": {
      "text/html": [
       "<pre style=\"white-space:pre;overflow-x:auto;line-height:normal;font-family:Menlo,'DejaVu Sans Mono',consolas,'Courier New',monospace\">\n",
       "</pre>\n"
      ],
      "text/plain": [
       "\n"
      ]
     },
     "metadata": {},
     "output_type": "display_data"
    },
    {
     "name": "stdout",
     "output_type": "stream",
     "text": [
      "['重庆农村商业银行股份有限公司', '2019年'] 2020-03-27__重庆农村商业银行股份有限公司__601077__渝农商行__2019年__年度报告\n"
     ]
    },
    {
     "data": {
      "text/html": [
       "<pre style=\"white-space:pre;overflow-x:auto;line-height:normal;font-family:Menlo,'DejaVu Sans Mono',consolas,'Courier New',monospace\"><span style=\"color: #800000; text-decoration-color: #800000; font-weight: bold\">ERROR </span> GRPCClient@<span style=\"color: #008080; text-decoration-color: #008080; font-weight: bold\">634985</span> gRPC error: StatusCode.UNAVAILABLE failed to connect to all addresses  <span style=\"color: #7f7f7f; text-decoration-color: #7f7f7f\">[08/04/23 09:10:49]</span>\n",
       "       <span style=\"color: #800080; text-decoration-color: #800080; font-style: italic\">None</span>                                                                                     <span style=\"color: #7f7f7f; text-decoration-color: #7f7f7f\">                   </span>\n",
       "       The ongoing request is terminated as the server is not available or closed already.      <span style=\"color: #7f7f7f; text-decoration-color: #7f7f7f\">                   </span>\n",
       "</pre>\n"
      ],
      "text/plain": [
       "\u001b[1;31mERROR \u001b[0m GRPCClient@\u001b[1;36m634985\u001b[0m gRPC error: StatusCode.UNAVAILABLE failed to connect to all addresses  \u001b[2m[08/04/23 09:10:49]\u001b[0m\n",
       "       \u001b[3;35mNone\u001b[0m                                                                                     \u001b[2m                   \u001b[0m\n",
       "       The ongoing request is terminated as the server is not available or closed already.      \u001b[2m                   \u001b[0m\n"
      ]
     },
     "metadata": {},
     "output_type": "display_data"
    },
    {
     "data": {
      "text/html": [
       "<pre style=\"white-space:pre;overflow-x:auto;line-height:normal;font-family:Menlo,'DejaVu Sans Mono',consolas,'Courier New',monospace\">\n",
       "</pre>\n"
      ],
      "text/plain": [
       "\n"
      ]
     },
     "metadata": {},
     "output_type": "display_data"
    },
    {
     "name": "stderr",
     "output_type": "stream",
     "text": [
      "Exception in thread Thread-423:\n",
      "Traceback (most recent call last):\n",
      "  File \"/home/shadowmotion/anaconda3/envs/py10-117/lib/python3.10/site-packages/jina/clients/base/grpc.py\", line 142, in _get_results\n",
      "    async for response in stream_rpc.stream_rpc_with_retry():\n",
      "  File \"/home/shadowmotion/anaconda3/envs/py10-117/lib/python3.10/site-packages/jina/clients/base/stream_rpc.py\", line 51, in stream_rpc_with_retry\n",
      "    async for resp in stub.Call(\n",
      "  File \"/home/shadowmotion/anaconda3/envs/py10-117/lib/python3.10/site-packages/grpc/aio/_call.py\", line 326, in _fetch_stream_responses\n",
      "    await self._raise_for_status()\n",
      "  File \"/home/shadowmotion/anaconda3/envs/py10-117/lib/python3.10/site-packages/grpc/aio/_call.py\", line 236, in _raise_for_status\n",
      "    raise _create_rpc_error(await self.initial_metadata(), await\n",
      "grpc.aio._call.AioRpcError: <AioRpcError of RPC that terminated with:\n",
      "\tstatus = StatusCode.UNAVAILABLE\n",
      "\tdetails = \"failed to connect to all addresses\"\n",
      "\tdebug_error_string = \"{\"created\":\"@1691111449.714276053\",\"description\":\"Failed to pick subchannel\",\"file\":\"src/core/ext/filters/client_channel/client_channel.cc\",\"file_line\":3260,\"referenced_errors\":[{\"created\":\"@1691111449.714272948\",\"description\":\"failed to connect to all addresses\",\"file\":\"src/core/lib/transport/error_utils.cc\",\"file_line\":167,\"grpc_status\":14}]}\"\n",
      ">\n",
      "\n",
      "During handling of the above exception, another exception occurred:\n",
      "\n",
      "Traceback (most recent call last):\n",
      "  File \"/home/shadowmotion/anaconda3/envs/py10-117/lib/python3.10/threading.py\", line 1016, in _bootstrap_inner\n",
      "    self.run()\n",
      "  File \"/home/shadowmotion/anaconda3/envs/py10-117/lib/python3.10/site-packages/jina/helper.py\", line 1299, in run\n",
      "    self.result = asyncio.run(func(*args, **kwargs))\n",
      "  File \"/home/shadowmotion/anaconda3/envs/py10-117/lib/python3.10/asyncio/runners.py\", line 44, in run\n",
      "    return loop.run_until_complete(main)\n",
      "  File \"/home/shadowmotion/anaconda3/envs/py10-117/lib/python3.10/asyncio/base_events.py\", line 649, in run_until_complete\n",
      "    return future.result()\n",
      "  File \"/home/shadowmotion/anaconda3/envs/py10-117/lib/python3.10/site-packages/jina/clients/mixin.py\", line 401, in _get_results\n",
      "    async for resp in c._get_results(*args, **kwargs):\n",
      "  File \"/home/shadowmotion/anaconda3/envs/py10-117/lib/python3.10/site-packages/jina/clients/base/grpc.py\", line 169, in _get_results\n",
      "    await self._handle_error_and_metadata(err)\n",
      "  File \"/home/shadowmotion/anaconda3/envs/py10-117/lib/python3.10/site-packages/jina/clients/base/grpc.py\", line 188, in _handle_error_and_metadata\n",
      "    raise ConnectionError(msg)\n",
      "ConnectionError: gRPC error: StatusCode.UNAVAILABLE failed to connect to all addresses\n",
      "None\n",
      "\u001b[1;33mResourceWarning: Unclosed socket <zmq.Socket(zmq.PUSH) at 0x7f709e590a00>\u001b[0m \u001b[1;30m(raised from sys:1)\u001b[0m\n"
     ]
    },
    {
     "data": {
      "text/html": [
       "<pre style=\"white-space:pre;overflow-x:auto;line-height:normal;font-family:Menlo,'DejaVu Sans Mono',consolas,'Courier New',monospace\">\n",
       "</pre>\n"
      ],
      "text/plain": [
       "\n"
      ]
     },
     "metadata": {},
     "output_type": "display_data"
    },
    {
     "data": {
      "text/html": [
       "<pre style=\"white-space:pre;overflow-x:auto;line-height:normal;font-family:Menlo,'DejaVu Sans Mono',consolas,'Courier New',monospace\">\n",
       "</pre>\n"
      ],
      "text/plain": [
       "\n"
      ]
     },
     "metadata": {},
     "output_type": "display_data"
    },
    {
     "name": "stdout",
     "output_type": "stream",
     "text": [
      "['中铝国际', '2019年'] 2020-03-31__中铝国际工程股份有限公司__601068__中铝国际__2019年__年度报告\n"
     ]
    },
    {
     "name": "stderr",
     "output_type": "stream",
     "text": [
      "\u001b[1;33mResourceWarning: Unclosed socket <zmq.Socket(zmq.PUSH) at 0x7f709e591000>\u001b[0m \u001b[1;30m(raised from sys:1)\u001b[0m\n"
     ]
    },
    {
     "data": {
      "text/html": [
       "<pre style=\"white-space:pre;overflow-x:auto;line-height:normal;font-family:Menlo,'DejaVu Sans Mono',consolas,'Courier New',monospace\"><span style=\"color: #800000; text-decoration-color: #800000; font-weight: bold\">ERROR </span> GRPCClient@<span style=\"color: #008080; text-decoration-color: #008080; font-weight: bold\">634985</span> gRPC error: StatusCode.UNAVAILABLE failed to connect to all addresses  <span style=\"color: #7f7f7f; text-decoration-color: #7f7f7f\">[08/04/23 09:11:03]</span>\n",
       "       <span style=\"color: #800080; text-decoration-color: #800080; font-style: italic\">None</span>                                                                                     <span style=\"color: #7f7f7f; text-decoration-color: #7f7f7f\">                   </span>\n",
       "       The ongoing request is terminated as the server is not available or closed already.      <span style=\"color: #7f7f7f; text-decoration-color: #7f7f7f\">                   </span>\n",
       "</pre>\n"
      ],
      "text/plain": [
       "\u001b[1;31mERROR \u001b[0m GRPCClient@\u001b[1;36m634985\u001b[0m gRPC error: StatusCode.UNAVAILABLE failed to connect to all addresses  \u001b[2m[08/04/23 09:11:03]\u001b[0m\n",
       "       \u001b[3;35mNone\u001b[0m                                                                                     \u001b[2m                   \u001b[0m\n",
       "       The ongoing request is terminated as the server is not available or closed already.      \u001b[2m                   \u001b[0m\n"
      ]
     },
     "metadata": {},
     "output_type": "display_data"
    },
    {
     "data": {
      "text/html": [
       "<pre style=\"white-space:pre;overflow-x:auto;line-height:normal;font-family:Menlo,'DejaVu Sans Mono',consolas,'Courier New',monospace\">\n",
       "</pre>\n"
      ],
      "text/plain": [
       "\n"
      ]
     },
     "metadata": {},
     "output_type": "display_data"
    },
    {
     "name": "stderr",
     "output_type": "stream",
     "text": [
      "Exception in thread Thread-426:\n",
      "Traceback (most recent call last):\n",
      "  File \"/home/shadowmotion/anaconda3/envs/py10-117/lib/python3.10/site-packages/jina/clients/base/grpc.py\", line 142, in _get_results\n",
      "    async for response in stream_rpc.stream_rpc_with_retry():\n",
      "  File \"/home/shadowmotion/anaconda3/envs/py10-117/lib/python3.10/site-packages/jina/clients/base/stream_rpc.py\", line 51, in stream_rpc_with_retry\n",
      "    async for resp in stub.Call(\n",
      "  File \"/home/shadowmotion/anaconda3/envs/py10-117/lib/python3.10/site-packages/grpc/aio/_call.py\", line 326, in _fetch_stream_responses\n",
      "    await self._raise_for_status()\n",
      "  File \"/home/shadowmotion/anaconda3/envs/py10-117/lib/python3.10/site-packages/grpc/aio/_call.py\", line 236, in _raise_for_status\n",
      "    raise _create_rpc_error(await self.initial_metadata(), await\n",
      "grpc.aio._call.AioRpcError: <AioRpcError of RPC that terminated with:\n",
      "\tstatus = StatusCode.UNAVAILABLE\n",
      "\tdetails = \"failed to connect to all addresses\"\n",
      "\tdebug_error_string = \"{\"created\":\"@1691111463.626170977\",\"description\":\"Failed to pick subchannel\",\"file\":\"src/core/ext/filters/client_channel/client_channel.cc\",\"file_line\":3260,\"referenced_errors\":[{\"created\":\"@1691111463.626168454\",\"description\":\"failed to connect to all addresses\",\"file\":\"src/core/lib/transport/error_utils.cc\",\"file_line\":167,\"grpc_status\":14}]}\"\n",
      ">\n",
      "\n",
      "During handling of the above exception, another exception occurred:\n",
      "\n",
      "Traceback (most recent call last):\n",
      "  File \"/home/shadowmotion/anaconda3/envs/py10-117/lib/python3.10/threading.py\", line 1016, in _bootstrap_inner\n",
      "    self.run()\n",
      "  File \"/home/shadowmotion/anaconda3/envs/py10-117/lib/python3.10/site-packages/jina/helper.py\", line 1299, in run\n",
      "    self.result = asyncio.run(func(*args, **kwargs))\n",
      "  File \"/home/shadowmotion/anaconda3/envs/py10-117/lib/python3.10/asyncio/runners.py\", line 44, in run\n",
      "    return loop.run_until_complete(main)\n",
      "  File \"/home/shadowmotion/anaconda3/envs/py10-117/lib/python3.10/asyncio/base_events.py\", line 649, in run_until_complete\n",
      "    return future.result()\n",
      "  File \"/home/shadowmotion/anaconda3/envs/py10-117/lib/python3.10/site-packages/jina/clients/mixin.py\", line 401, in _get_results\n",
      "    async for resp in c._get_results(*args, **kwargs):\n",
      "  File \"/home/shadowmotion/anaconda3/envs/py10-117/lib/python3.10/site-packages/jina/clients/base/grpc.py\", line 169, in _get_results\n",
      "    await self._handle_error_and_metadata(err)\n",
      "  File \"/home/shadowmotion/anaconda3/envs/py10-117/lib/python3.10/site-packages/jina/clients/base/grpc.py\", line 188, in _handle_error_and_metadata\n",
      "    raise ConnectionError(msg)\n",
      "ConnectionError: gRPC error: StatusCode.UNAVAILABLE failed to connect to all addresses\n",
      "None\n",
      "\u001b[1;33mResourceWarning: Unclosed socket <zmq.Socket(zmq.PUSH) at 0x7f709e590820>\u001b[0m \u001b[1;30m(raised from sys:1)\u001b[0m\n"
     ]
    },
    {
     "data": {
      "text/html": [
       "<pre style=\"white-space:pre;overflow-x:auto;line-height:normal;font-family:Menlo,'DejaVu Sans Mono',consolas,'Courier New',monospace\">\n",
       "</pre>\n"
      ],
      "text/plain": [
       "\n"
      ]
     },
     "metadata": {},
     "output_type": "display_data"
    },
    {
     "data": {
      "text/html": [
       "<pre style=\"white-space:pre;overflow-x:auto;line-height:normal;font-family:Menlo,'DejaVu Sans Mono',consolas,'Courier New',monospace\">\n",
       "</pre>\n"
      ],
      "text/plain": [
       "\n"
      ]
     },
     "metadata": {},
     "output_type": "display_data"
    },
    {
     "name": "stdout",
     "output_type": "stream",
     "text": [
      "['深圳市机场股份有限公司', '2019年'] 2020-03-28__深圳市机场股份有限公司__000089__深圳机场__2019年__年度报告\n"
     ]
    },
    {
     "name": "stderr",
     "output_type": "stream",
     "text": [
      "\u001b[1;33mResourceWarning: Unclosed socket <zmq.Socket(zmq.PUSH) at 0x7f709e592800>\u001b[0m \u001b[1;30m(raised from sys:1)\u001b[0m\n"
     ]
    },
    {
     "data": {
      "text/html": [
       "<pre style=\"white-space:pre;overflow-x:auto;line-height:normal;font-family:Menlo,'DejaVu Sans Mono',consolas,'Courier New',monospace\"><span style=\"color: #800000; text-decoration-color: #800000; font-weight: bold\">ERROR </span> GRPCClient@<span style=\"color: #008080; text-decoration-color: #008080; font-weight: bold\">634985</span> gRPC error: StatusCode.UNAVAILABLE failed to connect to all addresses  <span style=\"color: #7f7f7f; text-decoration-color: #7f7f7f\">[08/04/23 09:11:17]</span>\n",
       "       <span style=\"color: #800080; text-decoration-color: #800080; font-style: italic\">None</span>                                                                                     <span style=\"color: #7f7f7f; text-decoration-color: #7f7f7f\">                   </span>\n",
       "       The ongoing request is terminated as the server is not available or closed already.      <span style=\"color: #7f7f7f; text-decoration-color: #7f7f7f\">                   </span>\n",
       "</pre>\n"
      ],
      "text/plain": [
       "\u001b[1;31mERROR \u001b[0m GRPCClient@\u001b[1;36m634985\u001b[0m gRPC error: StatusCode.UNAVAILABLE failed to connect to all addresses  \u001b[2m[08/04/23 09:11:17]\u001b[0m\n",
       "       \u001b[3;35mNone\u001b[0m                                                                                     \u001b[2m                   \u001b[0m\n",
       "       The ongoing request is terminated as the server is not available or closed already.      \u001b[2m                   \u001b[0m\n"
      ]
     },
     "metadata": {},
     "output_type": "display_data"
    },
    {
     "data": {
      "text/html": [
       "<pre style=\"white-space:pre;overflow-x:auto;line-height:normal;font-family:Menlo,'DejaVu Sans Mono',consolas,'Courier New',monospace\">\n",
       "</pre>\n"
      ],
      "text/plain": [
       "\n"
      ]
     },
     "metadata": {},
     "output_type": "display_data"
    },
    {
     "name": "stderr",
     "output_type": "stream",
     "text": [
      "Exception in thread Thread-429:\n",
      "Traceback (most recent call last):\n",
      "  File \"/home/shadowmotion/anaconda3/envs/py10-117/lib/python3.10/site-packages/jina/clients/base/grpc.py\", line 142, in _get_results\n",
      "    async for response in stream_rpc.stream_rpc_with_retry():\n",
      "  File \"/home/shadowmotion/anaconda3/envs/py10-117/lib/python3.10/site-packages/jina/clients/base/stream_rpc.py\", line 51, in stream_rpc_with_retry\n",
      "    async for resp in stub.Call(\n",
      "  File \"/home/shadowmotion/anaconda3/envs/py10-117/lib/python3.10/site-packages/grpc/aio/_call.py\", line 326, in _fetch_stream_responses\n",
      "    await self._raise_for_status()\n",
      "  File \"/home/shadowmotion/anaconda3/envs/py10-117/lib/python3.10/site-packages/grpc/aio/_call.py\", line 236, in _raise_for_status\n",
      "    raise _create_rpc_error(await self.initial_metadata(), await\n",
      "grpc.aio._call.AioRpcError: <AioRpcError of RPC that terminated with:\n",
      "\tstatus = StatusCode.UNAVAILABLE\n",
      "\tdetails = \"failed to connect to all addresses\"\n",
      "\tdebug_error_string = \"{\"created\":\"@1691111477.384618977\",\"description\":\"Failed to pick subchannel\",\"file\":\"src/core/ext/filters/client_channel/client_channel.cc\",\"file_line\":3260,\"referenced_errors\":[{\"created\":\"@1691111477.384616631\",\"description\":\"failed to connect to all addresses\",\"file\":\"src/core/lib/transport/error_utils.cc\",\"file_line\":167,\"grpc_status\":14}]}\"\n",
      ">\n",
      "\n",
      "During handling of the above exception, another exception occurred:\n",
      "\n",
      "Traceback (most recent call last):\n",
      "  File \"/home/shadowmotion/anaconda3/envs/py10-117/lib/python3.10/threading.py\", line 1016, in _bootstrap_inner\n",
      "    self.run()\n",
      "  File \"/home/shadowmotion/anaconda3/envs/py10-117/lib/python3.10/site-packages/jina/helper.py\", line 1299, in run\n",
      "    self.result = asyncio.run(func(*args, **kwargs))\n",
      "  File \"/home/shadowmotion/anaconda3/envs/py10-117/lib/python3.10/asyncio/runners.py\", line 44, in run\n",
      "    return loop.run_until_complete(main)\n",
      "  File \"/home/shadowmotion/anaconda3/envs/py10-117/lib/python3.10/asyncio/base_events.py\", line 649, in run_until_complete\n",
      "    return future.result()\n",
      "  File \"/home/shadowmotion/anaconda3/envs/py10-117/lib/python3.10/site-packages/jina/clients/mixin.py\", line 401, in _get_results\n",
      "    async for resp in c._get_results(*args, **kwargs):\n",
      "  File \"/home/shadowmotion/anaconda3/envs/py10-117/lib/python3.10/site-packages/jina/clients/base/grpc.py\", line 169, in _get_results\n",
      "    await self._handle_error_and_metadata(err)\n",
      "  File \"/home/shadowmotion/anaconda3/envs/py10-117/lib/python3.10/site-packages/jina/clients/base/grpc.py\", line 188, in _handle_error_and_metadata\n",
      "    raise ConnectionError(msg)\n",
      "ConnectionError: gRPC error: StatusCode.UNAVAILABLE failed to connect to all addresses\n",
      "None\n",
      "\u001b[1;33mResourceWarning: Unclosed socket <zmq.Socket(zmq.PUSH) at 0x7f709e590be0>\u001b[0m \u001b[1;30m(raised from sys:1)\u001b[0m\n"
     ]
    },
    {
     "data": {
      "text/html": [
       "<pre style=\"white-space:pre;overflow-x:auto;line-height:normal;font-family:Menlo,'DejaVu Sans Mono',consolas,'Courier New',monospace\">\n",
       "</pre>\n"
      ],
      "text/plain": [
       "\n"
      ]
     },
     "metadata": {},
     "output_type": "display_data"
    },
    {
     "data": {
      "text/html": [
       "<pre style=\"white-space:pre;overflow-x:auto;line-height:normal;font-family:Menlo,'DejaVu Sans Mono',consolas,'Courier New',monospace\">\n",
       "</pre>\n"
      ],
      "text/plain": [
       "\n"
      ]
     },
     "metadata": {},
     "output_type": "display_data"
    },
    {
     "name": "stdout",
     "output_type": "stream",
     "text": [
      "['华信新材', '2019年'] 2020-04-11__江苏华信新材料股份有限公司__300717__华信新材__2019年__年度报告\n"
     ]
    },
    {
     "name": "stderr",
     "output_type": "stream",
     "text": [
      "\u001b[1;33mResourceWarning: Unclosed socket <zmq.Socket(zmq.PUSH) at 0x7f709e592b00>\u001b[0m \u001b[1;30m(raised from sys:1)\u001b[0m\n"
     ]
    },
    {
     "data": {
      "text/html": [
       "<pre style=\"white-space:pre;overflow-x:auto;line-height:normal;font-family:Menlo,'DejaVu Sans Mono',consolas,'Courier New',monospace\"><span style=\"color: #800000; text-decoration-color: #800000; font-weight: bold\">ERROR </span> GRPCClient@<span style=\"color: #008080; text-decoration-color: #008080; font-weight: bold\">634985</span> gRPC error: StatusCode.UNAVAILABLE failed to connect to all addresses  <span style=\"color: #7f7f7f; text-decoration-color: #7f7f7f\">[08/04/23 09:11:31]</span>\n",
       "       <span style=\"color: #800080; text-decoration-color: #800080; font-style: italic\">None</span>                                                                                     <span style=\"color: #7f7f7f; text-decoration-color: #7f7f7f\">                   </span>\n",
       "       The ongoing request is terminated as the server is not available or closed already.      <span style=\"color: #7f7f7f; text-decoration-color: #7f7f7f\">                   </span>\n",
       "</pre>\n"
      ],
      "text/plain": [
       "\u001b[1;31mERROR \u001b[0m GRPCClient@\u001b[1;36m634985\u001b[0m gRPC error: StatusCode.UNAVAILABLE failed to connect to all addresses  \u001b[2m[08/04/23 09:11:31]\u001b[0m\n",
       "       \u001b[3;35mNone\u001b[0m                                                                                     \u001b[2m                   \u001b[0m\n",
       "       The ongoing request is terminated as the server is not available or closed already.      \u001b[2m                   \u001b[0m\n"
      ]
     },
     "metadata": {},
     "output_type": "display_data"
    },
    {
     "data": {
      "text/html": [
       "<pre style=\"white-space:pre;overflow-x:auto;line-height:normal;font-family:Menlo,'DejaVu Sans Mono',consolas,'Courier New',monospace\">\n",
       "</pre>\n"
      ],
      "text/plain": [
       "\n"
      ]
     },
     "metadata": {},
     "output_type": "display_data"
    },
    {
     "name": "stderr",
     "output_type": "stream",
     "text": [
      "Exception in thread Thread-432:\n",
      "Traceback (most recent call last):\n",
      "  File \"/home/shadowmotion/anaconda3/envs/py10-117/lib/python3.10/site-packages/jina/clients/base/grpc.py\", line 142, in _get_results\n",
      "    async for response in stream_rpc.stream_rpc_with_retry():\n",
      "  File \"/home/shadowmotion/anaconda3/envs/py10-117/lib/python3.10/site-packages/jina/clients/base/stream_rpc.py\", line 51, in stream_rpc_with_retry\n",
      "    async for resp in stub.Call(\n",
      "  File \"/home/shadowmotion/anaconda3/envs/py10-117/lib/python3.10/site-packages/grpc/aio/_call.py\", line 326, in _fetch_stream_responses\n",
      "    await self._raise_for_status()\n",
      "  File \"/home/shadowmotion/anaconda3/envs/py10-117/lib/python3.10/site-packages/grpc/aio/_call.py\", line 236, in _raise_for_status\n",
      "    raise _create_rpc_error(await self.initial_metadata(), await\n",
      "grpc.aio._call.AioRpcError: <AioRpcError of RPC that terminated with:\n",
      "\tstatus = StatusCode.UNAVAILABLE\n",
      "\tdetails = \"failed to connect to all addresses\"\n",
      "\tdebug_error_string = \"{\"created\":\"@1691111491.623422741\",\"description\":\"Failed to pick subchannel\",\"file\":\"src/core/ext/filters/client_channel/client_channel.cc\",\"file_line\":3260,\"referenced_errors\":[{\"created\":\"@1691111491.623419390\",\"description\":\"failed to connect to all addresses\",\"file\":\"src/core/lib/transport/error_utils.cc\",\"file_line\":167,\"grpc_status\":14}]}\"\n",
      ">\n",
      "\n",
      "During handling of the above exception, another exception occurred:\n",
      "\n",
      "Traceback (most recent call last):\n",
      "  File \"/home/shadowmotion/anaconda3/envs/py10-117/lib/python3.10/threading.py\", line 1016, in _bootstrap_inner\n",
      "    self.run()\n",
      "  File \"/home/shadowmotion/anaconda3/envs/py10-117/lib/python3.10/site-packages/jina/helper.py\", line 1299, in run\n",
      "    self.result = asyncio.run(func(*args, **kwargs))\n",
      "  File \"/home/shadowmotion/anaconda3/envs/py10-117/lib/python3.10/asyncio/runners.py\", line 44, in run\n",
      "    return loop.run_until_complete(main)\n",
      "  File \"/home/shadowmotion/anaconda3/envs/py10-117/lib/python3.10/asyncio/base_events.py\", line 649, in run_until_complete\n",
      "    return future.result()\n",
      "  File \"/home/shadowmotion/anaconda3/envs/py10-117/lib/python3.10/site-packages/jina/clients/mixin.py\", line 401, in _get_results\n",
      "    async for resp in c._get_results(*args, **kwargs):\n",
      "  File \"/home/shadowmotion/anaconda3/envs/py10-117/lib/python3.10/site-packages/jina/clients/base/grpc.py\", line 169, in _get_results\n",
      "    await self._handle_error_and_metadata(err)\n",
      "  File \"/home/shadowmotion/anaconda3/envs/py10-117/lib/python3.10/site-packages/jina/clients/base/grpc.py\", line 188, in _handle_error_and_metadata\n",
      "    raise ConnectionError(msg)\n",
      "ConnectionError: gRPC error: StatusCode.UNAVAILABLE failed to connect to all addresses\n",
      "None\n"
     ]
    },
    {
     "data": {
      "text/html": [
       "<pre style=\"white-space:pre;overflow-x:auto;line-height:normal;font-family:Menlo,'DejaVu Sans Mono',consolas,'Courier New',monospace\">\n",
       "</pre>\n"
      ],
      "text/plain": [
       "\n"
      ]
     },
     "metadata": {},
     "output_type": "display_data"
    },
    {
     "name": "stderr",
     "output_type": "stream",
     "text": [
      "\u001b[1;33mResourceWarning: Unclosed socket <zmq.Socket(zmq.PUSH) at 0x7f709e592da0>\u001b[0m \u001b[1;30m(raised from sys:1)\u001b[0m\n"
     ]
    },
    {
     "data": {
      "text/html": [
       "<pre style=\"white-space:pre;overflow-x:auto;line-height:normal;font-family:Menlo,'DejaVu Sans Mono',consolas,'Courier New',monospace\">\n",
       "</pre>\n"
      ],
      "text/plain": [
       "\n"
      ]
     },
     "metadata": {},
     "output_type": "display_data"
    },
    {
     "name": "stdout",
     "output_type": "stream",
     "text": [
      "['海信家电', '2019年'] 2020-04-15__海信家电集团股份有限公司__000921__海信家电__2019年__年度报告\n"
     ]
    },
    {
     "name": "stderr",
     "output_type": "stream",
     "text": [
      "\u001b[1;33mResourceWarning: Unclosed socket <zmq.Socket(zmq.PUSH) at 0x7f709e590e20>\u001b[0m \u001b[1;30m(raised from sys:1)\u001b[0m\n"
     ]
    },
    {
     "data": {
      "text/html": [
       "<pre style=\"white-space:pre;overflow-x:auto;line-height:normal;font-family:Menlo,'DejaVu Sans Mono',consolas,'Courier New',monospace\"><span style=\"color: #800000; text-decoration-color: #800000; font-weight: bold\">ERROR </span> GRPCClient@<span style=\"color: #008080; text-decoration-color: #008080; font-weight: bold\">634985</span> gRPC error: StatusCode.UNAVAILABLE failed to connect to all addresses  <span style=\"color: #7f7f7f; text-decoration-color: #7f7f7f\">[08/04/23 09:11:45]</span>\n",
       "       <span style=\"color: #800080; text-decoration-color: #800080; font-style: italic\">None</span>                                                                                     <span style=\"color: #7f7f7f; text-decoration-color: #7f7f7f\">                   </span>\n",
       "       The ongoing request is terminated as the server is not available or closed already.      <span style=\"color: #7f7f7f; text-decoration-color: #7f7f7f\">                   </span>\n",
       "</pre>\n"
      ],
      "text/plain": [
       "\u001b[1;31mERROR \u001b[0m GRPCClient@\u001b[1;36m634985\u001b[0m gRPC error: StatusCode.UNAVAILABLE failed to connect to all addresses  \u001b[2m[08/04/23 09:11:45]\u001b[0m\n",
       "       \u001b[3;35mNone\u001b[0m                                                                                     \u001b[2m                   \u001b[0m\n",
       "       The ongoing request is terminated as the server is not available or closed already.      \u001b[2m                   \u001b[0m\n"
      ]
     },
     "metadata": {},
     "output_type": "display_data"
    },
    {
     "data": {
      "text/html": [
       "<pre style=\"white-space:pre;overflow-x:auto;line-height:normal;font-family:Menlo,'DejaVu Sans Mono',consolas,'Courier New',monospace\">\n",
       "</pre>\n"
      ],
      "text/plain": [
       "\n"
      ]
     },
     "metadata": {},
     "output_type": "display_data"
    },
    {
     "name": "stderr",
     "output_type": "stream",
     "text": [
      "Exception in thread Thread-435:\n",
      "Traceback (most recent call last):\n",
      "  File \"/home/shadowmotion/anaconda3/envs/py10-117/lib/python3.10/site-packages/jina/clients/base/grpc.py\", line 142, in _get_results\n",
      "    async for response in stream_rpc.stream_rpc_with_retry():\n",
      "  File \"/home/shadowmotion/anaconda3/envs/py10-117/lib/python3.10/site-packages/jina/clients/base/stream_rpc.py\", line 51, in stream_rpc_with_retry\n",
      "    async for resp in stub.Call(\n",
      "  File \"/home/shadowmotion/anaconda3/envs/py10-117/lib/python3.10/site-packages/grpc/aio/_call.py\", line 326, in _fetch_stream_responses\n",
      "    await self._raise_for_status()\n",
      "  File \"/home/shadowmotion/anaconda3/envs/py10-117/lib/python3.10/site-packages/grpc/aio/_call.py\", line 236, in _raise_for_status\n",
      "    raise _create_rpc_error(await self.initial_metadata(), await\n",
      "grpc.aio._call.AioRpcError: <AioRpcError of RPC that terminated with:\n",
      "\tstatus = StatusCode.UNAVAILABLE\n",
      "\tdetails = \"failed to connect to all addresses\"\n",
      "\tdebug_error_string = \"{\"created\":\"@1691111505.182197642\",\"description\":\"Failed to pick subchannel\",\"file\":\"src/core/ext/filters/client_channel/client_channel.cc\",\"file_line\":3260,\"referenced_errors\":[{\"created\":\"@1691111505.182194768\",\"description\":\"failed to connect to all addresses\",\"file\":\"src/core/lib/transport/error_utils.cc\",\"file_line\":167,\"grpc_status\":14}]}\"\n",
      ">\n",
      "\n",
      "During handling of the above exception, another exception occurred:\n",
      "\n",
      "Traceback (most recent call last):\n",
      "  File \"/home/shadowmotion/anaconda3/envs/py10-117/lib/python3.10/threading.py\", line 1016, in _bootstrap_inner\n",
      "    self.run()\n",
      "  File \"/home/shadowmotion/anaconda3/envs/py10-117/lib/python3.10/site-packages/jina/helper.py\", line 1299, in run\n",
      "    self.result = asyncio.run(func(*args, **kwargs))\n",
      "  File \"/home/shadowmotion/anaconda3/envs/py10-117/lib/python3.10/asyncio/runners.py\", line 44, in run\n",
      "    return loop.run_until_complete(main)\n",
      "  File \"/home/shadowmotion/anaconda3/envs/py10-117/lib/python3.10/asyncio/base_events.py\", line 649, in run_until_complete\n",
      "    return future.result()\n",
      "  File \"/home/shadowmotion/anaconda3/envs/py10-117/lib/python3.10/site-packages/jina/clients/mixin.py\", line 401, in _get_results\n",
      "    async for resp in c._get_results(*args, **kwargs):\n",
      "  File \"/home/shadowmotion/anaconda3/envs/py10-117/lib/python3.10/site-packages/jina/clients/base/grpc.py\", line 169, in _get_results\n",
      "    await self._handle_error_and_metadata(err)\n",
      "  File \"/home/shadowmotion/anaconda3/envs/py10-117/lib/python3.10/site-packages/jina/clients/base/grpc.py\", line 188, in _handle_error_and_metadata\n",
      "    raise ConnectionError(msg)\n",
      "ConnectionError: gRPC error: StatusCode.UNAVAILABLE failed to connect to all addresses\n",
      "None\n",
      "\u001b[1;33mResourceWarning: Unclosed socket <zmq.Socket(zmq.PUSH) at 0x7f709e593280>\u001b[0m \u001b[1;30m(raised from sys:1)\u001b[0m\n"
     ]
    },
    {
     "data": {
      "text/html": [
       "<pre style=\"white-space:pre;overflow-x:auto;line-height:normal;font-family:Menlo,'DejaVu Sans Mono',consolas,'Courier New',monospace\">\n",
       "</pre>\n"
      ],
      "text/plain": [
       "\n"
      ]
     },
     "metadata": {},
     "output_type": "display_data"
    },
    {
     "name": "stderr",
     "output_type": "stream",
     "text": [
      "\u001b[1;33mResourceWarning: Unclosed socket <zmq.Socket(zmq.PUSH) at 0x7f709e591540>\u001b[0m \u001b[1;30m(raised from sys:1)\u001b[0m\n"
     ]
    },
    {
     "data": {
      "text/html": [
       "<pre style=\"white-space:pre;overflow-x:auto;line-height:normal;font-family:Menlo,'DejaVu Sans Mono',consolas,'Courier New',monospace\">\n",
       "</pre>\n"
      ],
      "text/plain": [
       "\n"
      ]
     },
     "metadata": {},
     "output_type": "display_data"
    },
    {
     "name": "stdout",
     "output_type": "stream",
     "text": [
      "['天津普林电路股份有限公司', '2019年'] 2020-02-28__天津普林电路股份有限公司__002134__天津普林__2019年__年度报告\n"
     ]
    },
    {
     "name": "stderr",
     "output_type": "stream",
     "text": [
      "\u001b[1;33mResourceWarning: Unclosed socket <zmq.Socket(zmq.PUSH) at 0x7f709e592f80>\u001b[0m \u001b[1;30m(raised from sys:1)\u001b[0m\n"
     ]
    },
    {
     "data": {
      "text/html": [
       "<pre style=\"white-space:pre;overflow-x:auto;line-height:normal;font-family:Menlo,'DejaVu Sans Mono',consolas,'Courier New',monospace\"><span style=\"color: #800000; text-decoration-color: #800000; font-weight: bold\">ERROR </span> GRPCClient@<span style=\"color: #008080; text-decoration-color: #008080; font-weight: bold\">634985</span> gRPC error: StatusCode.UNAVAILABLE failed to connect to all addresses  <span style=\"color: #7f7f7f; text-decoration-color: #7f7f7f\">[08/04/23 09:11:59]</span>\n",
       "       <span style=\"color: #800080; text-decoration-color: #800080; font-style: italic\">None</span>                                                                                     <span style=\"color: #7f7f7f; text-decoration-color: #7f7f7f\">                   </span>\n",
       "       The ongoing request is terminated as the server is not available or closed already.      <span style=\"color: #7f7f7f; text-decoration-color: #7f7f7f\">                   </span>\n",
       "</pre>\n"
      ],
      "text/plain": [
       "\u001b[1;31mERROR \u001b[0m GRPCClient@\u001b[1;36m634985\u001b[0m gRPC error: StatusCode.UNAVAILABLE failed to connect to all addresses  \u001b[2m[08/04/23 09:11:59]\u001b[0m\n",
       "       \u001b[3;35mNone\u001b[0m                                                                                     \u001b[2m                   \u001b[0m\n",
       "       The ongoing request is terminated as the server is not available or closed already.      \u001b[2m                   \u001b[0m\n"
      ]
     },
     "metadata": {},
     "output_type": "display_data"
    },
    {
     "data": {
      "text/html": [
       "<pre style=\"white-space:pre;overflow-x:auto;line-height:normal;font-family:Menlo,'DejaVu Sans Mono',consolas,'Courier New',monospace\">\n",
       "</pre>\n"
      ],
      "text/plain": [
       "\n"
      ]
     },
     "metadata": {},
     "output_type": "display_data"
    },
    {
     "name": "stderr",
     "output_type": "stream",
     "text": [
      "Exception in thread Thread-438:\n",
      "Traceback (most recent call last):\n",
      "  File \"/home/shadowmotion/anaconda3/envs/py10-117/lib/python3.10/site-packages/jina/clients/base/grpc.py\", line 142, in _get_results\n",
      "    async for response in stream_rpc.stream_rpc_with_retry():\n",
      "  File \"/home/shadowmotion/anaconda3/envs/py10-117/lib/python3.10/site-packages/jina/clients/base/stream_rpc.py\", line 51, in stream_rpc_with_retry\n",
      "    async for resp in stub.Call(\n",
      "  File \"/home/shadowmotion/anaconda3/envs/py10-117/lib/python3.10/site-packages/grpc/aio/_call.py\", line 326, in _fetch_stream_responses\n",
      "    await self._raise_for_status()\n",
      "  File \"/home/shadowmotion/anaconda3/envs/py10-117/lib/python3.10/site-packages/grpc/aio/_call.py\", line 236, in _raise_for_status\n",
      "    raise _create_rpc_error(await self.initial_metadata(), await\n",
      "grpc.aio._call.AioRpcError: <AioRpcError of RPC that terminated with:\n",
      "\tstatus = StatusCode.UNAVAILABLE\n",
      "\tdetails = \"failed to connect to all addresses\"\n",
      "\tdebug_error_string = \"{\"created\":\"@1691111519.696966718\",\"description\":\"Failed to pick subchannel\",\"file\":\"src/core/ext/filters/client_channel/client_channel.cc\",\"file_line\":3260,\"referenced_errors\":[{\"created\":\"@1691111519.696965768\",\"description\":\"failed to connect to all addresses\",\"file\":\"src/core/lib/transport/error_utils.cc\",\"file_line\":167,\"grpc_status\":14}]}\"\n",
      ">\n",
      "\n",
      "During handling of the above exception, another exception occurred:\n",
      "\n",
      "Traceback (most recent call last):\n",
      "  File \"/home/shadowmotion/anaconda3/envs/py10-117/lib/python3.10/threading.py\", line 1016, in _bootstrap_inner\n",
      "    self.run()\n",
      "  File \"/home/shadowmotion/anaconda3/envs/py10-117/lib/python3.10/site-packages/jina/helper.py\", line 1299, in run\n",
      "    self.result = asyncio.run(func(*args, **kwargs))\n",
      "  File \"/home/shadowmotion/anaconda3/envs/py10-117/lib/python3.10/asyncio/runners.py\", line 44, in run\n",
      "    return loop.run_until_complete(main)\n",
      "  File \"/home/shadowmotion/anaconda3/envs/py10-117/lib/python3.10/asyncio/base_events.py\", line 649, in run_until_complete\n",
      "    return future.result()\n",
      "  File \"/home/shadowmotion/anaconda3/envs/py10-117/lib/python3.10/site-packages/jina/clients/mixin.py\", line 401, in _get_results\n",
      "    async for resp in c._get_results(*args, **kwargs):\n",
      "  File \"/home/shadowmotion/anaconda3/envs/py10-117/lib/python3.10/site-packages/jina/clients/base/grpc.py\", line 169, in _get_results\n",
      "    await self._handle_error_and_metadata(err)\n",
      "  File \"/home/shadowmotion/anaconda3/envs/py10-117/lib/python3.10/site-packages/jina/clients/base/grpc.py\", line 188, in _handle_error_and_metadata\n",
      "    raise ConnectionError(msg)\n",
      "ConnectionError: gRPC error: StatusCode.UNAVAILABLE failed to connect to all addresses\n",
      "None\n",
      "\u001b[1;33mResourceWarning: Unclosed socket <zmq.Socket(zmq.PUSH) at 0x7f709e593b20>\u001b[0m \u001b[1;30m(raised from sys:1)\u001b[0m\n"
     ]
    },
    {
     "data": {
      "text/html": [
       "<pre style=\"white-space:pre;overflow-x:auto;line-height:normal;font-family:Menlo,'DejaVu Sans Mono',consolas,'Courier New',monospace\">\n",
       "</pre>\n"
      ],
      "text/plain": [
       "\n"
      ]
     },
     "metadata": {},
     "output_type": "display_data"
    },
    {
     "name": "stderr",
     "output_type": "stream",
     "text": [
      "\u001b[1;33mResourceWarning: Unclosed socket <zmq.Socket(zmq.PUSH) at 0x7f709e593ca0>\u001b[0m \u001b[1;30m(raised from sys:1)\u001b[0m\n"
     ]
    },
    {
     "data": {
      "text/html": [
       "<pre style=\"white-space:pre;overflow-x:auto;line-height:normal;font-family:Menlo,'DejaVu Sans Mono',consolas,'Courier New',monospace\">\n",
       "</pre>\n"
      ],
      "text/plain": [
       "\n"
      ]
     },
     "metadata": {},
     "output_type": "display_data"
    },
    {
     "name": "stdout",
     "output_type": "stream",
     "text": [
      "['宏川智慧', '2019年'] 2020-03-28__广东宏川智慧物流股份有限公司__002930__宏川智慧__2019年__年度报告\n"
     ]
    },
    {
     "name": "stderr",
     "output_type": "stream",
     "text": [
      "\u001b[1;33mResourceWarning: Unclosed socket <zmq.Socket(zmq.PUSH) at 0x7f709e593940>\u001b[0m \u001b[1;30m(raised from sys:1)\u001b[0m\n"
     ]
    },
    {
     "data": {
      "text/html": [
       "<pre style=\"white-space:pre;overflow-x:auto;line-height:normal;font-family:Menlo,'DejaVu Sans Mono',consolas,'Courier New',monospace\"><span style=\"color: #800000; text-decoration-color: #800000; font-weight: bold\">ERROR </span> GRPCClient@<span style=\"color: #008080; text-decoration-color: #008080; font-weight: bold\">634985</span> gRPC error: StatusCode.UNAVAILABLE failed to connect to all addresses  <span style=\"color: #7f7f7f; text-decoration-color: #7f7f7f\">[08/04/23 09:12:13]</span>\n",
       "       <span style=\"color: #800080; text-decoration-color: #800080; font-style: italic\">None</span>                                                                                     <span style=\"color: #7f7f7f; text-decoration-color: #7f7f7f\">                   </span>\n",
       "       The ongoing request is terminated as the server is not available or closed already.      <span style=\"color: #7f7f7f; text-decoration-color: #7f7f7f\">                   </span>\n",
       "</pre>\n"
      ],
      "text/plain": [
       "\u001b[1;31mERROR \u001b[0m GRPCClient@\u001b[1;36m634985\u001b[0m gRPC error: StatusCode.UNAVAILABLE failed to connect to all addresses  \u001b[2m[08/04/23 09:12:13]\u001b[0m\n",
       "       \u001b[3;35mNone\u001b[0m                                                                                     \u001b[2m                   \u001b[0m\n",
       "       The ongoing request is terminated as the server is not available or closed already.      \u001b[2m                   \u001b[0m\n"
      ]
     },
     "metadata": {},
     "output_type": "display_data"
    },
    {
     "data": {
      "text/html": [
       "<pre style=\"white-space:pre;overflow-x:auto;line-height:normal;font-family:Menlo,'DejaVu Sans Mono',consolas,'Courier New',monospace\">\n",
       "</pre>\n"
      ],
      "text/plain": [
       "\n"
      ]
     },
     "metadata": {},
     "output_type": "display_data"
    },
    {
     "name": "stderr",
     "output_type": "stream",
     "text": [
      "Exception in thread Thread-441:\n",
      "Traceback (most recent call last):\n",
      "  File \"/home/shadowmotion/anaconda3/envs/py10-117/lib/python3.10/site-packages/jina/clients/base/grpc.py\", line 142, in _get_results\n",
      "    async for response in stream_rpc.stream_rpc_with_retry():\n",
      "  File \"/home/shadowmotion/anaconda3/envs/py10-117/lib/python3.10/site-packages/jina/clients/base/stream_rpc.py\", line 51, in stream_rpc_with_retry\n",
      "    async for resp in stub.Call(\n",
      "  File \"/home/shadowmotion/anaconda3/envs/py10-117/lib/python3.10/site-packages/grpc/aio/_call.py\", line 326, in _fetch_stream_responses\n",
      "    await self._raise_for_status()\n",
      "  File \"/home/shadowmotion/anaconda3/envs/py10-117/lib/python3.10/site-packages/grpc/aio/_call.py\", line 236, in _raise_for_status\n",
      "    raise _create_rpc_error(await self.initial_metadata(), await\n",
      "grpc.aio._call.AioRpcError: <AioRpcError of RPC that terminated with:\n",
      "\tstatus = StatusCode.UNAVAILABLE\n",
      "\tdetails = \"failed to connect to all addresses\"\n",
      "\tdebug_error_string = \"{\"created\":\"@1691111533.075285389\",\"description\":\"Failed to pick subchannel\",\"file\":\"src/core/ext/filters/client_channel/client_channel.cc\",\"file_line\":3260,\"referenced_errors\":[{\"created\":\"@1691111533.075284406\",\"description\":\"failed to connect to all addresses\",\"file\":\"src/core/lib/transport/error_utils.cc\",\"file_line\":167,\"grpc_status\":14}]}\"\n",
      ">\n",
      "\n",
      "During handling of the above exception, another exception occurred:\n",
      "\n",
      "Traceback (most recent call last):\n",
      "  File \"/home/shadowmotion/anaconda3/envs/py10-117/lib/python3.10/threading.py\", line 1016, in _bootstrap_inner\n",
      "    self.run()\n",
      "  File \"/home/shadowmotion/anaconda3/envs/py10-117/lib/python3.10/site-packages/jina/helper.py\", line 1299, in run\n",
      "    self.result = asyncio.run(func(*args, **kwargs))\n",
      "  File \"/home/shadowmotion/anaconda3/envs/py10-117/lib/python3.10/asyncio/runners.py\", line 44, in run\n",
      "    return loop.run_until_complete(main)\n",
      "  File \"/home/shadowmotion/anaconda3/envs/py10-117/lib/python3.10/asyncio/base_events.py\", line 649, in run_until_complete\n",
      "    return future.result()\n",
      "  File \"/home/shadowmotion/anaconda3/envs/py10-117/lib/python3.10/site-packages/jina/clients/mixin.py\", line 401, in _get_results\n",
      "    async for resp in c._get_results(*args, **kwargs):\n",
      "  File \"/home/shadowmotion/anaconda3/envs/py10-117/lib/python3.10/site-packages/jina/clients/base/grpc.py\", line 169, in _get_results\n",
      "    await self._handle_error_and_metadata(err)\n",
      "  File \"/home/shadowmotion/anaconda3/envs/py10-117/lib/python3.10/site-packages/jina/clients/base/grpc.py\", line 188, in _handle_error_and_metadata\n",
      "    raise ConnectionError(msg)\n",
      "ConnectionError: gRPC error: StatusCode.UNAVAILABLE failed to connect to all addresses\n",
      "None\n",
      "\u001b[1;33mResourceWarning: Unclosed socket <zmq.Socket(zmq.PUSH) at 0x7f709e593fa0>\u001b[0m \u001b[1;30m(raised from sys:1)\u001b[0m\n"
     ]
    },
    {
     "data": {
      "text/html": [
       "<pre style=\"white-space:pre;overflow-x:auto;line-height:normal;font-family:Menlo,'DejaVu Sans Mono',consolas,'Courier New',monospace\">\n",
       "</pre>\n"
      ],
      "text/plain": [
       "\n"
      ]
     },
     "metadata": {},
     "output_type": "display_data"
    },
    {
     "name": "stderr",
     "output_type": "stream",
     "text": [
      "\u001b[1;33mResourceWarning: Unclosed socket <zmq.Socket(zmq.PUSH) at 0x7f709e5e8280>\u001b[0m \u001b[1;30m(raised from sys:1)\u001b[0m\n"
     ]
    },
    {
     "data": {
      "text/html": [
       "<pre style=\"white-space:pre;overflow-x:auto;line-height:normal;font-family:Menlo,'DejaVu Sans Mono',consolas,'Courier New',monospace\">\n",
       "</pre>\n"
      ],
      "text/plain": [
       "\n"
      ]
     },
     "metadata": {},
     "output_type": "display_data"
    },
    {
     "name": "stdout",
     "output_type": "stream",
     "text": [
      "['新开普电子股份有限公司', '2019年'] 2020-04-16__新开普电子股份有限公司__300248__新开普__2019年__年度报告\n"
     ]
    },
    {
     "name": "stderr",
     "output_type": "stream",
     "text": [
      "\u001b[1;33mResourceWarning: Unclosed socket <zmq.Socket(zmq.PUSH) at 0x7f709e593ee0>\u001b[0m \u001b[1;30m(raised from sys:1)\u001b[0m\n"
     ]
    },
    {
     "data": {
      "text/html": [
       "<pre style=\"white-space:pre;overflow-x:auto;line-height:normal;font-family:Menlo,'DejaVu Sans Mono',consolas,'Courier New',monospace\"><span style=\"color: #800000; text-decoration-color: #800000; font-weight: bold\">ERROR </span> GRPCClient@<span style=\"color: #008080; text-decoration-color: #008080; font-weight: bold\">634985</span> gRPC error: StatusCode.UNAVAILABLE failed to connect to all addresses  <span style=\"color: #7f7f7f; text-decoration-color: #7f7f7f\">[08/04/23 09:12:27]</span>\n",
       "       <span style=\"color: #800080; text-decoration-color: #800080; font-style: italic\">None</span>                                                                                     <span style=\"color: #7f7f7f; text-decoration-color: #7f7f7f\">                   </span>\n",
       "       The ongoing request is terminated as the server is not available or closed already.      <span style=\"color: #7f7f7f; text-decoration-color: #7f7f7f\">                   </span>\n",
       "</pre>\n"
      ],
      "text/plain": [
       "\u001b[1;31mERROR \u001b[0m GRPCClient@\u001b[1;36m634985\u001b[0m gRPC error: StatusCode.UNAVAILABLE failed to connect to all addresses  \u001b[2m[08/04/23 09:12:27]\u001b[0m\n",
       "       \u001b[3;35mNone\u001b[0m                                                                                     \u001b[2m                   \u001b[0m\n",
       "       The ongoing request is terminated as the server is not available or closed already.      \u001b[2m                   \u001b[0m\n"
      ]
     },
     "metadata": {},
     "output_type": "display_data"
    },
    {
     "data": {
      "text/html": [
       "<pre style=\"white-space:pre;overflow-x:auto;line-height:normal;font-family:Menlo,'DejaVu Sans Mono',consolas,'Courier New',monospace\">\n",
       "</pre>\n"
      ],
      "text/plain": [
       "\n"
      ]
     },
     "metadata": {},
     "output_type": "display_data"
    },
    {
     "name": "stderr",
     "output_type": "stream",
     "text": [
      "Exception in thread Thread-444:\n",
      "Traceback (most recent call last):\n",
      "  File \"/home/shadowmotion/anaconda3/envs/py10-117/lib/python3.10/site-packages/jina/clients/base/grpc.py\", line 142, in _get_results\n",
      "    async for response in stream_rpc.stream_rpc_with_retry():\n",
      "  File \"/home/shadowmotion/anaconda3/envs/py10-117/lib/python3.10/site-packages/jina/clients/base/stream_rpc.py\", line 51, in stream_rpc_with_retry\n",
      "    async for resp in stub.Call(\n",
      "  File \"/home/shadowmotion/anaconda3/envs/py10-117/lib/python3.10/site-packages/grpc/aio/_call.py\", line 326, in _fetch_stream_responses\n",
      "    await self._raise_for_status()\n",
      "  File \"/home/shadowmotion/anaconda3/envs/py10-117/lib/python3.10/site-packages/grpc/aio/_call.py\", line 236, in _raise_for_status\n",
      "    raise _create_rpc_error(await self.initial_metadata(), await\n",
      "grpc.aio._call.AioRpcError: <AioRpcError of RPC that terminated with:\n",
      "\tstatus = StatusCode.UNAVAILABLE\n",
      "\tdetails = \"failed to connect to all addresses\"\n",
      "\tdebug_error_string = \"{\"created\":\"@1691111547.568139695\",\"description\":\"Failed to pick subchannel\",\"file\":\"src/core/ext/filters/client_channel/client_channel.cc\",\"file_line\":3260,\"referenced_errors\":[{\"created\":\"@1691111547.568138605\",\"description\":\"failed to connect to all addresses\",\"file\":\"src/core/lib/transport/error_utils.cc\",\"file_line\":167,\"grpc_status\":14}]}\"\n",
      ">\n",
      "\n",
      "During handling of the above exception, another exception occurred:\n",
      "\n",
      "Traceback (most recent call last):\n",
      "  File \"/home/shadowmotion/anaconda3/envs/py10-117/lib/python3.10/threading.py\", line 1016, in _bootstrap_inner\n",
      "    self.run()\n",
      "  File \"/home/shadowmotion/anaconda3/envs/py10-117/lib/python3.10/site-packages/jina/helper.py\", line 1299, in run\n",
      "    self.result = asyncio.run(func(*args, **kwargs))\n",
      "  File \"/home/shadowmotion/anaconda3/envs/py10-117/lib/python3.10/asyncio/runners.py\", line 44, in run\n",
      "    return loop.run_until_complete(main)\n",
      "  File \"/home/shadowmotion/anaconda3/envs/py10-117/lib/python3.10/asyncio/base_events.py\", line 649, in run_until_complete\n",
      "    return future.result()\n",
      "  File \"/home/shadowmotion/anaconda3/envs/py10-117/lib/python3.10/site-packages/jina/clients/mixin.py\", line 401, in _get_results\n",
      "    async for resp in c._get_results(*args, **kwargs):\n",
      "  File \"/home/shadowmotion/anaconda3/envs/py10-117/lib/python3.10/site-packages/jina/clients/base/grpc.py\", line 169, in _get_results\n",
      "    await self._handle_error_and_metadata(err)\n",
      "  File \"/home/shadowmotion/anaconda3/envs/py10-117/lib/python3.10/site-packages/jina/clients/base/grpc.py\", line 188, in _handle_error_and_metadata\n",
      "    raise ConnectionError(msg)\n",
      "ConnectionError: gRPC error: StatusCode.UNAVAILABLE failed to connect to all addresses\n",
      "None\n",
      "\u001b[1;33mResourceWarning: Unclosed socket <zmq.Socket(zmq.PUSH) at 0x7f709e5e8040>\u001b[0m \u001b[1;30m(raised from sys:1)\u001b[0m\n"
     ]
    },
    {
     "data": {
      "text/html": [
       "<pre style=\"white-space:pre;overflow-x:auto;line-height:normal;font-family:Menlo,'DejaVu Sans Mono',consolas,'Courier New',monospace\">\n",
       "</pre>\n"
      ],
      "text/plain": [
       "\n"
      ]
     },
     "metadata": {},
     "output_type": "display_data"
    },
    {
     "name": "stderr",
     "output_type": "stream",
     "text": [
      "\u001b[1;33mResourceWarning: Unclosed socket <zmq.Socket(zmq.PUSH) at 0x7f709e5e8460>\u001b[0m \u001b[1;30m(raised from sys:1)\u001b[0m\n"
     ]
    },
    {
     "data": {
      "text/html": [
       "<pre style=\"white-space:pre;overflow-x:auto;line-height:normal;font-family:Menlo,'DejaVu Sans Mono',consolas,'Courier New',monospace\">\n",
       "</pre>\n"
      ],
      "text/plain": [
       "\n"
      ]
     },
     "metadata": {},
     "output_type": "display_data"
    },
    {
     "name": "stderr",
     "output_type": "stream",
     "text": [
      "\u001b[1;33mResourceWarning: Unclosed socket <zmq.Socket(zmq.PUSH) at 0x7f709e5e84c0>\u001b[0m \u001b[1;30m(raised from sys:1)\u001b[0m\n"
     ]
    },
    {
     "data": {
      "text/html": [
       "<pre style=\"white-space:pre;overflow-x:auto;line-height:normal;font-family:Menlo,'DejaVu Sans Mono',consolas,'Courier New',monospace\">\n",
       "</pre>\n"
      ],
      "text/plain": [
       "\n"
      ]
     },
     "metadata": {},
     "output_type": "display_data"
    },
    {
     "data": {
      "text/html": [
       "<pre style=\"white-space:pre;overflow-x:auto;line-height:normal;font-family:Menlo,'DejaVu Sans Mono',consolas,'Courier New',monospace\">\n",
       "</pre>\n"
      ],
      "text/plain": [
       "\n"
      ]
     },
     "metadata": {},
     "output_type": "display_data"
    },
    {
     "name": "stderr",
     "output_type": "stream",
     "text": [
      "\u001b[1;33mResourceWarning: Unclosed socket <zmq.Socket(zmq.PUSH) at 0x7f709e593e20>\u001b[0m \u001b[1;30m(raised from sys:1)\u001b[0m\n"
     ]
    },
    {
     "data": {
      "text/html": [
       "<pre style=\"white-space:pre;overflow-x:auto;line-height:normal;font-family:Menlo,'DejaVu Sans Mono',consolas,'Courier New',monospace\">\n",
       "</pre>\n"
      ],
      "text/plain": [
       "\n"
      ]
     },
     "metadata": {},
     "output_type": "display_data"
    },
    {
     "name": "stderr",
     "output_type": "stream",
     "text": [
      "\u001b[1;33mResourceWarning: Unclosed socket <zmq.Socket(zmq.PUSH) at 0x7f709e593f40>\u001b[0m \u001b[1;30m(raised from sys:1)\u001b[0m\n"
     ]
    },
    {
     "data": {
      "text/html": [
       "<pre style=\"white-space:pre;overflow-x:auto;line-height:normal;font-family:Menlo,'DejaVu Sans Mono',consolas,'Courier New',monospace\">\n",
       "</pre>\n"
      ],
      "text/plain": [
       "\n"
      ]
     },
     "metadata": {},
     "output_type": "display_data"
    },
    {
     "name": "stdout",
     "output_type": "stream",
     "text": [
      "['深圳市兆驰股份有限公司', '2019年'] 2020-04-11__深圳市兆驰股份有限公司__002429__兆驰股份__2019年__年度报告\n"
     ]
    },
    {
     "name": "stderr",
     "output_type": "stream",
     "text": [
      "\u001b[1;33mResourceWarning: Unclosed socket <zmq.Socket(zmq.PUSH) at 0x7f709e593c40>\u001b[0m \u001b[1;30m(raised from sys:1)\u001b[0m\n"
     ]
    },
    {
     "data": {
      "text/html": [
       "<pre style=\"white-space:pre;overflow-x:auto;line-height:normal;font-family:Menlo,'DejaVu Sans Mono',consolas,'Courier New',monospace\"><span style=\"color: #800000; text-decoration-color: #800000; font-weight: bold\">ERROR </span> GRPCClient@<span style=\"color: #008080; text-decoration-color: #008080; font-weight: bold\">634985</span> gRPC error: StatusCode.UNAVAILABLE failed to connect to all addresses  <span style=\"color: #7f7f7f; text-decoration-color: #7f7f7f\">[08/04/23 09:13:10]</span>\n",
       "       <span style=\"color: #800080; text-decoration-color: #800080; font-style: italic\">None</span>                                                                                     <span style=\"color: #7f7f7f; text-decoration-color: #7f7f7f\">                   </span>\n",
       "       The ongoing request is terminated as the server is not available or closed already.      <span style=\"color: #7f7f7f; text-decoration-color: #7f7f7f\">                   </span>\n",
       "</pre>\n"
      ],
      "text/plain": [
       "\u001b[1;31mERROR \u001b[0m GRPCClient@\u001b[1;36m634985\u001b[0m gRPC error: StatusCode.UNAVAILABLE failed to connect to all addresses  \u001b[2m[08/04/23 09:13:10]\u001b[0m\n",
       "       \u001b[3;35mNone\u001b[0m                                                                                     \u001b[2m                   \u001b[0m\n",
       "       The ongoing request is terminated as the server is not available or closed already.      \u001b[2m                   \u001b[0m\n"
      ]
     },
     "metadata": {},
     "output_type": "display_data"
    },
    {
     "data": {
      "text/html": [
       "<pre style=\"white-space:pre;overflow-x:auto;line-height:normal;font-family:Menlo,'DejaVu Sans Mono',consolas,'Courier New',monospace\">\n",
       "</pre>\n"
      ],
      "text/plain": [
       "\n"
      ]
     },
     "metadata": {},
     "output_type": "display_data"
    },
    {
     "name": "stderr",
     "output_type": "stream",
     "text": [
      "Exception in thread Thread-451:\n",
      "Traceback (most recent call last):\n",
      "  File \"/home/shadowmotion/anaconda3/envs/py10-117/lib/python3.10/site-packages/jina/clients/base/grpc.py\", line 142, in _get_results\n",
      "    async for response in stream_rpc.stream_rpc_with_retry():\n",
      "  File \"/home/shadowmotion/anaconda3/envs/py10-117/lib/python3.10/site-packages/jina/clients/base/stream_rpc.py\", line 51, in stream_rpc_with_retry\n",
      "    async for resp in stub.Call(\n",
      "  File \"/home/shadowmotion/anaconda3/envs/py10-117/lib/python3.10/site-packages/grpc/aio/_call.py\", line 326, in _fetch_stream_responses\n",
      "    await self._raise_for_status()\n",
      "  File \"/home/shadowmotion/anaconda3/envs/py10-117/lib/python3.10/site-packages/grpc/aio/_call.py\", line 236, in _raise_for_status\n",
      "    raise _create_rpc_error(await self.initial_metadata(), await\n",
      "grpc.aio._call.AioRpcError: <AioRpcError of RPC that terminated with:\n",
      "\tstatus = StatusCode.UNAVAILABLE\n",
      "\tdetails = \"failed to connect to all addresses\"\n",
      "\tdebug_error_string = \"{\"created\":\"@1691111590.194836075\",\"description\":\"Failed to pick subchannel\",\"file\":\"src/core/ext/filters/client_channel/client_channel.cc\",\"file_line\":3260,\"referenced_errors\":[{\"created\":\"@1691111590.194833743\",\"description\":\"failed to connect to all addresses\",\"file\":\"src/core/lib/transport/error_utils.cc\",\"file_line\":167,\"grpc_status\":14}]}\"\n",
      ">\n",
      "\n",
      "During handling of the above exception, another exception occurred:\n",
      "\n",
      "Traceback (most recent call last):\n",
      "  File \"/home/shadowmotion/anaconda3/envs/py10-117/lib/python3.10/threading.py\", line 1016, in _bootstrap_inner\n",
      "    self.run()\n",
      "  File \"/home/shadowmotion/anaconda3/envs/py10-117/lib/python3.10/site-packages/jina/helper.py\", line 1299, in run\n",
      "    self.result = asyncio.run(func(*args, **kwargs))\n",
      "  File \"/home/shadowmotion/anaconda3/envs/py10-117/lib/python3.10/asyncio/runners.py\", line 44, in run\n",
      "    return loop.run_until_complete(main)\n",
      "  File \"/home/shadowmotion/anaconda3/envs/py10-117/lib/python3.10/asyncio/base_events.py\", line 649, in run_until_complete\n",
      "    return future.result()\n",
      "  File \"/home/shadowmotion/anaconda3/envs/py10-117/lib/python3.10/site-packages/jina/clients/mixin.py\", line 401, in _get_results\n",
      "    async for resp in c._get_results(*args, **kwargs):\n",
      "  File \"/home/shadowmotion/anaconda3/envs/py10-117/lib/python3.10/site-packages/jina/clients/base/grpc.py\", line 169, in _get_results\n",
      "    await self._handle_error_and_metadata(err)\n",
      "  File \"/home/shadowmotion/anaconda3/envs/py10-117/lib/python3.10/site-packages/jina/clients/base/grpc.py\", line 188, in _handle_error_and_metadata\n",
      "    raise ConnectionError(msg)\n",
      "ConnectionError: gRPC error: StatusCode.UNAVAILABLE failed to connect to all addresses\n",
      "None\n",
      "\u001b[1;33mResourceWarning: Unclosed socket <zmq.Socket(zmq.PUSH) at 0x7f709e592e60>\u001b[0m \u001b[1;30m(raised from sys:1)\u001b[0m\n"
     ]
    },
    {
     "data": {
      "text/html": [
       "<pre style=\"white-space:pre;overflow-x:auto;line-height:normal;font-family:Menlo,'DejaVu Sans Mono',consolas,'Courier New',monospace\">\n",
       "</pre>\n"
      ],
      "text/plain": [
       "\n"
      ]
     },
     "metadata": {},
     "output_type": "display_data"
    },
    {
     "name": "stderr",
     "output_type": "stream",
     "text": [
      "\u001b[1;33mResourceWarning: Unclosed socket <zmq.Socket(zmq.PUSH) at 0x7f709e5939a0>\u001b[0m \u001b[1;30m(raised from sys:1)\u001b[0m\n"
     ]
    },
    {
     "data": {
      "text/html": [
       "<pre style=\"white-space:pre;overflow-x:auto;line-height:normal;font-family:Menlo,'DejaVu Sans Mono',consolas,'Courier New',monospace\">\n",
       "</pre>\n"
      ],
      "text/plain": [
       "\n"
      ]
     },
     "metadata": {},
     "output_type": "display_data"
    },
    {
     "name": "stdout",
     "output_type": "stream",
     "text": [
      "['京泉华', '2019年'] 2020-03-31__深圳市京泉华科技股份有限公司__002885__京泉华__2019年__年度报告\n"
     ]
    },
    {
     "name": "stderr",
     "output_type": "stream",
     "text": [
      "\u001b[1;33mResourceWarning: Unclosed socket <zmq.Socket(zmq.PUSH) at 0x7f709e5931c0>\u001b[0m \u001b[1;30m(raised from sys:1)\u001b[0m\n"
     ]
    },
    {
     "data": {
      "text/html": [
       "<pre style=\"white-space:pre;overflow-x:auto;line-height:normal;font-family:Menlo,'DejaVu Sans Mono',consolas,'Courier New',monospace\"><span style=\"color: #800000; text-decoration-color: #800000; font-weight: bold\">ERROR </span> GRPCClient@<span style=\"color: #008080; text-decoration-color: #008080; font-weight: bold\">634985</span> gRPC error: StatusCode.UNAVAILABLE failed to connect to all addresses  <span style=\"color: #7f7f7f; text-decoration-color: #7f7f7f\">[08/04/23 09:13:23]</span>\n",
       "       <span style=\"color: #800080; text-decoration-color: #800080; font-style: italic\">None</span>                                                                                     <span style=\"color: #7f7f7f; text-decoration-color: #7f7f7f\">                   </span>\n",
       "       The ongoing request is terminated as the server is not available or closed already.      <span style=\"color: #7f7f7f; text-decoration-color: #7f7f7f\">                   </span>\n",
       "</pre>\n"
      ],
      "text/plain": [
       "\u001b[1;31mERROR \u001b[0m GRPCClient@\u001b[1;36m634985\u001b[0m gRPC error: StatusCode.UNAVAILABLE failed to connect to all addresses  \u001b[2m[08/04/23 09:13:23]\u001b[0m\n",
       "       \u001b[3;35mNone\u001b[0m                                                                                     \u001b[2m                   \u001b[0m\n",
       "       The ongoing request is terminated as the server is not available or closed already.      \u001b[2m                   \u001b[0m\n"
      ]
     },
     "metadata": {},
     "output_type": "display_data"
    },
    {
     "data": {
      "text/html": [
       "<pre style=\"white-space:pre;overflow-x:auto;line-height:normal;font-family:Menlo,'DejaVu Sans Mono',consolas,'Courier New',monospace\">\n",
       "</pre>\n"
      ],
      "text/plain": [
       "\n"
      ]
     },
     "metadata": {},
     "output_type": "display_data"
    },
    {
     "name": "stderr",
     "output_type": "stream",
     "text": [
      "Exception in thread Thread-454:\n",
      "Traceback (most recent call last):\n",
      "  File \"/home/shadowmotion/anaconda3/envs/py10-117/lib/python3.10/site-packages/jina/clients/base/grpc.py\", line 142, in _get_results\n",
      "    async for response in stream_rpc.stream_rpc_with_retry():\n",
      "  File \"/home/shadowmotion/anaconda3/envs/py10-117/lib/python3.10/site-packages/jina/clients/base/stream_rpc.py\", line 51, in stream_rpc_with_retry\n",
      "    async for resp in stub.Call(\n",
      "  File \"/home/shadowmotion/anaconda3/envs/py10-117/lib/python3.10/site-packages/grpc/aio/_call.py\", line 326, in _fetch_stream_responses\n",
      "    await self._raise_for_status()\n",
      "  File \"/home/shadowmotion/anaconda3/envs/py10-117/lib/python3.10/site-packages/grpc/aio/_call.py\", line 236, in _raise_for_status\n",
      "    raise _create_rpc_error(await self.initial_metadata(), await\n",
      "grpc.aio._call.AioRpcError: <AioRpcError of RPC that terminated with:\n",
      "\tstatus = StatusCode.UNAVAILABLE\n",
      "\tdetails = \"failed to connect to all addresses\"\n",
      "\tdebug_error_string = \"{\"created\":\"@1691111603.833613908\",\"description\":\"Failed to pick subchannel\",\"file\":\"src/core/ext/filters/client_channel/client_channel.cc\",\"file_line\":3260,\"referenced_errors\":[{\"created\":\"@1691111603.833611943\",\"description\":\"failed to connect to all addresses\",\"file\":\"src/core/lib/transport/error_utils.cc\",\"file_line\":167,\"grpc_status\":14}]}\"\n",
      ">\n",
      "\n",
      "During handling of the above exception, another exception occurred:\n",
      "\n",
      "Traceback (most recent call last):\n",
      "  File \"/home/shadowmotion/anaconda3/envs/py10-117/lib/python3.10/threading.py\", line 1016, in _bootstrap_inner\n",
      "    self.run()\n",
      "  File \"/home/shadowmotion/anaconda3/envs/py10-117/lib/python3.10/site-packages/jina/helper.py\", line 1299, in run\n",
      "    self.result = asyncio.run(func(*args, **kwargs))\n",
      "  File \"/home/shadowmotion/anaconda3/envs/py10-117/lib/python3.10/asyncio/runners.py\", line 44, in run\n",
      "    return loop.run_until_complete(main)\n",
      "  File \"/home/shadowmotion/anaconda3/envs/py10-117/lib/python3.10/asyncio/base_events.py\", line 649, in run_until_complete\n",
      "    return future.result()\n",
      "  File \"/home/shadowmotion/anaconda3/envs/py10-117/lib/python3.10/site-packages/jina/clients/mixin.py\", line 401, in _get_results\n",
      "    async for resp in c._get_results(*args, **kwargs):\n",
      "  File \"/home/shadowmotion/anaconda3/envs/py10-117/lib/python3.10/site-packages/jina/clients/base/grpc.py\", line 169, in _get_results\n",
      "    await self._handle_error_and_metadata(err)\n",
      "  File \"/home/shadowmotion/anaconda3/envs/py10-117/lib/python3.10/site-packages/jina/clients/base/grpc.py\", line 188, in _handle_error_and_metadata\n",
      "    raise ConnectionError(msg)\n",
      "ConnectionError: gRPC error: StatusCode.UNAVAILABLE failed to connect to all addresses\n",
      "None\n",
      "\u001b[1;33mResourceWarning: Unclosed socket <zmq.Socket(zmq.PUSH) at 0x7f709e591de0>\u001b[0m \u001b[1;30m(raised from sys:1)\u001b[0m\n"
     ]
    },
    {
     "data": {
      "text/html": [
       "<pre style=\"white-space:pre;overflow-x:auto;line-height:normal;font-family:Menlo,'DejaVu Sans Mono',consolas,'Courier New',monospace\">\n",
       "</pre>\n"
      ],
      "text/plain": [
       "\n"
      ]
     },
     "metadata": {},
     "output_type": "display_data"
    },
    {
     "name": "stderr",
     "output_type": "stream",
     "text": [
      "\u001b[1;33mResourceWarning: Unclosed socket <zmq.Socket(zmq.PUSH) at 0x7f709e5910c0>\u001b[0m \u001b[1;30m(raised from sys:1)\u001b[0m\n"
     ]
    },
    {
     "data": {
      "text/html": [
       "<pre style=\"white-space:pre;overflow-x:auto;line-height:normal;font-family:Menlo,'DejaVu Sans Mono',consolas,'Courier New',monospace\">\n",
       "</pre>\n"
      ],
      "text/plain": [
       "\n"
      ]
     },
     "metadata": {},
     "output_type": "display_data"
    },
    {
     "name": "stderr",
     "output_type": "stream",
     "text": [
      "\u001b[1;33mResourceWarning: Unclosed socket <zmq.Socket(zmq.PUSH) at 0x7f709e591a80>\u001b[0m \u001b[1;30m(raised from sys:1)\u001b[0m\n"
     ]
    },
    {
     "data": {
      "text/html": [
       "<pre style=\"white-space:pre;overflow-x:auto;line-height:normal;font-family:Menlo,'DejaVu Sans Mono',consolas,'Courier New',monospace\">\n",
       "</pre>\n"
      ],
      "text/plain": [
       "\n"
      ]
     },
     "metadata": {},
     "output_type": "display_data"
    },
    {
     "name": "stderr",
     "output_type": "stream",
     "text": [
      "\u001b[1;33mResourceWarning: Unclosed socket <zmq.Socket(zmq.PUSH) at 0x7f709e592ec0>\u001b[0m \u001b[1;30m(raised from sys:1)\u001b[0m\n"
     ]
    },
    {
     "data": {
      "text/html": [
       "<pre style=\"white-space:pre;overflow-x:auto;line-height:normal;font-family:Menlo,'DejaVu Sans Mono',consolas,'Courier New',monospace\">\n",
       "</pre>\n"
      ],
      "text/plain": [
       "\n"
      ]
     },
     "metadata": {},
     "output_type": "display_data"
    },
    {
     "name": "stdout",
     "output_type": "stream",
     "text": [
      "['四川英杰电气股份有限公司', '2019年'] 2020-04-17__四川英杰电气股份有限公司__300820__英杰电气__2019年__年度报告\n"
     ]
    },
    {
     "name": "stderr",
     "output_type": "stream",
     "text": [
      "\u001b[1;33mResourceWarning: Unclosed socket <zmq.Socket(zmq.PUSH) at 0x7f709e591ea0>\u001b[0m \u001b[1;30m(raised from sys:1)\u001b[0m\n"
     ]
    },
    {
     "data": {
      "text/html": [
       "<pre style=\"white-space:pre;overflow-x:auto;line-height:normal;font-family:Menlo,'DejaVu Sans Mono',consolas,'Courier New',monospace\"><span style=\"color: #800000; text-decoration-color: #800000; font-weight: bold\">ERROR </span> GRPCClient@<span style=\"color: #008080; text-decoration-color: #008080; font-weight: bold\">634985</span> gRPC error: StatusCode.UNAVAILABLE failed to connect to all addresses  <span style=\"color: #7f7f7f; text-decoration-color: #7f7f7f\">[08/04/23 09:13:51]</span>\n",
       "       <span style=\"color: #800080; text-decoration-color: #800080; font-style: italic\">None</span>                                                                                     <span style=\"color: #7f7f7f; text-decoration-color: #7f7f7f\">                   </span>\n",
       "       The ongoing request is terminated as the server is not available or closed already.      <span style=\"color: #7f7f7f; text-decoration-color: #7f7f7f\">                   </span>\n",
       "</pre>\n"
      ],
      "text/plain": [
       "\u001b[1;31mERROR \u001b[0m GRPCClient@\u001b[1;36m634985\u001b[0m gRPC error: StatusCode.UNAVAILABLE failed to connect to all addresses  \u001b[2m[08/04/23 09:13:51]\u001b[0m\n",
       "       \u001b[3;35mNone\u001b[0m                                                                                     \u001b[2m                   \u001b[0m\n",
       "       The ongoing request is terminated as the server is not available or closed already.      \u001b[2m                   \u001b[0m\n"
      ]
     },
     "metadata": {},
     "output_type": "display_data"
    },
    {
     "data": {
      "text/html": [
       "<pre style=\"white-space:pre;overflow-x:auto;line-height:normal;font-family:Menlo,'DejaVu Sans Mono',consolas,'Courier New',monospace\">\n",
       "</pre>\n"
      ],
      "text/plain": [
       "\n"
      ]
     },
     "metadata": {},
     "output_type": "display_data"
    },
    {
     "name": "stderr",
     "output_type": "stream",
     "text": [
      "Exception in thread Thread-459:\n",
      "Traceback (most recent call last):\n",
      "  File \"/home/shadowmotion/anaconda3/envs/py10-117/lib/python3.10/site-packages/jina/clients/base/grpc.py\", line 142, in _get_results\n",
      "    async for response in stream_rpc.stream_rpc_with_retry():\n",
      "  File \"/home/shadowmotion/anaconda3/envs/py10-117/lib/python3.10/site-packages/jina/clients/base/stream_rpc.py\", line 51, in stream_rpc_with_retry\n",
      "    async for resp in stub.Call(\n",
      "  File \"/home/shadowmotion/anaconda3/envs/py10-117/lib/python3.10/site-packages/grpc/aio/_call.py\", line 326, in _fetch_stream_responses\n",
      "    await self._raise_for_status()\n",
      "  File \"/home/shadowmotion/anaconda3/envs/py10-117/lib/python3.10/site-packages/grpc/aio/_call.py\", line 236, in _raise_for_status\n",
      "    raise _create_rpc_error(await self.initial_metadata(), await\n",
      "grpc.aio._call.AioRpcError: <AioRpcError of RPC that terminated with:\n",
      "\tstatus = StatusCode.UNAVAILABLE\n",
      "\tdetails = \"failed to connect to all addresses\"\n",
      "\tdebug_error_string = \"{\"created\":\"@1691111631.311266326\",\"description\":\"Failed to pick subchannel\",\"file\":\"src/core/ext/filters/client_channel/client_channel.cc\",\"file_line\":3260,\"referenced_errors\":[{\"created\":\"@1691111631.311265436\",\"description\":\"failed to connect to all addresses\",\"file\":\"src/core/lib/transport/error_utils.cc\",\"file_line\":167,\"grpc_status\":14}]}\"\n",
      ">\n",
      "\n",
      "During handling of the above exception, another exception occurred:\n",
      "\n",
      "Traceback (most recent call last):\n",
      "  File \"/home/shadowmotion/anaconda3/envs/py10-117/lib/python3.10/threading.py\", line 1016, in _bootstrap_inner\n",
      "    self.run()\n",
      "  File \"/home/shadowmotion/anaconda3/envs/py10-117/lib/python3.10/site-packages/jina/helper.py\", line 1299, in run\n",
      "    self.result = asyncio.run(func(*args, **kwargs))\n",
      "  File \"/home/shadowmotion/anaconda3/envs/py10-117/lib/python3.10/asyncio/runners.py\", line 44, in run\n",
      "    return loop.run_until_complete(main)\n",
      "  File \"/home/shadowmotion/anaconda3/envs/py10-117/lib/python3.10/asyncio/base_events.py\", line 649, in run_until_complete\n",
      "    return future.result()\n",
      "  File \"/home/shadowmotion/anaconda3/envs/py10-117/lib/python3.10/site-packages/jina/clients/mixin.py\", line 401, in _get_results\n",
      "    async for resp in c._get_results(*args, **kwargs):\n",
      "  File \"/home/shadowmotion/anaconda3/envs/py10-117/lib/python3.10/site-packages/jina/clients/base/grpc.py\", line 169, in _get_results\n",
      "    await self._handle_error_and_metadata(err)\n",
      "  File \"/home/shadowmotion/anaconda3/envs/py10-117/lib/python3.10/site-packages/jina/clients/base/grpc.py\", line 188, in _handle_error_and_metadata\n",
      "    raise ConnectionError(msg)\n",
      "ConnectionError: gRPC error: StatusCode.UNAVAILABLE failed to connect to all addresses\n",
      "None\n",
      "\u001b[1;33mResourceWarning: Unclosed socket <zmq.Socket(zmq.PUSH) at 0x7f709e5922c0>\u001b[0m \u001b[1;30m(raised from sys:1)\u001b[0m\n"
     ]
    },
    {
     "data": {
      "text/html": [
       "<pre style=\"white-space:pre;overflow-x:auto;line-height:normal;font-family:Menlo,'DejaVu Sans Mono',consolas,'Courier New',monospace\">\n",
       "</pre>\n"
      ],
      "text/plain": [
       "\n"
      ]
     },
     "metadata": {},
     "output_type": "display_data"
    },
    {
     "name": "stderr",
     "output_type": "stream",
     "text": [
      "\u001b[1;33mResourceWarning: Unclosed socket <zmq.Socket(zmq.PUSH) at 0x7f709e590640>\u001b[0m \u001b[1;30m(raised from sys:1)\u001b[0m\n"
     ]
    },
    {
     "data": {
      "text/html": [
       "<pre style=\"white-space:pre;overflow-x:auto;line-height:normal;font-family:Menlo,'DejaVu Sans Mono',consolas,'Courier New',monospace\">\n",
       "</pre>\n"
      ],
      "text/plain": [
       "\n"
      ]
     },
     "metadata": {},
     "output_type": "display_data"
    },
    {
     "name": "stdout",
     "output_type": "stream",
     "text": [
      "['山西通宝能源股份有限公司', '2019年'] 2020-03-27__山西通宝能源股份有限公司__600780__通宝能源__2019年__年度报告\n"
     ]
    },
    {
     "data": {
      "text/html": [
       "<pre style=\"white-space:pre;overflow-x:auto;line-height:normal;font-family:Menlo,'DejaVu Sans Mono',consolas,'Courier New',monospace\"><span style=\"color: #800000; text-decoration-color: #800000; font-weight: bold\">ERROR </span> GRPCClient@<span style=\"color: #008080; text-decoration-color: #008080; font-weight: bold\">634985</span> gRPC error: StatusCode.UNAVAILABLE failed to connect to all addresses  <span style=\"color: #7f7f7f; text-decoration-color: #7f7f7f\">[08/04/23 09:14:05]</span>\n",
       "       <span style=\"color: #800080; text-decoration-color: #800080; font-style: italic\">None</span>                                                                                     <span style=\"color: #7f7f7f; text-decoration-color: #7f7f7f\">                   </span>\n",
       "       The ongoing request is terminated as the server is not available or closed already.      <span style=\"color: #7f7f7f; text-decoration-color: #7f7f7f\">                   </span>\n",
       "</pre>\n"
      ],
      "text/plain": [
       "\u001b[1;31mERROR \u001b[0m GRPCClient@\u001b[1;36m634985\u001b[0m gRPC error: StatusCode.UNAVAILABLE failed to connect to all addresses  \u001b[2m[08/04/23 09:14:05]\u001b[0m\n",
       "       \u001b[3;35mNone\u001b[0m                                                                                     \u001b[2m                   \u001b[0m\n",
       "       The ongoing request is terminated as the server is not available or closed already.      \u001b[2m                   \u001b[0m\n"
      ]
     },
     "metadata": {},
     "output_type": "display_data"
    },
    {
     "data": {
      "text/html": [
       "<pre style=\"white-space:pre;overflow-x:auto;line-height:normal;font-family:Menlo,'DejaVu Sans Mono',consolas,'Courier New',monospace\">\n",
       "</pre>\n"
      ],
      "text/plain": [
       "\n"
      ]
     },
     "metadata": {},
     "output_type": "display_data"
    },
    {
     "name": "stderr",
     "output_type": "stream",
     "text": [
      "Exception in thread Thread-462:\n",
      "Traceback (most recent call last):\n",
      "  File \"/home/shadowmotion/anaconda3/envs/py10-117/lib/python3.10/site-packages/jina/clients/base/grpc.py\", line 142, in _get_results\n",
      "    async for response in stream_rpc.stream_rpc_with_retry():\n",
      "  File \"/home/shadowmotion/anaconda3/envs/py10-117/lib/python3.10/site-packages/jina/clients/base/stream_rpc.py\", line 51, in stream_rpc_with_retry\n",
      "    async for resp in stub.Call(\n",
      "  File \"/home/shadowmotion/anaconda3/envs/py10-117/lib/python3.10/site-packages/grpc/aio/_call.py\", line 326, in _fetch_stream_responses\n",
      "    await self._raise_for_status()\n",
      "  File \"/home/shadowmotion/anaconda3/envs/py10-117/lib/python3.10/site-packages/grpc/aio/_call.py\", line 236, in _raise_for_status\n",
      "    raise _create_rpc_error(await self.initial_metadata(), await\n",
      "grpc.aio._call.AioRpcError: <AioRpcError of RPC that terminated with:\n",
      "\tstatus = StatusCode.UNAVAILABLE\n",
      "\tdetails = \"failed to connect to all addresses\"\n",
      "\tdebug_error_string = \"{\"created\":\"@1691111645.943221551\",\"description\":\"Failed to pick subchannel\",\"file\":\"src/core/ext/filters/client_channel/client_channel.cc\",\"file_line\":3260,\"referenced_errors\":[{\"created\":\"@1691111645.943220641\",\"description\":\"failed to connect to all addresses\",\"file\":\"src/core/lib/transport/error_utils.cc\",\"file_line\":167,\"grpc_status\":14}]}\"\n",
      ">\n",
      "\n",
      "During handling of the above exception, another exception occurred:\n",
      "\n",
      "Traceback (most recent call last):\n",
      "  File \"/home/shadowmotion/anaconda3/envs/py10-117/lib/python3.10/threading.py\", line 1016, in _bootstrap_inner\n",
      "    self.run()\n",
      "  File \"/home/shadowmotion/anaconda3/envs/py10-117/lib/python3.10/site-packages/jina/helper.py\", line 1299, in run\n",
      "    self.result = asyncio.run(func(*args, **kwargs))\n",
      "  File \"/home/shadowmotion/anaconda3/envs/py10-117/lib/python3.10/asyncio/runners.py\", line 44, in run\n",
      "    return loop.run_until_complete(main)\n",
      "  File \"/home/shadowmotion/anaconda3/envs/py10-117/lib/python3.10/asyncio/base_events.py\", line 649, in run_until_complete\n",
      "    return future.result()\n",
      "  File \"/home/shadowmotion/anaconda3/envs/py10-117/lib/python3.10/site-packages/jina/clients/mixin.py\", line 401, in _get_results\n",
      "    async for resp in c._get_results(*args, **kwargs):\n",
      "  File \"/home/shadowmotion/anaconda3/envs/py10-117/lib/python3.10/site-packages/jina/clients/base/grpc.py\", line 169, in _get_results\n",
      "    await self._handle_error_and_metadata(err)\n",
      "  File \"/home/shadowmotion/anaconda3/envs/py10-117/lib/python3.10/site-packages/jina/clients/base/grpc.py\", line 188, in _handle_error_and_metadata\n",
      "    raise ConnectionError(msg)\n",
      "ConnectionError: gRPC error: StatusCode.UNAVAILABLE failed to connect to all addresses\n",
      "None\n"
     ]
    },
    {
     "data": {
      "text/html": [
       "<pre style=\"white-space:pre;overflow-x:auto;line-height:normal;font-family:Menlo,'DejaVu Sans Mono',consolas,'Courier New',monospace\">\n",
       "</pre>\n"
      ],
      "text/plain": [
       "\n"
      ]
     },
     "metadata": {},
     "output_type": "display_data"
    },
    {
     "data": {
      "text/html": [
       "<pre style=\"white-space:pre;overflow-x:auto;line-height:normal;font-family:Menlo,'DejaVu Sans Mono',consolas,'Courier New',monospace\">\n",
       "</pre>\n"
      ],
      "text/plain": [
       "\n"
      ]
     },
     "metadata": {},
     "output_type": "display_data"
    },
    {
     "name": "stdout",
     "output_type": "stream",
     "text": [
      "['北京超图软件股份有限公司', '2019年'] 2020-04-10__北京超图软件股份有限公司__300036__超图软件__2019年__年度报告\n"
     ]
    },
    {
     "data": {
      "text/html": [
       "<pre style=\"white-space:pre;overflow-x:auto;line-height:normal;font-family:Menlo,'DejaVu Sans Mono',consolas,'Courier New',monospace\"><span style=\"color: #800000; text-decoration-color: #800000; font-weight: bold\">ERROR </span> GRPCClient@<span style=\"color: #008080; text-decoration-color: #008080; font-weight: bold\">634985</span> gRPC error: StatusCode.UNAVAILABLE failed to connect to all addresses  <span style=\"color: #7f7f7f; text-decoration-color: #7f7f7f\">[08/04/23 09:14:20]</span>\n",
       "       <span style=\"color: #800080; text-decoration-color: #800080; font-style: italic\">None</span>                                                                                     <span style=\"color: #7f7f7f; text-decoration-color: #7f7f7f\">                   </span>\n",
       "       The ongoing request is terminated as the server is not available or closed already.      <span style=\"color: #7f7f7f; text-decoration-color: #7f7f7f\">                   </span>\n",
       "</pre>\n"
      ],
      "text/plain": [
       "\u001b[1;31mERROR \u001b[0m GRPCClient@\u001b[1;36m634985\u001b[0m gRPC error: StatusCode.UNAVAILABLE failed to connect to all addresses  \u001b[2m[08/04/23 09:14:20]\u001b[0m\n",
       "       \u001b[3;35mNone\u001b[0m                                                                                     \u001b[2m                   \u001b[0m\n",
       "       The ongoing request is terminated as the server is not available or closed already.      \u001b[2m                   \u001b[0m\n"
      ]
     },
     "metadata": {},
     "output_type": "display_data"
    },
    {
     "data": {
      "text/html": [
       "<pre style=\"white-space:pre;overflow-x:auto;line-height:normal;font-family:Menlo,'DejaVu Sans Mono',consolas,'Courier New',monospace\">\n",
       "</pre>\n"
      ],
      "text/plain": [
       "\n"
      ]
     },
     "metadata": {},
     "output_type": "display_data"
    },
    {
     "name": "stderr",
     "output_type": "stream",
     "text": [
      "Exception in thread Thread-465:\n",
      "Traceback (most recent call last):\n",
      "  File \"/home/shadowmotion/anaconda3/envs/py10-117/lib/python3.10/site-packages/jina/clients/base/grpc.py\", line 142, in _get_results\n",
      "    async for response in stream_rpc.stream_rpc_with_retry():\n",
      "  File \"/home/shadowmotion/anaconda3/envs/py10-117/lib/python3.10/site-packages/jina/clients/base/stream_rpc.py\", line 51, in stream_rpc_with_retry\n",
      "    async for resp in stub.Call(\n",
      "  File \"/home/shadowmotion/anaconda3/envs/py10-117/lib/python3.10/site-packages/grpc/aio/_call.py\", line 326, in _fetch_stream_responses\n",
      "    await self._raise_for_status()\n",
      "  File \"/home/shadowmotion/anaconda3/envs/py10-117/lib/python3.10/site-packages/grpc/aio/_call.py\", line 236, in _raise_for_status\n",
      "    raise _create_rpc_error(await self.initial_metadata(), await\n",
      "grpc.aio._call.AioRpcError: <AioRpcError of RPC that terminated with:\n",
      "\tstatus = StatusCode.UNAVAILABLE\n",
      "\tdetails = \"failed to connect to all addresses\"\n",
      "\tdebug_error_string = \"{\"created\":\"@1691111660.222086636\",\"description\":\"Failed to pick subchannel\",\"file\":\"src/core/ext/filters/client_channel/client_channel.cc\",\"file_line\":3260,\"referenced_errors\":[{\"created\":\"@1691111660.222085751\",\"description\":\"failed to connect to all addresses\",\"file\":\"src/core/lib/transport/error_utils.cc\",\"file_line\":167,\"grpc_status\":14}]}\"\n",
      ">\n",
      "\n",
      "During handling of the above exception, another exception occurred:\n",
      "\n",
      "Traceback (most recent call last):\n",
      "  File \"/home/shadowmotion/anaconda3/envs/py10-117/lib/python3.10/threading.py\", line 1016, in _bootstrap_inner\n",
      "    self.run()\n",
      "  File \"/home/shadowmotion/anaconda3/envs/py10-117/lib/python3.10/site-packages/jina/helper.py\", line 1299, in run\n",
      "    self.result = asyncio.run(func(*args, **kwargs))\n",
      "  File \"/home/shadowmotion/anaconda3/envs/py10-117/lib/python3.10/asyncio/runners.py\", line 44, in run\n",
      "    return loop.run_until_complete(main)\n",
      "  File \"/home/shadowmotion/anaconda3/envs/py10-117/lib/python3.10/asyncio/base_events.py\", line 649, in run_until_complete\n",
      "    return future.result()\n",
      "  File \"/home/shadowmotion/anaconda3/envs/py10-117/lib/python3.10/site-packages/jina/clients/mixin.py\", line 401, in _get_results\n",
      "    async for resp in c._get_results(*args, **kwargs):\n",
      "  File \"/home/shadowmotion/anaconda3/envs/py10-117/lib/python3.10/site-packages/jina/clients/base/grpc.py\", line 169, in _get_results\n",
      "    await self._handle_error_and_metadata(err)\n",
      "  File \"/home/shadowmotion/anaconda3/envs/py10-117/lib/python3.10/site-packages/jina/clients/base/grpc.py\", line 188, in _handle_error_and_metadata\n",
      "    raise ConnectionError(msg)\n",
      "ConnectionError: gRPC error: StatusCode.UNAVAILABLE failed to connect to all addresses\n",
      "None\n",
      "\u001b[1;33mResourceWarning: Unclosed socket <zmq.Socket(zmq.PUSH) at 0x7f709e54aec0>\u001b[0m \u001b[1;30m(raised from sys:1)\u001b[0m\n"
     ]
    },
    {
     "data": {
      "text/html": [
       "<pre style=\"white-space:pre;overflow-x:auto;line-height:normal;font-family:Menlo,'DejaVu Sans Mono',consolas,'Courier New',monospace\">\n",
       "</pre>\n"
      ],
      "text/plain": [
       "\n"
      ]
     },
     "metadata": {},
     "output_type": "display_data"
    },
    {
     "name": "stderr",
     "output_type": "stream",
     "text": [
      "\u001b[1;33mResourceWarning: Unclosed socket <zmq.Socket(zmq.PUSH) at 0x7f709e54b880>\u001b[0m \u001b[1;30m(raised from sys:1)\u001b[0m\n"
     ]
    },
    {
     "data": {
      "text/html": [
       "<pre style=\"white-space:pre;overflow-x:auto;line-height:normal;font-family:Menlo,'DejaVu Sans Mono',consolas,'Courier New',monospace\">\n",
       "</pre>\n"
      ],
      "text/plain": [
       "\n"
      ]
     },
     "metadata": {},
     "output_type": "display_data"
    },
    {
     "name": "stdout",
     "output_type": "stream",
     "text": [
      "['红宝丽集团股份有限公司', '2019年'] 2020-03-13__红宝丽集团股份有限公司__002165__红宝丽__2019年__年度报告\n"
     ]
    },
    {
     "data": {
      "text/html": [
       "<pre style=\"white-space:pre;overflow-x:auto;line-height:normal;font-family:Menlo,'DejaVu Sans Mono',consolas,'Courier New',monospace\"><span style=\"color: #800000; text-decoration-color: #800000; font-weight: bold\">ERROR </span> GRPCClient@<span style=\"color: #008080; text-decoration-color: #008080; font-weight: bold\">634985</span> gRPC error: StatusCode.UNAVAILABLE failed to connect to all addresses  <span style=\"color: #7f7f7f; text-decoration-color: #7f7f7f\">[08/04/23 09:14:34]</span>\n",
       "       <span style=\"color: #800080; text-decoration-color: #800080; font-style: italic\">None</span>                                                                                     <span style=\"color: #7f7f7f; text-decoration-color: #7f7f7f\">                   </span>\n",
       "       The ongoing request is terminated as the server is not available or closed already.      <span style=\"color: #7f7f7f; text-decoration-color: #7f7f7f\">                   </span>\n",
       "</pre>\n"
      ],
      "text/plain": [
       "\u001b[1;31mERROR \u001b[0m GRPCClient@\u001b[1;36m634985\u001b[0m gRPC error: StatusCode.UNAVAILABLE failed to connect to all addresses  \u001b[2m[08/04/23 09:14:34]\u001b[0m\n",
       "       \u001b[3;35mNone\u001b[0m                                                                                     \u001b[2m                   \u001b[0m\n",
       "       The ongoing request is terminated as the server is not available or closed already.      \u001b[2m                   \u001b[0m\n"
      ]
     },
     "metadata": {},
     "output_type": "display_data"
    },
    {
     "data": {
      "text/html": [
       "<pre style=\"white-space:pre;overflow-x:auto;line-height:normal;font-family:Menlo,'DejaVu Sans Mono',consolas,'Courier New',monospace\">\n",
       "</pre>\n"
      ],
      "text/plain": [
       "\n"
      ]
     },
     "metadata": {},
     "output_type": "display_data"
    },
    {
     "name": "stderr",
     "output_type": "stream",
     "text": [
      "Exception in thread Thread-468:\n",
      "Traceback (most recent call last):\n",
      "  File \"/home/shadowmotion/anaconda3/envs/py10-117/lib/python3.10/site-packages/jina/clients/base/grpc.py\", line 142, in _get_results\n",
      "    async for response in stream_rpc.stream_rpc_with_retry():\n",
      "  File \"/home/shadowmotion/anaconda3/envs/py10-117/lib/python3.10/site-packages/jina/clients/base/stream_rpc.py\", line 51, in stream_rpc_with_retry\n",
      "    async for resp in stub.Call(\n",
      "  File \"/home/shadowmotion/anaconda3/envs/py10-117/lib/python3.10/site-packages/grpc/aio/_call.py\", line 326, in _fetch_stream_responses\n",
      "    await self._raise_for_status()\n",
      "  File \"/home/shadowmotion/anaconda3/envs/py10-117/lib/python3.10/site-packages/grpc/aio/_call.py\", line 236, in _raise_for_status\n",
      "    raise _create_rpc_error(await self.initial_metadata(), await\n",
      "grpc.aio._call.AioRpcError: <AioRpcError of RPC that terminated with:\n",
      "\tstatus = StatusCode.UNAVAILABLE\n",
      "\tdetails = \"failed to connect to all addresses\"\n",
      "\tdebug_error_string = \"{\"created\":\"@1691111674.724091990\",\"description\":\"Failed to pick subchannel\",\"file\":\"src/core/ext/filters/client_channel/client_channel.cc\",\"file_line\":3260,\"referenced_errors\":[{\"created\":\"@1691111674.724089166\",\"description\":\"failed to connect to all addresses\",\"file\":\"src/core/lib/transport/error_utils.cc\",\"file_line\":167,\"grpc_status\":14}]}\"\n",
      ">\n",
      "\n",
      "During handling of the above exception, another exception occurred:\n",
      "\n",
      "Traceback (most recent call last):\n",
      "  File \"/home/shadowmotion/anaconda3/envs/py10-117/lib/python3.10/threading.py\", line 1016, in _bootstrap_inner\n",
      "    self.run()\n",
      "  File \"/home/shadowmotion/anaconda3/envs/py10-117/lib/python3.10/site-packages/jina/helper.py\", line 1299, in run\n",
      "    self.result = asyncio.run(func(*args, **kwargs))\n",
      "  File \"/home/shadowmotion/anaconda3/envs/py10-117/lib/python3.10/asyncio/runners.py\", line 44, in run\n",
      "    return loop.run_until_complete(main)\n",
      "  File \"/home/shadowmotion/anaconda3/envs/py10-117/lib/python3.10/asyncio/base_events.py\", line 649, in run_until_complete\n",
      "    return future.result()\n",
      "  File \"/home/shadowmotion/anaconda3/envs/py10-117/lib/python3.10/site-packages/jina/clients/mixin.py\", line 401, in _get_results\n",
      "    async for resp in c._get_results(*args, **kwargs):\n",
      "  File \"/home/shadowmotion/anaconda3/envs/py10-117/lib/python3.10/site-packages/jina/clients/base/grpc.py\", line 169, in _get_results\n",
      "    await self._handle_error_and_metadata(err)\n",
      "  File \"/home/shadowmotion/anaconda3/envs/py10-117/lib/python3.10/site-packages/jina/clients/base/grpc.py\", line 188, in _handle_error_and_metadata\n",
      "    raise ConnectionError(msg)\n",
      "ConnectionError: gRPC error: StatusCode.UNAVAILABLE failed to connect to all addresses\n",
      "None\n",
      "\u001b[1;33mResourceWarning: Unclosed socket <zmq.Socket(zmq.PUSH) at 0x7f709e5e85e0>\u001b[0m \u001b[1;30m(raised from sys:1)\u001b[0m\n"
     ]
    },
    {
     "data": {
      "text/html": [
       "<pre style=\"white-space:pre;overflow-x:auto;line-height:normal;font-family:Menlo,'DejaVu Sans Mono',consolas,'Courier New',monospace\">\n",
       "</pre>\n"
      ],
      "text/plain": [
       "\n"
      ]
     },
     "metadata": {},
     "output_type": "display_data"
    },
    {
     "data": {
      "text/html": [
       "<pre style=\"white-space:pre;overflow-x:auto;line-height:normal;font-family:Menlo,'DejaVu Sans Mono',consolas,'Courier New',monospace\">\n",
       "</pre>\n"
      ],
      "text/plain": [
       "\n"
      ]
     },
     "metadata": {},
     "output_type": "display_data"
    },
    {
     "name": "stdout",
     "output_type": "stream",
     "text": [
      "['洛阳栾川钼业集团股份有限公司', '2019年'] 2020-03-30__洛阳栾川钼业集团股份有限公司__603993__洛阳钼业__2019年__年度报告\n"
     ]
    },
    {
     "data": {
      "text/html": [
       "<pre style=\"white-space:pre;overflow-x:auto;line-height:normal;font-family:Menlo,'DejaVu Sans Mono',consolas,'Courier New',monospace\"><span style=\"color: #800000; text-decoration-color: #800000; font-weight: bold\">ERROR </span> GRPCClient@<span style=\"color: #008080; text-decoration-color: #008080; font-weight: bold\">634985</span> gRPC error: StatusCode.UNAVAILABLE failed to connect to all addresses  <span style=\"color: #7f7f7f; text-decoration-color: #7f7f7f\">[08/04/23 09:14:49]</span>\n",
       "       <span style=\"color: #800080; text-decoration-color: #800080; font-style: italic\">None</span>                                                                                     <span style=\"color: #7f7f7f; text-decoration-color: #7f7f7f\">                   </span>\n",
       "       The ongoing request is terminated as the server is not available or closed already.      <span style=\"color: #7f7f7f; text-decoration-color: #7f7f7f\">                   </span>\n",
       "</pre>\n"
      ],
      "text/plain": [
       "\u001b[1;31mERROR \u001b[0m GRPCClient@\u001b[1;36m634985\u001b[0m gRPC error: StatusCode.UNAVAILABLE failed to connect to all addresses  \u001b[2m[08/04/23 09:14:49]\u001b[0m\n",
       "       \u001b[3;35mNone\u001b[0m                                                                                     \u001b[2m                   \u001b[0m\n",
       "       The ongoing request is terminated as the server is not available or closed already.      \u001b[2m                   \u001b[0m\n"
      ]
     },
     "metadata": {},
     "output_type": "display_data"
    },
    {
     "data": {
      "text/html": [
       "<pre style=\"white-space:pre;overflow-x:auto;line-height:normal;font-family:Menlo,'DejaVu Sans Mono',consolas,'Courier New',monospace\">\n",
       "</pre>\n"
      ],
      "text/plain": [
       "\n"
      ]
     },
     "metadata": {},
     "output_type": "display_data"
    },
    {
     "name": "stderr",
     "output_type": "stream",
     "text": [
      "Exception in thread Thread-471:\n",
      "Traceback (most recent call last):\n",
      "  File \"/home/shadowmotion/anaconda3/envs/py10-117/lib/python3.10/site-packages/jina/clients/base/grpc.py\", line 142, in _get_results\n",
      "    async for response in stream_rpc.stream_rpc_with_retry():\n",
      "  File \"/home/shadowmotion/anaconda3/envs/py10-117/lib/python3.10/site-packages/jina/clients/base/stream_rpc.py\", line 51, in stream_rpc_with_retry\n",
      "    async for resp in stub.Call(\n",
      "  File \"/home/shadowmotion/anaconda3/envs/py10-117/lib/python3.10/site-packages/grpc/aio/_call.py\", line 326, in _fetch_stream_responses\n",
      "    await self._raise_for_status()\n",
      "  File \"/home/shadowmotion/anaconda3/envs/py10-117/lib/python3.10/site-packages/grpc/aio/_call.py\", line 236, in _raise_for_status\n",
      "    raise _create_rpc_error(await self.initial_metadata(), await\n",
      "grpc.aio._call.AioRpcError: <AioRpcError of RPC that terminated with:\n",
      "\tstatus = StatusCode.UNAVAILABLE\n",
      "\tdetails = \"failed to connect to all addresses\"\n",
      "\tdebug_error_string = \"{\"created\":\"@1691111689.873396556\",\"description\":\"Failed to pick subchannel\",\"file\":\"src/core/ext/filters/client_channel/client_channel.cc\",\"file_line\":3260,\"referenced_errors\":[{\"created\":\"@1691111689.873394878\",\"description\":\"failed to connect to all addresses\",\"file\":\"src/core/lib/transport/error_utils.cc\",\"file_line\":167,\"grpc_status\":14}]}\"\n",
      ">\n",
      "\n",
      "During handling of the above exception, another exception occurred:\n",
      "\n",
      "Traceback (most recent call last):\n",
      "  File \"/home/shadowmotion/anaconda3/envs/py10-117/lib/python3.10/threading.py\", line 1016, in _bootstrap_inner\n",
      "    self.run()\n",
      "  File \"/home/shadowmotion/anaconda3/envs/py10-117/lib/python3.10/site-packages/jina/helper.py\", line 1299, in run\n",
      "    self.result = asyncio.run(func(*args, **kwargs))\n",
      "  File \"/home/shadowmotion/anaconda3/envs/py10-117/lib/python3.10/asyncio/runners.py\", line 44, in run\n",
      "    return loop.run_until_complete(main)\n",
      "  File \"/home/shadowmotion/anaconda3/envs/py10-117/lib/python3.10/asyncio/base_events.py\", line 649, in run_until_complete\n",
      "    return future.result()\n",
      "  File \"/home/shadowmotion/anaconda3/envs/py10-117/lib/python3.10/site-packages/jina/clients/mixin.py\", line 401, in _get_results\n",
      "    async for resp in c._get_results(*args, **kwargs):\n",
      "  File \"/home/shadowmotion/anaconda3/envs/py10-117/lib/python3.10/site-packages/jina/clients/base/grpc.py\", line 169, in _get_results\n",
      "    await self._handle_error_and_metadata(err)\n",
      "  File \"/home/shadowmotion/anaconda3/envs/py10-117/lib/python3.10/site-packages/jina/clients/base/grpc.py\", line 188, in _handle_error_and_metadata\n",
      "    raise ConnectionError(msg)\n",
      "ConnectionError: gRPC error: StatusCode.UNAVAILABLE failed to connect to all addresses\n",
      "None\n"
     ]
    },
    {
     "data": {
      "text/html": [
       "<pre style=\"white-space:pre;overflow-x:auto;line-height:normal;font-family:Menlo,'DejaVu Sans Mono',consolas,'Courier New',monospace\">\n",
       "</pre>\n"
      ],
      "text/plain": [
       "\n"
      ]
     },
     "metadata": {},
     "output_type": "display_data"
    },
    {
     "data": {
      "text/html": [
       "<pre style=\"white-space:pre;overflow-x:auto;line-height:normal;font-family:Menlo,'DejaVu Sans Mono',consolas,'Courier New',monospace\">\n",
       "</pre>\n"
      ],
      "text/plain": [
       "\n"
      ]
     },
     "metadata": {},
     "output_type": "display_data"
    },
    {
     "name": "stdout",
     "output_type": "stream",
     "text": [
      "['江苏美思德化学股份有限公司', '2019年'] 2020-03-20__江苏美思德化学股份有限公司__603041__美思德__2019年__年度报告\n"
     ]
    },
    {
     "name": "stderr",
     "output_type": "stream",
     "text": [
      "\u001b[1;33mResourceWarning: Unclosed socket <zmq.Socket(zmq.PUSH) at 0x7f709e5e8220>\u001b[0m \u001b[1;30m(raised from sys:1)\u001b[0m\n"
     ]
    },
    {
     "data": {
      "text/html": [
       "<pre style=\"white-space:pre;overflow-x:auto;line-height:normal;font-family:Menlo,'DejaVu Sans Mono',consolas,'Courier New',monospace\"><span style=\"color: #800000; text-decoration-color: #800000; font-weight: bold\">ERROR </span> GRPCClient@<span style=\"color: #008080; text-decoration-color: #008080; font-weight: bold\">634985</span> gRPC error: StatusCode.UNAVAILABLE failed to connect to all addresses  <span style=\"color: #7f7f7f; text-decoration-color: #7f7f7f\">[08/04/23 09:15:05]</span>\n",
       "       <span style=\"color: #800080; text-decoration-color: #800080; font-style: italic\">None</span>                                                                                     <span style=\"color: #7f7f7f; text-decoration-color: #7f7f7f\">                   </span>\n",
       "       The ongoing request is terminated as the server is not available or closed already.      <span style=\"color: #7f7f7f; text-decoration-color: #7f7f7f\">                   </span>\n",
       "</pre>\n"
      ],
      "text/plain": [
       "\u001b[1;31mERROR \u001b[0m GRPCClient@\u001b[1;36m634985\u001b[0m gRPC error: StatusCode.UNAVAILABLE failed to connect to all addresses  \u001b[2m[08/04/23 09:15:05]\u001b[0m\n",
       "       \u001b[3;35mNone\u001b[0m                                                                                     \u001b[2m                   \u001b[0m\n",
       "       The ongoing request is terminated as the server is not available or closed already.      \u001b[2m                   \u001b[0m\n"
      ]
     },
     "metadata": {},
     "output_type": "display_data"
    },
    {
     "data": {
      "text/html": [
       "<pre style=\"white-space:pre;overflow-x:auto;line-height:normal;font-family:Menlo,'DejaVu Sans Mono',consolas,'Courier New',monospace\">\n",
       "</pre>\n"
      ],
      "text/plain": [
       "\n"
      ]
     },
     "metadata": {},
     "output_type": "display_data"
    },
    {
     "name": "stderr",
     "output_type": "stream",
     "text": [
      "Exception in thread Thread-474:\n",
      "Traceback (most recent call last):\n",
      "  File \"/home/shadowmotion/anaconda3/envs/py10-117/lib/python3.10/site-packages/jina/clients/base/grpc.py\", line 142, in _get_results\n",
      "    async for response in stream_rpc.stream_rpc_with_retry():\n",
      "  File \"/home/shadowmotion/anaconda3/envs/py10-117/lib/python3.10/site-packages/jina/clients/base/stream_rpc.py\", line 51, in stream_rpc_with_retry\n",
      "    async for resp in stub.Call(\n",
      "  File \"/home/shadowmotion/anaconda3/envs/py10-117/lib/python3.10/site-packages/grpc/aio/_call.py\", line 326, in _fetch_stream_responses\n",
      "    await self._raise_for_status()\n",
      "  File \"/home/shadowmotion/anaconda3/envs/py10-117/lib/python3.10/site-packages/grpc/aio/_call.py\", line 236, in _raise_for_status\n",
      "    raise _create_rpc_error(await self.initial_metadata(), await\n",
      "grpc.aio._call.AioRpcError: <AioRpcError of RPC that terminated with:\n",
      "\tstatus = StatusCode.UNAVAILABLE\n",
      "\tdetails = \"failed to connect to all addresses\"\n",
      "\tdebug_error_string = \"{\"created\":\"@1691111705.122405798\",\"description\":\"Failed to pick subchannel\",\"file\":\"src/core/ext/filters/client_channel/client_channel.cc\",\"file_line\":3260,\"referenced_errors\":[{\"created\":\"@1691111705.122403563\",\"description\":\"failed to connect to all addresses\",\"file\":\"src/core/lib/transport/error_utils.cc\",\"file_line\":167,\"grpc_status\":14}]}\"\n",
      ">\n",
      "\n",
      "During handling of the above exception, another exception occurred:\n",
      "\n",
      "Traceback (most recent call last):\n",
      "  File \"/home/shadowmotion/anaconda3/envs/py10-117/lib/python3.10/threading.py\", line 1016, in _bootstrap_inner\n",
      "    self.run()\n",
      "  File \"/home/shadowmotion/anaconda3/envs/py10-117/lib/python3.10/site-packages/jina/helper.py\", line 1299, in run\n",
      "    self.result = asyncio.run(func(*args, **kwargs))\n",
      "  File \"/home/shadowmotion/anaconda3/envs/py10-117/lib/python3.10/asyncio/runners.py\", line 44, in run\n",
      "    return loop.run_until_complete(main)\n",
      "  File \"/home/shadowmotion/anaconda3/envs/py10-117/lib/python3.10/asyncio/base_events.py\", line 649, in run_until_complete\n",
      "    return future.result()\n",
      "  File \"/home/shadowmotion/anaconda3/envs/py10-117/lib/python3.10/site-packages/jina/clients/mixin.py\", line 401, in _get_results\n",
      "    async for resp in c._get_results(*args, **kwargs):\n",
      "  File \"/home/shadowmotion/anaconda3/envs/py10-117/lib/python3.10/site-packages/jina/clients/base/grpc.py\", line 169, in _get_results\n",
      "    await self._handle_error_and_metadata(err)\n",
      "  File \"/home/shadowmotion/anaconda3/envs/py10-117/lib/python3.10/site-packages/jina/clients/base/grpc.py\", line 188, in _handle_error_and_metadata\n",
      "    raise ConnectionError(msg)\n",
      "ConnectionError: gRPC error: StatusCode.UNAVAILABLE failed to connect to all addresses\n",
      "None\n",
      "\u001b[1;33mResourceWarning: Unclosed socket <zmq.Socket(zmq.PUSH) at 0x7f709e5e8d60>\u001b[0m \u001b[1;30m(raised from sys:1)\u001b[0m\n"
     ]
    },
    {
     "data": {
      "text/html": [
       "<pre style=\"white-space:pre;overflow-x:auto;line-height:normal;font-family:Menlo,'DejaVu Sans Mono',consolas,'Courier New',monospace\">\n",
       "</pre>\n"
      ],
      "text/plain": [
       "\n"
      ]
     },
     "metadata": {},
     "output_type": "display_data"
    },
    {
     "name": "stderr",
     "output_type": "stream",
     "text": [
      "\u001b[1;33mResourceWarning: Unclosed socket <zmq.Socket(zmq.PUSH) at 0x7f709e5e8d00>\u001b[0m \u001b[1;30m(raised from sys:1)\u001b[0m\n"
     ]
    },
    {
     "data": {
      "text/html": [
       "<pre style=\"white-space:pre;overflow-x:auto;line-height:normal;font-family:Menlo,'DejaVu Sans Mono',consolas,'Courier New',monospace\">\n",
       "</pre>\n"
      ],
      "text/plain": [
       "\n"
      ]
     },
     "metadata": {},
     "output_type": "display_data"
    },
    {
     "name": "stdout",
     "output_type": "stream",
     "text": [
      "['世运电路', '2019年'] 2020-04-15__广东世运电路科技股份有限公司__603920__世运电路__2019年__年度报告\n"
     ]
    },
    {
     "name": "stderr",
     "output_type": "stream",
     "text": [
      "\u001b[1;33mResourceWarning: Unclosed socket <zmq.Socket(zmq.PUSH) at 0x7f709e5e8a60>\u001b[0m \u001b[1;30m(raised from sys:1)\u001b[0m\n"
     ]
    },
    {
     "data": {
      "text/html": [
       "<pre style=\"white-space:pre;overflow-x:auto;line-height:normal;font-family:Menlo,'DejaVu Sans Mono',consolas,'Courier New',monospace\"><span style=\"color: #800000; text-decoration-color: #800000; font-weight: bold\">ERROR </span> GRPCClient@<span style=\"color: #008080; text-decoration-color: #008080; font-weight: bold\">634985</span> gRPC error: StatusCode.UNAVAILABLE failed to connect to all addresses  <span style=\"color: #7f7f7f; text-decoration-color: #7f7f7f\">[08/04/23 09:15:18]</span>\n",
       "       <span style=\"color: #800080; text-decoration-color: #800080; font-style: italic\">None</span>                                                                                     <span style=\"color: #7f7f7f; text-decoration-color: #7f7f7f\">                   </span>\n",
       "       The ongoing request is terminated as the server is not available or closed already.      <span style=\"color: #7f7f7f; text-decoration-color: #7f7f7f\">                   </span>\n",
       "</pre>\n"
      ],
      "text/plain": [
       "\u001b[1;31mERROR \u001b[0m GRPCClient@\u001b[1;36m634985\u001b[0m gRPC error: StatusCode.UNAVAILABLE failed to connect to all addresses  \u001b[2m[08/04/23 09:15:18]\u001b[0m\n",
       "       \u001b[3;35mNone\u001b[0m                                                                                     \u001b[2m                   \u001b[0m\n",
       "       The ongoing request is terminated as the server is not available or closed already.      \u001b[2m                   \u001b[0m\n"
      ]
     },
     "metadata": {},
     "output_type": "display_data"
    },
    {
     "data": {
      "text/html": [
       "<pre style=\"white-space:pre;overflow-x:auto;line-height:normal;font-family:Menlo,'DejaVu Sans Mono',consolas,'Courier New',monospace\">\n",
       "</pre>\n"
      ],
      "text/plain": [
       "\n"
      ]
     },
     "metadata": {},
     "output_type": "display_data"
    },
    {
     "name": "stderr",
     "output_type": "stream",
     "text": [
      "Exception in thread Thread-477:\n",
      "Traceback (most recent call last):\n",
      "  File \"/home/shadowmotion/anaconda3/envs/py10-117/lib/python3.10/site-packages/jina/clients/base/grpc.py\", line 142, in _get_results\n",
      "    async for response in stream_rpc.stream_rpc_with_retry():\n",
      "  File \"/home/shadowmotion/anaconda3/envs/py10-117/lib/python3.10/site-packages/jina/clients/base/stream_rpc.py\", line 51, in stream_rpc_with_retry\n",
      "    async for resp in stub.Call(\n",
      "  File \"/home/shadowmotion/anaconda3/envs/py10-117/lib/python3.10/site-packages/grpc/aio/_call.py\", line 326, in _fetch_stream_responses\n",
      "    await self._raise_for_status()\n",
      "  File \"/home/shadowmotion/anaconda3/envs/py10-117/lib/python3.10/site-packages/grpc/aio/_call.py\", line 236, in _raise_for_status\n",
      "    raise _create_rpc_error(await self.initial_metadata(), await\n",
      "grpc.aio._call.AioRpcError: <AioRpcError of RPC that terminated with:\n",
      "\tstatus = StatusCode.UNAVAILABLE\n",
      "\tdetails = \"failed to connect to all addresses\"\n",
      "\tdebug_error_string = \"{\"created\":\"@1691111718.702119320\",\"description\":\"Failed to pick subchannel\",\"file\":\"src/core/ext/filters/client_channel/client_channel.cc\",\"file_line\":3260,\"referenced_errors\":[{\"created\":\"@1691111718.702117910\",\"description\":\"failed to connect to all addresses\",\"file\":\"src/core/lib/transport/error_utils.cc\",\"file_line\":167,\"grpc_status\":14}]}\"\n",
      ">\n",
      "\n",
      "During handling of the above exception, another exception occurred:\n",
      "\n",
      "Traceback (most recent call last):\n",
      "  File \"/home/shadowmotion/anaconda3/envs/py10-117/lib/python3.10/threading.py\", line 1016, in _bootstrap_inner\n",
      "    self.run()\n",
      "  File \"/home/shadowmotion/anaconda3/envs/py10-117/lib/python3.10/site-packages/jina/helper.py\", line 1299, in run\n",
      "    self.result = asyncio.run(func(*args, **kwargs))\n",
      "  File \"/home/shadowmotion/anaconda3/envs/py10-117/lib/python3.10/asyncio/runners.py\", line 44, in run\n",
      "    return loop.run_until_complete(main)\n",
      "  File \"/home/shadowmotion/anaconda3/envs/py10-117/lib/python3.10/asyncio/base_events.py\", line 649, in run_until_complete\n",
      "    return future.result()\n",
      "  File \"/home/shadowmotion/anaconda3/envs/py10-117/lib/python3.10/site-packages/jina/clients/mixin.py\", line 401, in _get_results\n",
      "    async for resp in c._get_results(*args, **kwargs):\n",
      "  File \"/home/shadowmotion/anaconda3/envs/py10-117/lib/python3.10/site-packages/jina/clients/base/grpc.py\", line 169, in _get_results\n",
      "    await self._handle_error_and_metadata(err)\n",
      "  File \"/home/shadowmotion/anaconda3/envs/py10-117/lib/python3.10/site-packages/jina/clients/base/grpc.py\", line 188, in _handle_error_and_metadata\n",
      "    raise ConnectionError(msg)\n",
      "ConnectionError: gRPC error: StatusCode.UNAVAILABLE failed to connect to all addresses\n",
      "None\n",
      "\u001b[1;33mResourceWarning: Unclosed socket <zmq.Socket(zmq.PUSH) at 0x7f709e5e9180>\u001b[0m \u001b[1;30m(raised from sys:1)\u001b[0m\n"
     ]
    },
    {
     "data": {
      "text/html": [
       "<pre style=\"white-space:pre;overflow-x:auto;line-height:normal;font-family:Menlo,'DejaVu Sans Mono',consolas,'Courier New',monospace\">\n",
       "</pre>\n"
      ],
      "text/plain": [
       "\n"
      ]
     },
     "metadata": {},
     "output_type": "display_data"
    },
    {
     "name": "stderr",
     "output_type": "stream",
     "text": [
      "\u001b[1;33mResourceWarning: Unclosed socket <zmq.Socket(zmq.PUSH) at 0x7f709e5e9120>\u001b[0m \u001b[1;30m(raised from sys:1)\u001b[0m\n"
     ]
    },
    {
     "data": {
      "text/html": [
       "<pre style=\"white-space:pre;overflow-x:auto;line-height:normal;font-family:Menlo,'DejaVu Sans Mono',consolas,'Courier New',monospace\">\n",
       "</pre>\n"
      ],
      "text/plain": [
       "\n"
      ]
     },
     "metadata": {},
     "output_type": "display_data"
    },
    {
     "name": "stdout",
     "output_type": "stream",
     "text": [
      "['上海市北高新股份有限公司', '2019年'] 2020-04-15__上海市北高新股份有限公司__600604__市北高新__2019年__年度报告\n"
     ]
    },
    {
     "name": "stderr",
     "output_type": "stream",
     "text": [
      "\u001b[1;33mResourceWarning: Unclosed socket <zmq.Socket(zmq.PUSH) at 0x7f709e5e8640>\u001b[0m \u001b[1;30m(raised from sys:1)\u001b[0m\n"
     ]
    },
    {
     "data": {
      "text/html": [
       "<pre style=\"white-space:pre;overflow-x:auto;line-height:normal;font-family:Menlo,'DejaVu Sans Mono',consolas,'Courier New',monospace\"><span style=\"color: #800000; text-decoration-color: #800000; font-weight: bold\">ERROR </span> GRPCClient@<span style=\"color: #008080; text-decoration-color: #008080; font-weight: bold\">634985</span> gRPC error: StatusCode.UNAVAILABLE failed to connect to all addresses  <span style=\"color: #7f7f7f; text-decoration-color: #7f7f7f\">[08/04/23 09:15:32]</span>\n",
       "       <span style=\"color: #800080; text-decoration-color: #800080; font-style: italic\">None</span>                                                                                     <span style=\"color: #7f7f7f; text-decoration-color: #7f7f7f\">                   </span>\n",
       "       The ongoing request is terminated as the server is not available or closed already.      <span style=\"color: #7f7f7f; text-decoration-color: #7f7f7f\">                   </span>\n",
       "</pre>\n"
      ],
      "text/plain": [
       "\u001b[1;31mERROR \u001b[0m GRPCClient@\u001b[1;36m634985\u001b[0m gRPC error: StatusCode.UNAVAILABLE failed to connect to all addresses  \u001b[2m[08/04/23 09:15:32]\u001b[0m\n",
       "       \u001b[3;35mNone\u001b[0m                                                                                     \u001b[2m                   \u001b[0m\n",
       "       The ongoing request is terminated as the server is not available or closed already.      \u001b[2m                   \u001b[0m\n"
      ]
     },
     "metadata": {},
     "output_type": "display_data"
    },
    {
     "data": {
      "text/html": [
       "<pre style=\"white-space:pre;overflow-x:auto;line-height:normal;font-family:Menlo,'DejaVu Sans Mono',consolas,'Courier New',monospace\">\n",
       "</pre>\n"
      ],
      "text/plain": [
       "\n"
      ]
     },
     "metadata": {},
     "output_type": "display_data"
    },
    {
     "name": "stderr",
     "output_type": "stream",
     "text": [
      "Exception in thread Thread-480:\n",
      "Traceback (most recent call last):\n",
      "  File \"/home/shadowmotion/anaconda3/envs/py10-117/lib/python3.10/site-packages/jina/clients/base/grpc.py\", line 142, in _get_results\n",
      "    async for response in stream_rpc.stream_rpc_with_retry():\n",
      "  File \"/home/shadowmotion/anaconda3/envs/py10-117/lib/python3.10/site-packages/jina/clients/base/stream_rpc.py\", line 51, in stream_rpc_with_retry\n",
      "    async for resp in stub.Call(\n",
      "  File \"/home/shadowmotion/anaconda3/envs/py10-117/lib/python3.10/site-packages/grpc/aio/_call.py\", line 326, in _fetch_stream_responses\n",
      "    await self._raise_for_status()\n",
      "  File \"/home/shadowmotion/anaconda3/envs/py10-117/lib/python3.10/site-packages/grpc/aio/_call.py\", line 236, in _raise_for_status\n",
      "    raise _create_rpc_error(await self.initial_metadata(), await\n",
      "grpc.aio._call.AioRpcError: <AioRpcError of RPC that terminated with:\n",
      "\tstatus = StatusCode.UNAVAILABLE\n",
      "\tdetails = \"failed to connect to all addresses\"\n",
      "\tdebug_error_string = \"{\"created\":\"@1691111732.541933718\",\"description\":\"Failed to pick subchannel\",\"file\":\"src/core/ext/filters/client_channel/client_channel.cc\",\"file_line\":3260,\"referenced_errors\":[{\"created\":\"@1691111732.541930591\",\"description\":\"failed to connect to all addresses\",\"file\":\"src/core/lib/transport/error_utils.cc\",\"file_line\":167,\"grpc_status\":14}]}\"\n",
      ">\n",
      "\n",
      "During handling of the above exception, another exception occurred:\n",
      "\n",
      "Traceback (most recent call last):\n",
      "  File \"/home/shadowmotion/anaconda3/envs/py10-117/lib/python3.10/threading.py\", line 1016, in _bootstrap_inner\n",
      "    self.run()\n",
      "  File \"/home/shadowmotion/anaconda3/envs/py10-117/lib/python3.10/site-packages/jina/helper.py\", line 1299, in run\n",
      "    self.result = asyncio.run(func(*args, **kwargs))\n",
      "  File \"/home/shadowmotion/anaconda3/envs/py10-117/lib/python3.10/asyncio/runners.py\", line 44, in run\n",
      "    return loop.run_until_complete(main)\n",
      "  File \"/home/shadowmotion/anaconda3/envs/py10-117/lib/python3.10/asyncio/base_events.py\", line 649, in run_until_complete\n",
      "    return future.result()\n",
      "  File \"/home/shadowmotion/anaconda3/envs/py10-117/lib/python3.10/site-packages/jina/clients/mixin.py\", line 401, in _get_results\n",
      "    async for resp in c._get_results(*args, **kwargs):\n",
      "  File \"/home/shadowmotion/anaconda3/envs/py10-117/lib/python3.10/site-packages/jina/clients/base/grpc.py\", line 169, in _get_results\n",
      "    await self._handle_error_and_metadata(err)\n",
      "  File \"/home/shadowmotion/anaconda3/envs/py10-117/lib/python3.10/site-packages/jina/clients/base/grpc.py\", line 188, in _handle_error_and_metadata\n",
      "    raise ConnectionError(msg)\n",
      "ConnectionError: gRPC error: StatusCode.UNAVAILABLE failed to connect to all addresses\n",
      "None\n",
      "\u001b[1;33mResourceWarning: Unclosed socket <zmq.Socket(zmq.PUSH) at 0x7f709e5e8b20>\u001b[0m \u001b[1;30m(raised from sys:1)\u001b[0m\n"
     ]
    },
    {
     "data": {
      "text/html": [
       "<pre style=\"white-space:pre;overflow-x:auto;line-height:normal;font-family:Menlo,'DejaVu Sans Mono',consolas,'Courier New',monospace\">\n",
       "</pre>\n"
      ],
      "text/plain": [
       "\n"
      ]
     },
     "metadata": {},
     "output_type": "display_data"
    },
    {
     "name": "stderr",
     "output_type": "stream",
     "text": [
      "\u001b[1;33mResourceWarning: Unclosed socket <zmq.Socket(zmq.PUSH) at 0x7f709e5e8e20>\u001b[0m \u001b[1;30m(raised from sys:1)\u001b[0m\n"
     ]
    },
    {
     "data": {
      "text/html": [
       "<pre style=\"white-space:pre;overflow-x:auto;line-height:normal;font-family:Menlo,'DejaVu Sans Mono',consolas,'Courier New',monospace\">\n",
       "</pre>\n"
      ],
      "text/plain": [
       "\n"
      ]
     },
     "metadata": {},
     "output_type": "display_data"
    },
    {
     "name": "stdout",
     "output_type": "stream",
     "text": [
      "['珀莱雅化妆品股份有限公司', '2019年'] 2020-04-02__珀莱雅化妆品股份有限公司__603605__珀莱雅__2019年__年度报告\n"
     ]
    },
    {
     "name": "stderr",
     "output_type": "stream",
     "text": [
      "\u001b[1;33mResourceWarning: Unclosed socket <zmq.Socket(zmq.PUSH) at 0x7f709e5e9780>\u001b[0m \u001b[1;30m(raised from sys:1)\u001b[0m\n"
     ]
    },
    {
     "data": {
      "text/html": [
       "<pre style=\"white-space:pre;overflow-x:auto;line-height:normal;font-family:Menlo,'DejaVu Sans Mono',consolas,'Courier New',monospace\"><span style=\"color: #800000; text-decoration-color: #800000; font-weight: bold\">ERROR </span> GRPCClient@<span style=\"color: #008080; text-decoration-color: #008080; font-weight: bold\">634985</span> gRPC error: StatusCode.UNAVAILABLE failed to connect to all addresses  <span style=\"color: #7f7f7f; text-decoration-color: #7f7f7f\">[08/04/23 09:15:47]</span>\n",
       "       <span style=\"color: #800080; text-decoration-color: #800080; font-style: italic\">None</span>                                                                                     <span style=\"color: #7f7f7f; text-decoration-color: #7f7f7f\">                   </span>\n",
       "       The ongoing request is terminated as the server is not available or closed already.      <span style=\"color: #7f7f7f; text-decoration-color: #7f7f7f\">                   </span>\n",
       "</pre>\n"
      ],
      "text/plain": [
       "\u001b[1;31mERROR \u001b[0m GRPCClient@\u001b[1;36m634985\u001b[0m gRPC error: StatusCode.UNAVAILABLE failed to connect to all addresses  \u001b[2m[08/04/23 09:15:47]\u001b[0m\n",
       "       \u001b[3;35mNone\u001b[0m                                                                                     \u001b[2m                   \u001b[0m\n",
       "       The ongoing request is terminated as the server is not available or closed already.      \u001b[2m                   \u001b[0m\n"
      ]
     },
     "metadata": {},
     "output_type": "display_data"
    },
    {
     "data": {
      "text/html": [
       "<pre style=\"white-space:pre;overflow-x:auto;line-height:normal;font-family:Menlo,'DejaVu Sans Mono',consolas,'Courier New',monospace\">\n",
       "</pre>\n"
      ],
      "text/plain": [
       "\n"
      ]
     },
     "metadata": {},
     "output_type": "display_data"
    },
    {
     "name": "stderr",
     "output_type": "stream",
     "text": [
      "Exception in thread Thread-483:\n",
      "Traceback (most recent call last):\n",
      "  File \"/home/shadowmotion/anaconda3/envs/py10-117/lib/python3.10/site-packages/jina/clients/base/grpc.py\", line 142, in _get_results\n",
      "    async for response in stream_rpc.stream_rpc_with_retry():\n",
      "  File \"/home/shadowmotion/anaconda3/envs/py10-117/lib/python3.10/site-packages/jina/clients/base/stream_rpc.py\", line 51, in stream_rpc_with_retry\n",
      "    async for resp in stub.Call(\n",
      "  File \"/home/shadowmotion/anaconda3/envs/py10-117/lib/python3.10/site-packages/grpc/aio/_call.py\", line 326, in _fetch_stream_responses\n",
      "    await self._raise_for_status()\n",
      "  File \"/home/shadowmotion/anaconda3/envs/py10-117/lib/python3.10/site-packages/grpc/aio/_call.py\", line 236, in _raise_for_status\n",
      "    raise _create_rpc_error(await self.initial_metadata(), await\n",
      "grpc.aio._call.AioRpcError: <AioRpcError of RPC that terminated with:\n",
      "\tstatus = StatusCode.UNAVAILABLE\n",
      "\tdetails = \"failed to connect to all addresses\"\n",
      "\tdebug_error_string = \"{\"created\":\"@1691111747.408144417\",\"description\":\"Failed to pick subchannel\",\"file\":\"src/core/ext/filters/client_channel/client_channel.cc\",\"file_line\":3260,\"referenced_errors\":[{\"created\":\"@1691111747.408142182\",\"description\":\"failed to connect to all addresses\",\"file\":\"src/core/lib/transport/error_utils.cc\",\"file_line\":167,\"grpc_status\":14}]}\"\n",
      ">\n",
      "\n",
      "During handling of the above exception, another exception occurred:\n",
      "\n",
      "Traceback (most recent call last):\n",
      "  File \"/home/shadowmotion/anaconda3/envs/py10-117/lib/python3.10/threading.py\", line 1016, in _bootstrap_inner\n",
      "    self.run()\n",
      "  File \"/home/shadowmotion/anaconda3/envs/py10-117/lib/python3.10/site-packages/jina/helper.py\", line 1299, in run\n",
      "    self.result = asyncio.run(func(*args, **kwargs))\n",
      "  File \"/home/shadowmotion/anaconda3/envs/py10-117/lib/python3.10/asyncio/runners.py\", line 44, in run\n",
      "    return loop.run_until_complete(main)\n",
      "  File \"/home/shadowmotion/anaconda3/envs/py10-117/lib/python3.10/asyncio/base_events.py\", line 649, in run_until_complete\n",
      "    return future.result()\n",
      "  File \"/home/shadowmotion/anaconda3/envs/py10-117/lib/python3.10/site-packages/jina/clients/mixin.py\", line 401, in _get_results\n",
      "    async for resp in c._get_results(*args, **kwargs):\n",
      "  File \"/home/shadowmotion/anaconda3/envs/py10-117/lib/python3.10/site-packages/jina/clients/base/grpc.py\", line 169, in _get_results\n",
      "    await self._handle_error_and_metadata(err)\n",
      "  File \"/home/shadowmotion/anaconda3/envs/py10-117/lib/python3.10/site-packages/jina/clients/base/grpc.py\", line 188, in _handle_error_and_metadata\n",
      "    raise ConnectionError(msg)\n",
      "ConnectionError: gRPC error: StatusCode.UNAVAILABLE failed to connect to all addresses\n",
      "None\n",
      "\u001b[1;33mResourceWarning: Unclosed socket <zmq.Socket(zmq.PUSH) at 0x7f709e5e8fa0>\u001b[0m \u001b[1;30m(raised from sys:1)\u001b[0m\n"
     ]
    },
    {
     "data": {
      "text/html": [
       "<pre style=\"white-space:pre;overflow-x:auto;line-height:normal;font-family:Menlo,'DejaVu Sans Mono',consolas,'Courier New',monospace\">\n",
       "</pre>\n"
      ],
      "text/plain": [
       "\n"
      ]
     },
     "metadata": {},
     "output_type": "display_data"
    },
    {
     "name": "stderr",
     "output_type": "stream",
     "text": [
      "\u001b[1;33mResourceWarning: Unclosed socket <zmq.Socket(zmq.PUSH) at 0x7f709e5e98a0>\u001b[0m \u001b[1;30m(raised from sys:1)\u001b[0m\n"
     ]
    },
    {
     "data": {
      "text/html": [
       "<pre style=\"white-space:pre;overflow-x:auto;line-height:normal;font-family:Menlo,'DejaVu Sans Mono',consolas,'Courier New',monospace\">\n",
       "</pre>\n"
      ],
      "text/plain": [
       "\n"
      ]
     },
     "metadata": {},
     "output_type": "display_data"
    },
    {
     "name": "stdout",
     "output_type": "stream",
     "text": [
      "['新兴铸管股份有限公司', '2019年'] 2020-04-24__新兴铸管股份有限公司__000778__新兴铸管__2019年__年度报告\n"
     ]
    },
    {
     "data": {
      "text/html": [
       "<pre style=\"white-space:pre;overflow-x:auto;line-height:normal;font-family:Menlo,'DejaVu Sans Mono',consolas,'Courier New',monospace\"><span style=\"color: #800000; text-decoration-color: #800000; font-weight: bold\">ERROR </span> GRPCClient@<span style=\"color: #008080; text-decoration-color: #008080; font-weight: bold\">634985</span> gRPC error: StatusCode.UNAVAILABLE failed to connect to all addresses  <span style=\"color: #7f7f7f; text-decoration-color: #7f7f7f\">[08/04/23 09:16:01]</span>\n",
       "       <span style=\"color: #800080; text-decoration-color: #800080; font-style: italic\">None</span>                                                                                     <span style=\"color: #7f7f7f; text-decoration-color: #7f7f7f\">                   </span>\n",
       "       The ongoing request is terminated as the server is not available or closed already.      <span style=\"color: #7f7f7f; text-decoration-color: #7f7f7f\">                   </span>\n",
       "</pre>\n"
      ],
      "text/plain": [
       "\u001b[1;31mERROR \u001b[0m GRPCClient@\u001b[1;36m634985\u001b[0m gRPC error: StatusCode.UNAVAILABLE failed to connect to all addresses  \u001b[2m[08/04/23 09:16:01]\u001b[0m\n",
       "       \u001b[3;35mNone\u001b[0m                                                                                     \u001b[2m                   \u001b[0m\n",
       "       The ongoing request is terminated as the server is not available or closed already.      \u001b[2m                   \u001b[0m\n"
      ]
     },
     "metadata": {},
     "output_type": "display_data"
    },
    {
     "data": {
      "text/html": [
       "<pre style=\"white-space:pre;overflow-x:auto;line-height:normal;font-family:Menlo,'DejaVu Sans Mono',consolas,'Courier New',monospace\">\n",
       "</pre>\n"
      ],
      "text/plain": [
       "\n"
      ]
     },
     "metadata": {},
     "output_type": "display_data"
    },
    {
     "name": "stderr",
     "output_type": "stream",
     "text": [
      "Exception in thread Thread-486:\n",
      "Traceback (most recent call last):\n",
      "  File \"/home/shadowmotion/anaconda3/envs/py10-117/lib/python3.10/site-packages/jina/clients/base/grpc.py\", line 142, in _get_results\n",
      "    async for response in stream_rpc.stream_rpc_with_retry():\n",
      "  File \"/home/shadowmotion/anaconda3/envs/py10-117/lib/python3.10/site-packages/jina/clients/base/stream_rpc.py\", line 51, in stream_rpc_with_retry\n",
      "    async for resp in stub.Call(\n",
      "  File \"/home/shadowmotion/anaconda3/envs/py10-117/lib/python3.10/site-packages/grpc/aio/_call.py\", line 326, in _fetch_stream_responses\n",
      "    await self._raise_for_status()\n",
      "  File \"/home/shadowmotion/anaconda3/envs/py10-117/lib/python3.10/site-packages/grpc/aio/_call.py\", line 236, in _raise_for_status\n",
      "    raise _create_rpc_error(await self.initial_metadata(), await\n",
      "grpc.aio._call.AioRpcError: <AioRpcError of RPC that terminated with:\n",
      "\tstatus = StatusCode.UNAVAILABLE\n",
      "\tdetails = \"failed to connect to all addresses\"\n",
      "\tdebug_error_string = \"{\"created\":\"@1691111761.350139507\",\"description\":\"Failed to pick subchannel\",\"file\":\"src/core/ext/filters/client_channel/client_channel.cc\",\"file_line\":3260,\"referenced_errors\":[{\"created\":\"@1691111761.350138589\",\"description\":\"failed to connect to all addresses\",\"file\":\"src/core/lib/transport/error_utils.cc\",\"file_line\":167,\"grpc_status\":14}]}\"\n",
      ">\n",
      "\n",
      "During handling of the above exception, another exception occurred:\n",
      "\n",
      "Traceback (most recent call last):\n",
      "  File \"/home/shadowmotion/anaconda3/envs/py10-117/lib/python3.10/threading.py\", line 1016, in _bootstrap_inner\n",
      "    self.run()\n",
      "  File \"/home/shadowmotion/anaconda3/envs/py10-117/lib/python3.10/site-packages/jina/helper.py\", line 1299, in run\n",
      "    self.result = asyncio.run(func(*args, **kwargs))\n",
      "  File \"/home/shadowmotion/anaconda3/envs/py10-117/lib/python3.10/asyncio/runners.py\", line 44, in run\n",
      "    return loop.run_until_complete(main)\n",
      "  File \"/home/shadowmotion/anaconda3/envs/py10-117/lib/python3.10/asyncio/base_events.py\", line 649, in run_until_complete\n",
      "    return future.result()\n",
      "  File \"/home/shadowmotion/anaconda3/envs/py10-117/lib/python3.10/site-packages/jina/clients/mixin.py\", line 401, in _get_results\n",
      "    async for resp in c._get_results(*args, **kwargs):\n",
      "  File \"/home/shadowmotion/anaconda3/envs/py10-117/lib/python3.10/site-packages/jina/clients/base/grpc.py\", line 169, in _get_results\n",
      "    await self._handle_error_and_metadata(err)\n",
      "  File \"/home/shadowmotion/anaconda3/envs/py10-117/lib/python3.10/site-packages/jina/clients/base/grpc.py\", line 188, in _handle_error_and_metadata\n",
      "    raise ConnectionError(msg)\n",
      "ConnectionError: gRPC error: StatusCode.UNAVAILABLE failed to connect to all addresses\n",
      "None\n",
      "\u001b[1;33mResourceWarning: Unclosed socket <zmq.Socket(zmq.PUSH) at 0x7f709e5e9d80>\u001b[0m \u001b[1;30m(raised from sys:1)\u001b[0m\n"
     ]
    }
   ],
   "source": [
    "with open(\"../data/test_temp/pipeline.txt\", \"w\") as f:\n",
    "    for i, question in enumerate(questions):\n",
    "        if i >= 100:\n",
    "            break\n",
    "        # question = \"广东冠豪高新技术股份有限公司2019年的法定代表人是谁？\"\n",
    "        f.write(f\"Q[{i}]:{question}\\n\")\n",
    "        if \"2019年\" not in question:\n",
    "            f.write(\"未录入，跳过\\n\")\n",
    "            continue\n",
    "        prompt = intent_recognition_prompt(question)\n",
    "        response = encode(prompt, history=[])\n",
    "        f.write(f\"R:\\n{response[0].text}\\n\\n\")\n",
    "        if \"检索问题\" not in parse_intent_recognition(response[0].text):\n",
    "            f.write(\"开放问题直接作答\\n\")\n",
    "            response = encode(question, history=[])\n",
    "            f.write(f\"R:\\n{response[0].text}\\n\\n\")\n",
    "            continue\n",
    "        prompt = entity_recognition_prompt(question)\n",
    "        response = encode(prompt, history=[])\n",
    "        f.write(f\"R:\\n{response[0].text}\\n\\n\")\n",
    "        entities = parse_entity_recognition(response[0].text)\n",
    "        uuid = attain_uuid(entities, uuid_dict)\n",
    "        f.write(f\"R:\\n{uuid}\\n\\n\")\n",
    "        if not uuid:\n",
    "            f.write(\"未知公司不予作答\\n\")\n",
    "            continue\n",
    "        index_name = f\"LangChain_{uuid}\"\n",
    "        try:\n",
    "            db = Weaviate(client=client, embedding=embedding,\n",
    "                index_name=index_name, text_key=\"text\", by_text=False)\n",
    "            \n",
    "            for word in entities:\n",
    "                question = question.replace(word, '')\n",
    "                \n",
    "            docs = db.similarity_search(question, k=5)\n",
    "\n",
    "            for i, e in enumerate(docs):\n",
    "                f.write(f\" = = = = = = = = = = = k[{i}] = = = = = = = = = = =\\n\")\n",
    "                f.write(e.page_content)\n",
    "                f.write(\"\\n\")\n",
    "        except:\n",
    "            f.write(\"数据库暂未录入\\n\")\n",
    "\n",
    "        "
   ]
  },
  {
   "cell_type": "code",
   "execution_count": null,
   "metadata": {},
   "outputs": [],
   "source": [
    "with open(\"../data/test_temp/entity.txt\", \"w\") as f:\n",
    "    for i, question in enumerate(questions):\n",
    "        f.write(f\"Q[{i}]:{question}\\n\")\n",
    "        prompt = entity_recognition_prompt(question)\n",
    "        response = encode(prompt, history=[])\n",
    "        f.write(f\"R:\\n{response[0].text}\\n\\n\")\n",
    "        if i > 10:\n",
    "            break"
   ]
  },
  {
   "cell_type": "code",
   "execution_count": null,
   "metadata": {},
   "outputs": [],
   "source": [
    "with open(\"../data/test_temp/intent.txt\", \"w\") as f:\n",
    "    for i, question in enumerate(questions):\n",
    "        f.write(f\"Q[{i}]:{question}\\n\")\n",
    "        prompt = intent_recognition_prompt(question)\n",
    "        response = encode(prompt, history=[])\n",
    "        f.write(f\"R:\\n{response[0].text}\\n\\n\")\n",
    "        if i > 30:\n",
    "            break"
   ]
  }
 ],
 "metadata": {
  "kernelspec": {
   "display_name": "py10",
   "language": "python",
   "name": "python3"
  },
  "language_info": {
   "codemirror_mode": {
    "name": "ipython",
    "version": 3
   },
   "file_extension": ".py",
   "mimetype": "text/x-python",
   "name": "python",
   "nbconvert_exporter": "python",
   "pygments_lexer": "ipython3",
   "version": "3.10.11"
  },
  "orig_nbformat": 4
 },
 "nbformat": 4,
 "nbformat_minor": 2
}
