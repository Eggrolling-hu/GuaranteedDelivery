{
 "cells": [
  {
   "cell_type": "code",
   "execution_count": 1,
   "metadata": {},
   "outputs": [],
   "source": [
    "import json\n",
    "from collections import Counter\n",
    "import jieba\n",
    "import jieba.posseg as pseg\n",
    "import random\n",
    "import numpy as np"
   ]
  },
  {
   "cell_type": "code",
   "execution_count": 2,
   "metadata": {},
   "outputs": [],
   "source": [
    "def read_questions_from_file(file_path):\n",
    "    questions = []\n",
    "    with open(file_path, 'r') as f:\n",
    "        for line in f:\n",
    "            question = json.loads(line)\n",
    "            questions.append(question)\n",
    "    return questions"
   ]
  },
  {
   "cell_type": "code",
   "execution_count": 3,
   "metadata": {},
   "outputs": [
    {
     "name": "stdout",
     "output_type": "stream",
     "text": [
      "{'id': 0, 'question': '能否根据2020年金宇生物技术股份有限公司的年报，给我简要介绍一下报告期内公司的社会责任工作情况？'}\n",
      "{'id': 1, 'question': '请根据江化微2019年的年报，简要介绍报告期内公司主要销售客户的客户集中度情况，并结合同行业情况进行分析。'}\n",
      "{'id': 2, 'question': '2019年四方科技电子信箱是什么?'}\n"
     ]
    }
   ],
   "source": [
    "file_path = 'test_questions.jsonl'\n",
    "questions = read_questions_from_file(file_path)\n",
    "for question in questions[:3]:\n",
    "    print(question)"
   ]
  },
  {
   "cell_type": "code",
   "execution_count": 4,
   "metadata": {},
   "outputs": [],
   "source": [
    "def count_noun_frequency(questions):\n",
    "    counter = Counter()\n",
    "    for question in questions:\n",
    "        # 使用jieba进行分词和词性标注\n",
    "        tokens = pseg.cut(question['question'])\n",
    "        # 只保留名词\n",
    "        nouns = [word for word, flag in tokens if flag.startswith('n')]\n",
    "        counter.update(nouns)\n",
    "    return counter"
   ]
  },
  {
   "cell_type": "code",
   "execution_count": 5,
   "metadata": {},
   "outputs": [],
   "source": [
    "def keyword_in_questions(keyword):\n",
    "    id_List = []\n",
    "    for question in questions:\n",
    "        if keyword not in question['question']:\n",
    "            continue\n",
    "        id_List.append(question['id'])\n",
    "    return len(id_List), id_List"
   ]
  },
  {
   "cell_type": "code",
   "execution_count": 6,
   "metadata": {},
   "outputs": [],
   "source": [
    "def keywords_not_in_questions(keywords):\n",
    "    id_List = []\n",
    "    for question in questions:\n",
    "        f = False\n",
    "        for keyword in keywords:\n",
    "            if keyword not in question['question']:\n",
    "                continue\n",
    "            f = True\n",
    "            break\n",
    "        if f == False:\n",
    "            id_List.append(question['id'])\n",
    "    return len(id_List), id_List"
   ]
  },
  {
   "attachments": {},
   "cell_type": "markdown",
   "metadata": {},
   "source": [
    "# 名词统计"
   ]
  },
  {
   "cell_type": "code",
   "execution_count": 7,
   "metadata": {},
   "outputs": [
    {
     "name": "stderr",
     "output_type": "stream",
     "text": [
      "Building prefix dict from the default dictionary ...\n",
      "Loading model from cache /var/folders/gd/qn8pw1px5v91wttpc6zxzmdw0000gn/T/jieba.cache\n",
      "Loading model cost 0.693 seconds.\n",
      "Prefix dict has been built successfully.\n"
     ]
    }
   ],
   "source": [
    "counter = count_noun_frequency(questions)"
   ]
  },
  {
   "cell_type": "code",
   "execution_count": 8,
   "metadata": {},
   "outputs": [
    {
     "name": "stdout",
     "output_type": "stream",
     "text": [
      "[('有限公司', 2382), ('股份', 1983), ('小数', 1519), ('营业', 871), ('增长率', 752), ('科技股份', 454), ('现金', 308), ('比率', 302), ('科技', 282), ('集团股份', 279), ('负债', 269), ('费用', 259), ('公司', 255), ('企业', 255), ('年报', 249), ('利润', 203), ('情况', 197), ('人数', 195), ('职工', 191), ('收益', 185)]\n"
     ]
    }
   ],
   "source": [
    "print(counter.most_common(20))"
   ]
  },
  {
   "cell_type": "code",
   "execution_count": 9,
   "metadata": {},
   "outputs": [],
   "source": [
    "x = [e for e in  counter.most_common(2000) if len(e[0])>=4]\n"
   ]
  },
  {
   "cell_type": "code",
   "execution_count": 10,
   "metadata": {},
   "outputs": [
    {
     "data": {
      "text/plain": [
       "[('有限公司', 2382),\n",
       " ('科技股份', 454),\n",
       " ('集团股份', 279),\n",
       " ('金融资产', 164),\n",
       " ('财务费用', 154),\n",
       " ('管理费用', 154),\n",
       " ('销售费用', 154),\n",
       " ('投资收益', 151),\n",
       " ('法定代表', 120),\n",
       " ('利息收入', 101)]"
      ]
     },
     "execution_count": 10,
     "metadata": {},
     "output_type": "execute_result"
    }
   ],
   "source": [
    "x[:10]"
   ]
  },
  {
   "attachments": {},
   "cell_type": "markdown",
   "metadata": {},
   "source": [
    "# 问题分类 by 关键词1"
   ]
  },
  {
   "cell_type": "code",
   "execution_count": 11,
   "metadata": {},
   "outputs": [],
   "source": [
    "ks = [\"是多少\",\"为多少\", \"是什么\", \"是否相同\", \"是谁\", \"请提供\"]\n",
    "es = {k: keyword_in_questions(k) for k in ks}"
   ]
  },
  {
   "cell_type": "code",
   "execution_count": 12,
   "metadata": {},
   "outputs": [
    {
     "name": "stdout",
     "output_type": "stream",
     "text": [
      "是多少 3396\n",
      "为多少 324\n",
      "是什么 573\n",
      "是否相同 47\n",
      "是谁 21\n",
      "请提供 129\n"
     ]
    }
   ],
   "source": [
    "for k, v in es.items():\n",
    "    print(k, v[0])"
   ]
  },
  {
   "cell_type": "code",
   "execution_count": 13,
   "metadata": {},
   "outputs": [
    {
     "data": {
      "text/plain": [
       "524"
      ]
     },
     "execution_count": 13,
     "metadata": {},
     "output_type": "execute_result"
    }
   ],
   "source": [
    "n, id_List = keywords_not_in_questions(ks)\n",
    "\"达到了多少\" # 5\n",
    "\"有多少\" # 10\n",
    "\"请计算\" # 7\n",
    "n"
   ]
  },
  {
   "cell_type": "code",
   "execution_count": 14,
   "metadata": {},
   "outputs": [
    {
     "name": "stdout",
     "output_type": "stream",
     "text": [
      "4654 {'id': 4654, 'question': '长期股权投资的价值变动如何影响公司的净资产和盈利能力？'}\n",
      "790 {'id': 790, 'question': '什么是总资产周转率？'}\n",
      "1613 {'id': 1613, 'question': '如何分析营业收入的变动趋势？'}\n",
      "728 {'id': 728, 'question': '什么是归属于母公司所有者权益？'}\n",
      "1294 {'id': 1294, 'question': '根据2019年横店集团得邦照明股份有限公司的年报，请简要介绍报告期内公司供应商集中度如何？请结合同行业情况简要分析。'}\n",
      "4387 {'id': 4387, 'question': '什么是应付账款？'}\n",
      "4861 {'id': 4861, 'question': '根据2019年红宝丽的年报，请简要介绍报告期内公司主要销售客户客户集中度如何？请结合同行业情况简要分析。'}\n",
      "2038 {'id': 2038, 'question': '请简要分析广东奥飞数据科技股份有限公司2019年关键审计事项的情况。'}\n",
      "1862 {'id': 1862, 'question': '什么是长期借款？'}\n",
      "343 {'id': 343, 'question': '什么是财务风险？'}\n"
     ]
    }
   ],
   "source": [
    "for i in random.sample(id_List, 10):\n",
    "    print(i, questions[i])"
   ]
  },
  {
   "cell_type": "code",
   "execution_count": 15,
   "metadata": {},
   "outputs": [
    {
     "data": {
      "text/plain": [
       "(4490, 4476, 524)"
      ]
     },
     "execution_count": 15,
     "metadata": {},
     "output_type": "execute_result"
    }
   ],
   "source": [
    "nested_list = [v[1] for _, v in es.items()]\n",
    "sum([v[0] for _, v in es.items()]), len(set([item for sublist in nested_list for item in sublist])), n"
   ]
  },
  {
   "cell_type": "code",
   "execution_count": 35,
   "metadata": {},
   "outputs": [],
   "source": [
    "ks = [\"什么是\", \"分析\", \"影响\", \"评估\", \"意思\", \"为什么\"] # 主观题：分析和百科\n",
    "es = {k: keyword_in_questions(k) for k in ks}"
   ]
  },
  {
   "cell_type": "code",
   "execution_count": 36,
   "metadata": {},
   "outputs": [
    {
     "data": {
      "text/plain": [
       "(371, 367)"
      ]
     },
     "execution_count": 36,
     "metadata": {},
     "output_type": "execute_result"
    }
   ],
   "source": [
    "nested_list = [v[1] for _, v in es.items()]\n",
    "sum([v[0] for _, v in es.items()]), len(set([item for sublist in nested_list for item in sublist]))"
   ]
  },
  {
   "attachments": {},
   "cell_type": "markdown",
   "metadata": {},
   "source": [
    "# 问题分类 by 关键词2"
   ]
  },
  {
   "cell_type": "code",
   "execution_count": 47,
   "metadata": {},
   "outputs": [],
   "source": [
    "ks = [\n",
    "    \"销售费用\", \"流动比率\", \"三费比重\", \"现金及现金等价物\", \"利息收入\", \"综合收益总额\", \"财务费用率\",\n",
    "    \"货币资金增长率\", \"营业利润率\", \"研发经费与营业收入比值\", \"公司网址\", \"总负债增长率\", \"证券代码\", \"所得税费用\",\n",
    "    \"法定代表人\", \"应收款项融资\", \"管理费\", \"流动负债\", \"固定资产\", \"职工薪酬\", \"投资收益\", \"净利润\", \"营业成本\",\n",
    "    \"营业税金及附加\", \"研发人员\", \"职工人数\", \"无形资产\", \"衍生金融资产\", \"博士及以上人数\", \"企业名称\",\n",
    "    \"收回投资收到的现金\", \"净利润增长率\", \"研发费用\", \"研发经费\", \"办公地址\", \"速动比率\", \"公允价值变动收益\",\n",
    "    \"技术人员\", \"利润总额\", \"无形资产增长率\", \"每股经营现金流量\", \"职工总数\", \"电子信箱\", \"环境信息\", \"外文名称\",\n",
    "    \"社会责任\", \"核心竞争力\", \"重大关联交易\", \"硕士及以上人员\", \"利息支出\", \"毛利率\", \"证券简称\", \"净资产\",\n",
    "    \"资产负债比率\",\n",
    "]\n",
    "\n",
    "es = {k: keyword_in_questions(k) for k in ks}"
   ]
  },
  {
   "cell_type": "code",
   "execution_count": 48,
   "metadata": {},
   "outputs": [
    {
     "data": {
      "text/plain": [
       "(4095, 3662)"
      ]
     },
     "execution_count": 48,
     "metadata": {},
     "output_type": "execute_result"
    }
   ],
   "source": [
    "nested_list = [v[1] for _, v in es.items()]\n",
    "sum([v[0] for _, v in es.items()]), len(set([item for sublist in nested_list for item in sublist]))"
   ]
  },
  {
   "cell_type": "code",
   "execution_count": 26,
   "metadata": {},
   "outputs": [
    {
     "name": "stdout",
     "output_type": "stream",
     "text": [
      "销售费用 154\n",
      "流动比率 51\n",
      "三费比重 49\n",
      "现金及现金等价物 97\n",
      "利息收入 101\n",
      "综合收益总额 76\n",
      "财务费用率 50\n",
      "货币资金增长率 50\n",
      "营业利润率 50\n",
      "研发经费与营业收入比值 33\n",
      "公司网址 47\n",
      "总负债增长率 50\n",
      "证券代码 50\n",
      "所得税费用 54\n",
      "法定代表人 120\n",
      "应收款项融资 52\n",
      "管理费 204\n",
      "流动负债 152\n",
      "固定资产 157\n",
      "职工薪酬 42\n",
      "投资收益 151\n",
      "净利润 208\n",
      "营业成本 151\n",
      "营业税金及附加 51\n",
      "研发人员 101\n",
      "职工人数 98\n",
      "无形资产 156\n",
      "衍生金融资产 65\n",
      "博士及以上人数 42\n",
      "企业名称 49\n",
      "收回投资收到的现金 36\n",
      "净利润增长率 49\n",
      "研发费用 153\n",
      "研发经费 150\n",
      "办公地址 49\n",
      "速动比率 52\n",
      "公允价值变动收益 54\n"
     ]
    }
   ],
   "source": [
    "for k, v in es.items():\n",
    "    print(k, v[0])"
   ]
  },
  {
   "attachments": {},
   "cell_type": "markdown",
   "metadata": {},
   "source": [
    "数据分析简单结论：数据库的合理构建与信息抽取的准确能是我们至少能cover 初赛里80%的题目"
   ]
  },
  {
   "attachments": {},
   "cell_type": "markdown",
   "metadata": {},
   "source": [
    "# 一、系统设计\n",
    "\n",
    "我们的问答系统需要完成以下几个关键任务：\n",
    "\n",
    "数据预处理：对70G的上市公司财报数据进行清洗、预处理和结构化存储。\n",
    "\n",
    "实体识别与关系抽取：对用户查询中的实体和关系进行识别并抽取。\n",
    "\n",
    "意图识别与问题分类：根据用户查询的上下文理解用户意图并将问题分类。\n",
    "\n",
    "数据查询与分析：根据用户查询从知识图谱中检索信息，对检索到的数据进行统计和分析。\n",
    "\n",
    "回答生成：对于开放性问题，使用ChatGLM2-6B模型生成回答。"
   ]
  },
  {
   "attachments": {},
   "cell_type": "markdown",
   "metadata": {},
   "source": [
    "# 二、技术栈\n",
    "\n",
    "深度学习模型：ChatGLM2-6B\n",
    "\n",
    "自然语言处理工具：Spacy、GPT4\n",
    "\n",
    "知识图谱工具或者传统数据库：Neo4j、Mysql\n",
    "\n",
    "向量数据库：Faiss、Milvus\n",
    "\n",
    "数据处理和分析工具：Pandas、Numpy、Scipy、Apache Spark\n",
    "\n",
    "其他工具：Docker/Kubernetes（环境隔离和部署），Git（版本控制和协作）"
   ]
  },
  {
   "attachments": {},
   "cell_type": "markdown",
   "metadata": {},
   "source": [
    "# 三、技术方案\n",
    "\n",
    "总体思路：数据库(知识图谱)作为核心查询工具，向量数据库负责兜底，大模型润色。直至前面的工作效果比较好之后，再考虑模型微调。\n",
    "\n",
    "敏捷开发，先把系统搭建起来，再逐步优化每一个模块。\n",
    "\n",
    "1. 数据预处理和分析：完善数据分析，问题归类，关键词整理。\n",
    "2. 构建向量数据库：按照句子切割的方式，构建向量数据库（这个实现难度最低）。\n",
    "3. prompt工程：直接与语言模型交互的prompt处理相关的细节\n",
    "4. 信息抽取：抽取pdf信息, 财报的结构大体是相同的 ,我倾向于先在1到2个财报上做实验。\n",
    "5. 知识图谱构建依据抽取的构建数据库（知识图谱）\n",
    "6. 规则引擎：引入tool(LangChain)构建推理的规则（知识图谱）\n",
    "7. 常识数据库：构建一个金融常识的数据库，优先cover初赛里出现的问题\n",
    "8. 代码重构和优化：工程性代码，整理一下开发中的冗余代码\n",
    "9. 模型微调：考虑模型微调，提高开放型问题的回答质量\n"
   ]
  },
  {
   "attachments": {},
   "cell_type": "markdown",
   "metadata": {},
   "source": [
    "# 四、时间规划\n",
    "\n",
    "初赛开放评测时间为7月24日—8月16日，系统每天提供3次提交机会。本赛段最后一次评测截止时间为8月16日18:00。\n",
    "\n",
    "\n",
    "Sprint 1 - 数据预处理和向量数据库（7月24日-7月27日，4天）：在这个Sprint中，你可以先分析数据并构建出基础的向量数据库。\n",
    "\n",
    "Sprint 2 - 信息抽取和知识图谱构建（7月28日-7月31日，4天）：在这个Sprint中，你可以开始进行信息抽取，并尝试构建出基础的知识图谱。\n",
    "\n",
    "Sprint 3 - Prompt（8月1日--8月3日，3天）：在这个Sprint中，你设计优化prompt。\n",
    "\n",
    "Sprint 4 - 规则引擎和常识数据库（8月4日-8月6日，3天）：在这个Sprint中，你可以进一步完善你的知识图谱，并开始构建规则引擎和常识数据库。\n",
    "\n",
    "Sprint 5 - 代码优化和系统集成（8月7日-8月9日，3天）：这个Sprint可以用来进行代码的优化和系统的集成。\n",
    "\n",
    "Sprint 6 - 测试和调整（8月10日-8月12日，3天）：在最后一个Sprint中，你可以进行系统的全面测试，找出并修复可能存在的问题，并对系统进行最后的优化。\n",
    "\n",
    "Buffer（8月13日-8月16日，4天）：这个时间段可以作为缓冲期，用来处理在前面Sprints中没有预见到的问题，或者进行一些额外的优化。\n"
   ]
  },
  {
   "attachments": {},
   "cell_type": "markdown",
   "metadata": {},
   "source": [
    "明日重点：\n",
    "\n",
    "    1. 考虑一下自己对哪一部分感兴趣，希望负责哪一部分工作\n",
    "    2. 看一下胡骁的框架，简单跑一下，提提优化意见或者是否有必要重构\n",
    "    3. 独自做一下数据分析，一部分是对问题的分析，一部分是对财报的分析\n",
    "\n",
    "下一次会议：\n",
    "\n",
    "    1. 5分钟，讨论分工。\n",
    "    2. 工程框架的优化方向。\n",
    "    3. 数据分析的讨论。"
   ]
  }
 ],
 "metadata": {
  "kernelspec": {
   "display_name": "py10",
   "language": "python",
   "name": "python3"
  },
  "language_info": {
   "codemirror_mode": {
    "name": "ipython",
    "version": 3
   },
   "file_extension": ".py",
   "mimetype": "text/x-python",
   "name": "python",
   "nbconvert_exporter": "python",
   "pygments_lexer": "ipython3",
   "version": "3.10.11"
  },
  "orig_nbformat": 4
 },
 "nbformat": 4,
 "nbformat_minor": 2
}
