{
 "cells": [
  {
   "cell_type": "code",
   "execution_count": 4,
   "metadata": {},
   "outputs": [],
   "source": [
    "import pandas as pd\n",
    "import camelot\n",
    "import json\n",
    "import glob\n",
    "import re\n",
    "import os"
   ]
  },
  {
   "cell_type": "code",
   "execution_count": 5,
   "metadata": {},
   "outputs": [
    {
     "name": "stderr",
     "output_type": "stream",
     "text": [
      "c:\\ProgramData\\anaconda3\\envs\\py10\\lib\\site-packages\\camelot\\utils.py:740: UserWarning:   (342.22, 345.19000000000005) does not lie in column range (254.28375000000003, 341.70000000000005)\n",
      "  warnings.warn(\n",
      "c:\\ProgramData\\anaconda3\\envs\\py10\\lib\\site-packages\\camelot\\utils.py:740: UserWarning:   (505.39, 507.64) does not lie in column range (89.94, 504.96000000000004)\n",
      "  warnings.warn(\n"
     ]
    }
   ],
   "source": [
    "tables = camelot.read_pdf(\n",
    "    '../data/test_data/2022-04-13__深圳世联行集团股份有限公司__002285__世联行__2021年__年度报告.pdf', \n",
    "    pages='1-30')"
   ]
  },
  {
   "cell_type": "code",
   "execution_count": 6,
   "metadata": {},
   "outputs": [
    {
     "name": "stdout",
     "output_type": "stream",
     "text": [
      "|    | 0              | 1            | 2    | 3               | 4                    | 5       | 6       | 7                    | 8                           | 9              |\n",
      "|---:|:---------------|:-------------|:-----|:----------------|:---------------------|:--------|:--------|:---------------------|:----------------------------|:---------------|\n",
      "|  0 | 产品类型       | 2021年       |      |                 | 2020年               |         |         | 2019年               |                             |                |\n",
      "|  1 |                | 金额（万元） | 比重 |                 | 增长率  金额（万元） | 比重    |         | 增长率  金额（万元） | 比重                        | 增长率         |\n",
      "|  2 | 工商资产运营   | 24,850.03    |      | 45.27%  18.25%  | 21,015.62            | 22.63%  | -12.18% | 23,929.95            |                             | 19.84%  23.65% |\n",
      "|  3 | 公寓酒店管理   | 14,654.38    |      | 26.70% -73.18%  | 54,633.15            | 58.82%  | -11.24% | 61,549.62            |                             | 51.03%  51.77% |\n",
      "|  4 | 装修服务       | 9,272.96     |      | 16.89% -20.93%  | 11,727.36            | 12.63%  | -56.03% | 26,672.75            | 22.12%                      | 8.15%          |\n",
      "|  5 | 小样社区及其他 | 6,113.32     |      | 11.14%  11.15%  | 5,499.96             | 5.92%   | -34.92% | 8,451.68             |                             | 7.01%  19.22%  |\n",
      "|  6 | 合计           | 54,890.69    |      | 100.00% -40.90% | 92,876.09            | 100.00% | -22.99% |                      | 120,604.00  100.00%  31.58% |                |\n"
     ]
    }
   ],
   "source": [
    "print(tables[22].df.to_markdown())"
   ]
  },
  {
   "cell_type": "code",
   "execution_count": 7,
   "metadata": {},
   "outputs": [
    {
     "data": {
      "text/plain": [
       "<TableList n=38>"
      ]
     },
     "execution_count": 7,
     "metadata": {},
     "output_type": "execute_result"
    }
   ],
   "source": [
    "tables"
   ]
  },
  {
   "cell_type": "code",
   "execution_count": 8,
   "metadata": {},
   "outputs": [
    {
     "data": {
      "text/plain": [
       "{'accuracy': -17.51, 'whitespace': 100.0, 'order': 1, 'page': 1}"
      ]
     },
     "execution_count": 8,
     "metadata": {},
     "output_type": "execute_result"
    }
   ],
   "source": [
    "tables[0].parsing_report"
   ]
  },
  {
   "cell_type": "code",
   "execution_count": 9,
   "metadata": {},
   "outputs": [],
   "source": [
    "path = \"../data/test_table/2022-04-13__深圳世联行集团股份有限公司__002285__世联行__2021年__年度报告\"\n",
    "if not os.path.exists(path):\n",
    "    os.mkdir(path)"
   ]
  },
  {
   "cell_type": "code",
   "execution_count": 10,
   "metadata": {},
   "outputs": [],
   "source": [
    "\n",
    "for i, t in enumerate(tables):\n",
    "    with open(os.path.join(path, f\"{i}.json\"), \"w\") as f:\n",
    "        json.dump(t.parsing_report, f)\n",
    "    t.df.to_csv(os.path.join(path, f\"{i}.csv\"), index=False, sep='\\x01')\n",
    "# pd.read_csv(\"../data/test_table/1.csv\", sep='\\x01')"
   ]
  },
  {
   "cell_type": "code",
   "execution_count": 11,
   "metadata": {},
   "outputs": [
    {
     "data": {
      "text/html": [
       "<div>\n",
       "<style scoped>\n",
       "    .dataframe tbody tr th:only-of-type {\n",
       "        vertical-align: middle;\n",
       "    }\n",
       "\n",
       "    .dataframe tbody tr th {\n",
       "        vertical-align: top;\n",
       "    }\n",
       "\n",
       "    .dataframe thead th {\n",
       "        text-align: right;\n",
       "    }\n",
       "</style>\n",
       "<table border=\"1\" class=\"dataframe\">\n",
       "  <thead>\n",
       "    <tr style=\"text-align: right;\">\n",
       "      <th></th>\n",
       "      <th>0</th>\n",
       "    </tr>\n",
       "  </thead>\n",
       "  <tbody>\n",
       "    <tr>\n",
       "      <th>0</th>\n",
       "      <td></td>\n",
       "    </tr>\n",
       "  </tbody>\n",
       "</table>\n",
       "</div>"
      ],
      "text/plain": [
       "  0\n",
       "0  "
      ]
     },
     "execution_count": 11,
     "metadata": {},
     "output_type": "execute_result"
    }
   ],
   "source": [
    "tables[0].df"
   ]
  },
  {
   "cell_type": "code",
   "execution_count": null,
   "metadata": {},
   "outputs": [],
   "source": []
  },
  {
   "cell_type": "code",
   "execution_count": 12,
   "metadata": {},
   "outputs": [
    {
     "name": "stderr",
     "output_type": "stream",
     "text": [
      "C:\\Users\\Administrator\\AppData\\Local\\Temp\\ipykernel_9264\\3989273725.py:1: UserWarning: Matplotlib is currently using module://matplotlib_inline.backend_inline, which is a non-GUI backend, so cannot show the figure.\n",
      "  camelot.plot(tables[12], kind='grid').show()\n"
     ]
    },
    {
     "data": {
      "image/png": "[encoded data removed]",
      "text/plain": [
       "<Figure size 640x480 with 1 Axes>"
      ]
     },
     "metadata": {},
     "output_type": "display_data"
    }
   ],
   "source": [
    "camelot.plot(tables[12], kind='grid').show()"
   ]
  },
  {
   "cell_type": "code",
   "execution_count": 13,
   "metadata": {},
   "outputs": [
    {
     "data": {
      "text/plain": [
       "{'accuracy': 99.45, 'whitespace': 0.0, 'order': 3, 'page': 11}"
      ]
     },
     "execution_count": 13,
     "metadata": {},
     "output_type": "execute_result"
    }
   ],
   "source": [
    "tables[12].parsing_report"
   ]
  },
  {
   "cell_type": "code",
   "execution_count": 14,
   "metadata": {},
   "outputs": [],
   "source": [
    "def read_data(filename):\n",
    "    data = []\n",
    "    with open(filename, 'r', encoding='utf-8') as f:\n",
    "        for line in f:\n",
    "            line = line.replace('\\'', '\\\"')\n",
    "            line = line.replace('<', '\\\"')\n",
    "            line = line.replace('>', '\\\"')\n",
    "            # 用正则表达式找到所有双引号包围的数组\n",
    "            # matches = re.findall(r'\"\\[.*?\\]\"', line)\n",
    "            matches = re.findall(r'\"\\[.*\\]\"', line)\n",
    "            for match in matches:\n",
    "                # 将数组中的双引号去掉，并替换原字符串中的部分\n",
    "                corrected = match.replace('\\\"', '')\n",
    "                corrected = match[1:-1]\n",
    "                line = line.replace(match, corrected)\n",
    "            try:\n",
    "                row_dict = json.loads(line)\n",
    "            except:\n",
    "                splited_line = line.split(\"\\\"inside\\\": \")\n",
    "                s1, s2 = splited_line[0], splited_line[1]\n",
    "                s2 = s2.replace(\"\\\"\", \"\\'\")\n",
    "                s2 = s2.replace(\"\\\\'\", \"\\\"\")\n",
    "                s2 = s2 if s2[0] != \"\\'\" else \"\\\"\" + s2[1:-2] + \"\\\"}\"\n",
    "                # s2 = s2[:-2] + \"}\" if s2[0] == \"[\" and s2[-3:] == \"\\'}\\n\" else s2\n",
    "                s2 = s2.replace(\"]\\'}\\n\", \"]}\")\n",
    "\n",
    "                formatted = s1+\"\\\"inside\\\": \"+s2\n",
    "                try:\n",
    "                    row_dict = json.loads(formatted)\n",
    "                except:\n",
    "                    print(s2[-3:], s2)\n",
    "                    print(f\"解析错误: {line}\")\n",
    "\n",
    "                    break\n",
    "            data.append(row_dict)\n",
    "    return data\n"
   ]
  },
  {
   "cell_type": "code",
   "execution_count": 15,
   "metadata": {},
   "outputs": [],
   "source": [
    "data = read_data(\n",
    "    '../data/test_txt/2021-04-26__新亚强硅化学股份有限公司__603155__新亚强__2020年__年度报告.txt')  "
   ]
  },
  {
   "cell_type": "code",
   "execution_count": 16,
   "metadata": {},
   "outputs": [],
   "source": [
    "data = read_data(\n",
    "    '../data/test_txt/2020-01-21__江苏安靠智能输电工程科技股份有限公司__300617__安靠智电__2019年__年度报告.txt')  "
   ]
  },
  {
   "cell_type": "code",
   "execution_count": 17,
   "metadata": {},
   "outputs": [],
   "source": [
    "data = read_data(\n",
    "    '../data/test_txt/2022-04-13__深圳世联行集团股份有限公司__002285__世联行__2021年__年度报告.txt')  "
   ]
  },
  {
   "cell_type": "code",
   "execution_count": 18,
   "metadata": {},
   "outputs": [],
   "source": [
    "folder_path = './data3/chatglm_llm_fintech_raw_dataset/allpdf'\n",
    "# 获取文件夹内所有文件名称\n",
    "file_names = glob.glob(folder_path + '/*')\n",
    "file_names = sorted(file_names, reverse=True)"
   ]
  },
  {
   "cell_type": "code",
   "execution_count": 19,
   "metadata": {},
   "outputs": [
    {
     "data": {
      "text/plain": [
       "[{'page': 'Page:12', 'allrow': 240, 'type': 'text', 'inside': ''},\n",
       " {'page': 'Page:12',\n",
       "  'allrow': 241,\n",
       "  'type': 'text',\n",
       "  'inside': '深圳世联行集团股份有限公司2021年年度报告全文'},\n",
       " {'page': 'Page:12',\n",
       "  'allrow': 242,\n",
       "  'type': 'excel',\n",
       "  'inside': ['', '', '', '', '置收益']}]"
      ]
     },
     "execution_count": 19,
     "metadata": {},
     "output_type": "execute_result"
    }
   ],
   "source": [
    "[e for e in data if e['page'] == 'Page:12'][:3]"
   ]
  },
  {
   "cell_type": "code",
   "execution_count": 20,
   "metadata": {},
   "outputs": [],
   "source": [
    "def count_excel_blocks(data):\n",
    "    excel_dict = {}\n",
    "    excel_count = 0\n",
    "\n",
    "    for i in range(len(data)):\n",
    "        if data[i]['type'] == 'excel':\n",
    "            excel_dict[data[i]['allrow']] = excel_count\n",
    "            if i == 0 or data[i - 1]['type'] != 'excel':\n",
    "                excel_count += 1\n",
    "    return excel_count, excel_dict"
   ]
  },
  {
   "cell_type": "code",
   "execution_count": 21,
   "metadata": {},
   "outputs": [],
   "source": [
    "page_table = [t for t in tables if t.parsing_report[\"page\"]== 22]"
   ]
  },
  {
   "cell_type": "code",
   "execution_count": 22,
   "metadata": {},
   "outputs": [
    {
     "data": {
      "text/plain": [
       "[<Table shape=(7, 4)>, <Table shape=(8, 4)>]"
      ]
     },
     "execution_count": 22,
     "metadata": {},
     "output_type": "execute_result"
    }
   ],
   "source": [
    "page_table"
   ]
  },
  {
   "cell_type": "code",
   "execution_count": 23,
   "metadata": {},
   "outputs": [
    {
     "name": "stderr",
     "output_type": "stream",
     "text": [
      "C:\\Users\\Administrator\\AppData\\Local\\Temp\\ipykernel_9264\\2454746001.py:1: UserWarning: Matplotlib is currently using module://matplotlib_inline.backend_inline, which is a non-GUI backend, so cannot show the figure.\n",
      "  camelot.plot(page_table[0], kind='grid').show()\n"
     ]
    },
    {
     "data": {
      "image/png": "[encoded data removed]",
      "text/plain": [
       "<Figure size 640x480 with 1 Axes>"
      ]
     },
     "metadata": {},
     "output_type": "display_data"
    }
   ],
   "source": [
    "camelot.plot(page_table[0], kind='grid').show()"
   ]
  },
  {
   "cell_type": "code",
   "execution_count": 24,
   "metadata": {},
   "outputs": [
    {
     "data": {
      "text/plain": [
       "{'accuracy': 98.46, 'whitespace': 3.57, 'order': 1, 'page': 22}"
      ]
     },
     "execution_count": 24,
     "metadata": {},
     "output_type": "execute_result"
    }
   ],
   "source": [
    "page_table[0].parsing_report"
   ]
  },
  {
   "cell_type": "code",
   "execution_count": 25,
   "metadata": {},
   "outputs": [
    {
     "data": {
      "text/html": [
       "<div>\n",
       "<style scoped>\n",
       "    .dataframe tbody tr th:only-of-type {\n",
       "        vertical-align: middle;\n",
       "    }\n",
       "\n",
       "    .dataframe tbody tr th {\n",
       "        vertical-align: top;\n",
       "    }\n",
       "\n",
       "    .dataframe thead th {\n",
       "        text-align: right;\n",
       "    }\n",
       "</style>\n",
       "<table border=\"1\" class=\"dataframe\">\n",
       "  <thead>\n",
       "    <tr style=\"text-align: right;\">\n",
       "      <th></th>\n",
       "      <th>0</th>\n",
       "      <th>1</th>\n",
       "      <th>2</th>\n",
       "      <th>3</th>\n",
       "    </tr>\n",
       "  </thead>\n",
       "  <tbody>\n",
       "    <tr>\n",
       "      <th>0</th>\n",
       "      <td>业务板块</td>\n",
       "      <td>2021年</td>\n",
       "      <td>2020年</td>\n",
       "      <td>2019年</td>\n",
       "    </tr>\n",
       "    <tr>\n",
       "      <th>1</th>\n",
       "      <td></td>\n",
       "      <td>金额（万元） \\n比例</td>\n",
       "      <td>金额（万元） \\n比例</td>\n",
       "      <td>金额（万元） \\n比例</td>\n",
       "    </tr>\n",
       "    <tr>\n",
       "      <th>2</th>\n",
       "      <td>大交易业务</td>\n",
       "      <td>451,767.69 \\n75.24%</td>\n",
       "      <td>484,756.26 \\n72.98%</td>\n",
       "      <td>455,240.00 \\n68.88%</td>\n",
       "    </tr>\n",
       "    <tr>\n",
       "      <th>3</th>\n",
       "      <td>增长率</td>\n",
       "      <td>-6.81%</td>\n",
       "      <td>6.48%</td>\n",
       "      <td>-21.47%</td>\n",
       "    </tr>\n",
       "    <tr>\n",
       "      <th>4</th>\n",
       "      <td>大资管业务</td>\n",
       "      <td>148,635.20 \\n24.76%</td>\n",
       "      <td>179,450.59 \\n27.02%</td>\n",
       "      <td>205,641.36 \\n31.12%</td>\n",
       "    </tr>\n",
       "    <tr>\n",
       "      <th>5</th>\n",
       "      <td>增长率</td>\n",
       "      <td>-17.17%</td>\n",
       "      <td>-12.74%</td>\n",
       "      <td>21.78%</td>\n",
       "    </tr>\n",
       "    <tr>\n",
       "      <th>6</th>\n",
       "      <td>合计</td>\n",
       "      <td>600,402.89 \\n100.00%</td>\n",
       "      <td>664,206.85 \\n100.00%</td>\n",
       "      <td>660,881.36 \\n100.00%</td>\n",
       "    </tr>\n",
       "  </tbody>\n",
       "</table>\n",
       "</div>"
      ],
      "text/plain": [
       "       0                     1                     2                     3\n",
       "0   业务板块                 2021年                 2020年                 2019年\n",
       "1                  金额（万元） \\n比例           金额（万元） \\n比例           金额（万元） \\n比例\n",
       "2  大交易业务   451,767.69 \\n75.24%   484,756.26 \\n72.98%   455,240.00 \\n68.88%\n",
       "3    增长率                -6.81%                 6.48%               -21.47%\n",
       "4  大资管业务   148,635.20 \\n24.76%   179,450.59 \\n27.02%   205,641.36 \\n31.12%\n",
       "5    增长率               -17.17%               -12.74%                21.78%\n",
       "6     合计  600,402.89 \\n100.00%  664,206.85 \\n100.00%  660,881.36 \\n100.00%"
      ]
     },
     "execution_count": 25,
     "metadata": {},
     "output_type": "execute_result"
    }
   ],
   "source": [
    "page_table[0].df"
   ]
  },
  {
   "cell_type": "code",
   "execution_count": 26,
   "metadata": {},
   "outputs": [],
   "source": [
    "df = page_table[1].df"
   ]
  },
  {
   "cell_type": "code",
   "execution_count": 27,
   "metadata": {},
   "outputs": [
    {
     "data": {
      "text/plain": [
       "(8, 4)"
      ]
     },
     "execution_count": 27,
     "metadata": {},
     "output_type": "execute_result"
    }
   ],
   "source": [
    "df.shape"
   ]
  },
  {
   "cell_type": "code",
   "execution_count": 28,
   "metadata": {},
   "outputs": [
    {
     "data": {
      "text/plain": [
       "'3,134.79'"
      ]
     },
     "execution_count": 28,
     "metadata": {},
     "output_type": "execute_result"
    }
   ],
   "source": [
    "df.loc[1,1]"
   ]
  },
  {
   "cell_type": "code",
   "execution_count": 29,
   "metadata": {},
   "outputs": [
    {
     "data": {
      "text/plain": [
       "['已结算代理销售额（亿元）是已结算代理销售额（亿元）',\n",
       " '已结算代理销售额（亿元）是3,134.79',\n",
       " '已结算代理销售额（亿元）是3,842.92',\n",
       " '已结算代理销售额（亿元）是3,568.78',\n",
       " '增长率是增长率']"
      ]
     },
     "execution_count": 29,
     "metadata": {},
     "output_type": "execute_result"
    }
   ],
   "source": [
    "# 列名+是+信息\n",
    "def row_column_data(df):\n",
    "    m, n = df.shape\n",
    "    res_list = []\n",
    "    for i in range(1, m):\n",
    "        for j in range(0, n):\n",
    "            res_list.append(f\"{df.loc[i, 0]}是{df.loc[i, j]}\")\n",
    "    return res_list\n",
    "df = df.applymap(lambda x: x.replace(\"\\n\", \"\") if type(x) == str else x)\n",
    "res_list = row_column_data(df.replace(\"\\n\", \"\"))\n",
    "res_list[:5]"
   ]
  },
  {
   "cell_type": "code",
   "execution_count": 101,
   "metadata": {},
   "outputs": [
    {
     "data": {
      "text/plain": [
       "['管理费用的2021 年是404,803,871.66',\n",
       " '2021 年的管理费用是404,803,871.66',\n",
       " '管理费用的2020 年是396,450,646.70',\n",
       " '2020 年的管理费用是396,450,646.70',\n",
       " '管理费用的同比增减是2.11%']"
      ]
     },
     "execution_count": 101,
     "metadata": {},
     "output_type": "execute_result"
    }
   ],
   "source": [
    "# 列名+的+行名+是+信息\n",
    "def column_row_data(df):\n",
    "    m, n = df.shape\n",
    "    res_list = []\n",
    "    for i in range(1, m):\n",
    "        for j in range(1, n):\n",
    "            res_list.append(f\"{df.loc[i, 0]}的{df.loc[0, j]}是{df.loc[i, j]}\")\n",
    "            res_list.append(f\"{df.loc[0, j]}的{df.loc[i, 0]}是{df.loc[i, j]}\")\n",
    "    return res_list\n",
    "df = df.applymap(lambda x: x.replace(\"\\n\", \"\") if type(x) == str else x)\n",
    "res_list = column_row_data(df.replace(\"\\n\", \"\"))\n",
    "res_list[:5]"
   ]
  },
  {
   "cell_type": "code",
   "execution_count": 102,
   "metadata": {},
   "outputs": [],
   "source": [
    "page_data = [e for e in data if e['page'] == 'Page:12']"
   ]
  },
  {
   "cell_type": "code",
   "execution_count": 103,
   "metadata": {},
   "outputs": [],
   "source": [
    "def combine_pages(data):\n",
    "    pages = list(sorted(set([e['page'] for e in data]), key=lambda x: int(x.split(':')[1])))\n",
    "\n",
    "    combined_2_pages = []\n",
    "\n",
    "    for i, _ in enumerate(pages[:-1]):\n",
    "        if [e for e in data if e['page'] == pages[i]][-2][\"type\"] != \"excel\":\n",
    "            continue\n",
    "        if [e for e in data if e['page'] == pages[i+1]][2][\"type\"] != \"excel\":\n",
    "            continue\n",
    "        # print([pages[i], pages[i+1]])\n",
    "        combined_2_pages.append([pages[i], pages[i+1]])\n",
    "        \n",
    "\n",
    "    combined_n_pages = []\n",
    "\n",
    "    for i, pair in enumerate(combined_2_pages):\n",
    "        if combined_n_pages and combined_n_pages[-1][1] == pair[0]:\n",
    "            current_page_data = [e for e in data if e['page'] == pair[0]]\n",
    "            current_page_data = all(e['type'] == \"excel\" for e in current_page_data[2:-2])\n",
    "            combined_n_pages[-1].append(pair[1])\n",
    "        else:  # 没有找到匹配的集合，新建一个\n",
    "            combined_n_pages.append(pair)\n",
    "\n",
    "    return combined_n_pages\n"
   ]
  },
  {
   "cell_type": "code",
   "execution_count": 104,
   "metadata": {},
   "outputs": [
    {
     "name": "stdout",
     "output_type": "stream",
     "text": [
      "[['Page:6', 'Page:7'], ['Page:11', 'Page:12'], ['Page:27', 'Page:28'], ['Page:29', 'Page:30'], ['Page:34', 'Page:35'], ['Page:37', 'Page:38', 'Page:39'], ['Page:39', 'Page:40', 'Page:41'], ['Page:61', 'Page:62', 'Page:63'], ['Page:67', 'Page:68', 'Page:69'], ['Page:74', 'Page:75'], ['Page:95', 'Page:96'], ['Page:101', 'Page:102'], ['Page:104', 'Page:105'], ['Page:106', 'Page:107'], ['Page:135', 'Page:136'], ['Page:138', 'Page:139'], ['Page:140', 'Page:141'], ['Page:142', 'Page:143'], ['Page:144', 'Page:145', 'Page:146'], ['Page:147', 'Page:148'], ['Page:150', 'Page:151'], ['Page:181', 'Page:182'], ['Page:192', 'Page:193'], ['Page:199', 'Page:200'], ['Page:201', 'Page:202'], ['Page:204', 'Page:205'], ['Page:206', 'Page:207'], ['Page:211', 'Page:212', 'Page:213'], ['Page:214', 'Page:215'], ['Page:218', 'Page:219', 'Page:220'], ['Page:220', 'Page:221', 'Page:222'], ['Page:233', 'Page:234'], ['Page:235', 'Page:236', 'Page:237'], ['Page:239', 'Page:240', 'Page:241'], ['Page:248', 'Page:249'], ['Page:256', 'Page:257', 'Page:258'], ['Page:258', 'Page:259'], ['Page:260', 'Page:261', 'Page:262'], ['Page:262', 'Page:263', 'Page:264'], ['Page:267', 'Page:268'], ['Page:270', 'Page:271', 'Page:272'], ['Page:280', 'Page:281'], ['Page:292', 'Page:293'], ['Page:295', 'Page:296', 'Page:297'], ['Page:298', 'Page:299'], ['Page:304', 'Page:305']]\n"
     ]
    }
   ],
   "source": [
    "print(combine_pages(data))"
   ]
  },
  {
   "cell_type": "code",
   "execution_count": 105,
   "metadata": {},
   "outputs": [],
   "source": [
    "d = count_excel_blocks(page_data)"
   ]
  },
  {
   "cell_type": "markdown",
   "metadata": {},
   "source": [
    "# 提取大纲"
   ]
  },
  {
   "cell_type": "code",
   "execution_count": 106,
   "metadata": {},
   "outputs": [],
   "source": [
    "def is_title(e):\n",
    "    n = len(e['inside'])\n",
    "    if e['type'] != 'text':\n",
    "        return False\n",
    "    if n > 2 and e['inside'][0] in (\"第\", \"（\", \"(\"):\n",
    "        return True\n",
    "    if n > 1 and e['inside'][0] in \"一二三四五六七八九十\":\n",
    "        return True\n",
    "    if n > 1 and e['inside'][:2] in [f\"{i}{l}\" for i in range(10) for l in ['.', '、']]:\n",
    "        return True\n",
    "    if n > 3 and e['inside'][:3] in [f\"{i}{l}\" for i in range(10, 50) for l in ['.', '、']]:\n",
    "        return True\n",
    "    if n > 2 and e['inside'][:2] in [f\"{i}{l}\" for i in \"abcdefghijklmnopqrstuvwxyzABCDEFGHIJKLMNOPQRSTUVWXYZ\" for l in ['.', '、']]:\n",
    "        return True\n",
    "    return False"
   ]
  },
  {
   "cell_type": "code",
   "execution_count": 107,
   "metadata": {},
   "outputs": [],
   "source": [
    "level = [e for e in data if is_title(e)]"
   ]
  },
  {
   "cell_type": "code",
   "execution_count": 108,
   "metadata": {},
   "outputs": [
    {
     "name": "stdout",
     "output_type": "stream",
     "text": [
      "第一节重要提示、目录和释义\n",
      "第一节重要提示、目录和释义................................................2\n",
      "第二节公司简介和主要财务指标..............................................9\n",
      "第三节管理层讨论与分析..................................................14\n",
      "第四节公司治理..........................................................51\n",
      "第五节环境和社会责任....................................................70\n",
      "第六节重要事项..........................................................71\n",
      "第七节股份变动及股东情况................................................123\n",
      "第八节优先股相关情况...................................................129\n",
      "第九节债券相关情况.....................................................130\n",
      "第十节财务报告.........................................................131\n",
      "第十一节备查文件目录...................................................314\n",
      "第二节公司简介和主要财务指标\n",
      "一、公司信息\n",
      "二、联系人和联系方式\n",
      "三、信息披露及备置地点\n",
      "四、注册变更情况\n",
      "五、其他有关资料\n",
      "六、主要会计数据和财务指标\n",
      "七、境内外会计准则下会计数据差异\n",
      "1、同时按照国际会计准则与按照中国会计准则披露的财务报告中净利润和净资产差异情况\n",
      "2、同时按照境外会计准则与按照中国会计准则披露的财务报告中净利润和净资产差异情况\n",
      "八、分季度主要财务指标\n",
      "九、非经常性损益项目及金额\n",
      "第三节管理层讨论与分析\n",
      "一、报告期内公司所处的行业情况\n",
      "第一，疫情、通胀、发达经济体货币政策调整以及俄乌冲突构成当前全球经济发展的重大不确定性因素。受疫情反弹扰动，2021年下半年以来全球经济复苏放缓，同时近两年海外宽松的货币政策和积极的财政政策导致海外主要经济体CPI与PPI飙升，通胀压力巨大。为应对通胀压力、资本外流等风险挑战，11月以来美英欧日等主要发达经济体货币政策转向加快，流动性呈现收紧态势，财政政策边际收敛也成趋势。\n",
      "第二，我国经济面临下行压力，疫情反复仍对消费需求形成抑制，稳地产意义重大。12月中央经济工作会议中指出“当前我国经济发展面临需求收缩、供给冲击、预期转弱三重压力。世纪疫情冲击下，百年变局加速演进，外部环境更趋复杂严峻和不确定性。”强调“明年经济工作要稳字当头、稳中求进，各地区各部门要担负起稳定宏观经济的责任，各方面要积极推出有利于经济稳定的政策，政策发力适当靠前。”\n",
      "第三，我国人口增长停滞、城镇化进程放缓、房企资金面的分化，将深刻影响房企城市布局。2021年我国人口增长和城镇化进程显著放缓，全年人口净增长仅48万，年末常住人口城镇化率达64.72%,比上年同期增0.83个百分点，增速显著回落。未来，随着我国人口增量趋于减少、城市化整体进程持续放缓，各城市之间的相对地位将趋于稳固，对于人口的吸引与留存将继续分化，人口将持续流入一二线及长三角、珠三角等核心城市群城市。人口聚集效应和城市化进展的分化必然导致各城市间楼市分化，从而影响房企的投资决策。\n",
      "第四，客户购房更加理性，品牌背景重要性上升。2021年部分品牌民营房企频频暴雷，一大批楼盘停工，严重打击购房者的信心，未来客户购房将更加关注房企的品牌和背景，央国企、财务稳健的优质民企受青睐。同时需求端疲弱背景下，现楼与准现楼交房成为吸引购房者眼球的一大利器，未来或成为一大趋势。\n",
      "二、报告期内公司从事的主要业务\n",
      "（一）公司主要业务情况\n",
      "1.大交易业务\n",
      "2.大资管业务\n",
      "（二）公司经营情况\n",
      "1.大交易业务\n",
      "（1）代理销售业务\n",
      "（2）互联网+业务\n",
      "（3）金融业务\n",
      "2.大资管业务\n",
      "（1）城市资产管理业务\n",
      "b.公园服务项目：横琴新区湿地公园；\n",
      "c.学校服务项目：保税区第一幼儿园、保税区第一小学；\n",
      "d.公寓服务项目：横琴澳门青年创业谷人才公寓、横琴新中心保障房、彩虹保障房；\n",
      "e.产业园服务项目：横琴·科学城、横琴国际科技创新中心；\n",
      "f.综合体服务项目：横琴国际商务中心ICC（琴澳深合区管理委员会办公楼）、深南视界广场、南方传媒金融中心。\n",
      "（2）空间运营业务\n",
      "（3）咨询顾问业务\n",
      "（4）招商租赁业务\n",
      "三、核心竞争力分析\n",
      "（一）企业文化\n",
      "（二）组织优势\n",
      "（三）专注与开放\n",
      "（四）资本市场的助力\n",
      "（五）国企资源叠加\n",
      "四、主营业务分析\n",
      "1、概述\n",
      "（一）总体情况\n",
      "（二）营业收入\n",
      "1、主营业务收入按业务板块划分\n",
      "（1）大交易业务\n",
      "（2）大资管业务\n",
      "2、主营业务收入按地区分类\n",
      "2、收入与成本\n",
      "（1）营业收入构成\n",
      "（2）占公司营业收入或营业利润10%以上的行业、产品、地区、销售模式的情况\n",
      "（3）公司实物销售收入是否大于劳务收入\n",
      "（4）公司已签订的重大销售合同、重大采购合同截至本报告期的履行情况\n",
      "（5）营业成本构成\n",
      "（6）报告期内合并范围是否发生变动\n",
      "（7）公司报告期内业务、产品或服务发生重大变化或调整有关情况\n",
      "（8）主要销售客户和主要供应商情况\n",
      "3、费用\n",
      "4、研发投入\n",
      "5、现金流\n",
      "（1）经营活动产生的现金流量净额同比增长38.59%，主要是因为本报告期公司执行新租赁准则支付的合同固定租金，调整到支付其他与筹资活动有关的现金项目列报。\n",
      "（2）投资活动现金流出同比减少80.07%，主要原因：1）本报告期公司支付联营公司的投资款同比减少10,000.00万元；2）本报告期公司支付的资产运营业务装修款同比减少6,478.59万元。\n",
      "五、非主营业务分析\n",
      "六、资产及负债状况分析\n",
      "1、资产构成重大变动情况\n",
      "2、以公允价值计量的资产和负债\n",
      "3、截至报告期末的资产权利受限情况\n",
      "七、投资状况分析\n",
      "1、总体情况\n",
      "2、报告期内获取的重大的股权投资情况\n",
      "3、报告期内正在进行的重大的非股权投资情况\n",
      "4、金融资产投资\n",
      "（1）证券投资情况\n",
      "（2）衍生品投资情况\n",
      "5、募集资金使用情况\n",
      "（1）募集资金总体使用情况\n",
      "（2）募集资金承诺项目情况\n",
      "（3）募集资金变更项目情况\n",
      "八、重大资产和股权出售\n",
      "1、出售重大资产情况\n",
      "2、出售重大股权情况\n",
      "九、主要控股参股公司分析\n",
      "十、公司控制的结构化主体情况\n",
      "十一、公司未来发展的展望\n",
      "（一）公司发展战略\n",
      "（二）2022年经营计划\n",
      "1.大交易业务\n",
      "（1）在地深耕，一城一策。从城市、区域，开发商、项目、竞争对手等维度进行系统化交叉分析，创新与不同开发商的合作模式，落地深耕当地市场。巩固山东地区和大湾区的优势市场地位，做大武汉、成都和安徽等躯干地区的规模，扶持天津、长沙等潜力城市的发展，挖掘南昌、郑州等城市的机会，加快哈尔滨、沈阳等城市的收缩调整，深化一城一策战略。\n",
      "（2）完善大客户拓管体系，保障优质房源。建立面向重点攻坚对象的端到端拓客、管客体系，以头部领先开发商和大型政府平台类公司为目标，由领导班子亲自牵头打响大客户攻坚战。进一步提升与万科、保利两大战略客户的合作深度，同时加大对于央国平的客户发展，构建与之对应的服务能力和服务模式，保证核心城市公司业务的基本盘。\n",
      "（3）设立非住业务发展部。专注商业、办公和产业地产等细分市场的痛点，打通“投，融，管，退”，建立创新的解决方案，构建长期稳定的业务增长点。\n",
      "（4）增加精细化管理的颗粒度，提升业务运营效率。完善大交易运营中心的人事和组织运行机制，利用数字化案场等工具，建立闭环的正反馈运营管理机制，实现数字驱动的及时化、标准化管理，增加管理深度和广度，优化人力等资源配置，提升运营效率，赋能业务一线。\n",
      "（5）优化组织架构，推进人才重构。以战略为导向，明确关键组织能力，按区域分级优化组织架构，适配管控流程。\n",
      "2.大资管业务\n",
      "（1）城市资产管理业务定位为大资管的核心业务和增长引擎，将以精细化大物业服务为基础，叠加城市管理咨询、产业招商运营、城市资产运营等高附值服务，通过全链条服务模式让城市资产持续增值，为城市精细化管理赋能。城市资产管理业务主要围绕以下三种物业类型提供相关服务：\n",
      "a.为非传统房地产企业（科技企业或投资机构）的不动产，提供企业不动产综合解决方案（前期顾问到落地招商租赁及运营一体化解决方案）；\n",
      "b.产业园区（综合体），公司提供产办类综合物业一体化资产运营方案；\n",
      "c.城市公共空间及设施，公司提供城市以城市公园为载体的公园运营综合解决方案。\n",
      "a.发挥标杆效应，实现异地扩张。承接横琴资源做大本地规模的同时，不断完善城市资管服务团队、品线和体系，发挥标杆示范效应，支持横琴模式的异地化扩张。\n",
      "b.挖掘现有优势，以点带面。立足优势地区优势业务建立区域中心，聚焦资源提炼标准化业务服务体系，建立赋能体系，向周边区域复制推广。跟随现有G端和B端客户全国化发展扩张，将项目打造成标杆后，在当地进行复制推广。\n",
      "c.利用钩子业务，协同发展。通过顾问业务解决客户规划痛点、招商解决出租痛点等前置服务，获取城市资产管理业务机会。\n",
      "d.搭建运营中台，提升运营效率。利用先进的硬件和互联网技术，以标杆项目试点的方式，建立大资管一体化运营平台，提升整体运营效率。\n",
      "（2）空间运营业务将聚焦国企、政府、一手业主三类客户，稳步推进公寓轻托管运营管理服务，对已布局城市进行等级分类，因城施策。继续完善“悠租云”系统，实现跨公寓、酒店等梯度化统一管理，在满足自身业务发展需求的同时，推动“悠租云”市场化纵深发展。\n",
      "（3）咨询顾问业务紧跟市场格局变化，围绕客户资产盘活和空间整治等需求痛点，以“先顾问咨询+再运营管理+后升级提质”的新模式，为客户提供资管一体化解决方案。以专业形象打造行业影响力，以专业能力扩大资管业务的市场端口，以专业视角赋能大资管业务发展。\n",
      "（4）招商租赁业务核心目标是建立招商租赁能力，完善业务服务模式。主要聚焦大资管落地地区的楼宇二次招商，从单纯驻场模式转变为驻场+租户（客户）服务，提供业主代理（代理业主出租）和企业服务（如选址等）。\n",
      "（三）未来经营可能面对的风险及应对策略\n",
      "1、政府下一阶段执行的房地产政策存在不确定性，从而对市场成交的变动方向产生重大影响。公司在发展过程中经历48\n",
      "2、当前房地产市场在不同地区的发展水平不均衡；虽然目前公司业务全国化布局，但各地区公司处在不同的发展阶段。\n",
      "3、公司的业务运营及财务表现已经并可能继续受到新冠疫情的影响。最近，新冠疫情在国内多点散发，政府采取多项措施，包括出行及公共交通限制、延长关闭办公及公共场所、保持社交距离及强制隔离等，导致受影响期间内区域和国家经济活动明显减少。新冠疫情的持续发展及其影响仍存在不确定性。疫情可能会扰乱公司的业务及可能导致劳动力暂时短缺。\n",
      "4、公司属于人力资源密集型公司，企业的成功所依靠的是自身在各方面持续改善的能力，这一点对于公司核心人员的上进心提出很高的要求。面对剧烈变化的市场和竞争形势，核心人员是否能够不断学习、改善，持续投入工作热情，都存在不确定性。同时，人员和机构数量的快速增长，会带来企业文化稀释和协同工作难度加大的挑战。对此，唯有继续强化企业文化的传承和对管理人员领导力的提升，完善激励和绩效考核机制，培养潜力人才，才能创造卓越绩效。\n",
      "十二、报告期内接待调研、沟通、采访等活动\n",
      "第四节公司治理\n",
      "一、公司治理的基本状况\n",
      "1、股东与股东大会\n",
      "2、控股股东与上市公司的关系\n",
      "3、董事与董事会\n",
      "5、关于绩效评价与激励约束机制\n",
      "6、利益相关者\n",
      "7、信息披露与透明度\n",
      "二、公司相对于控股股东、实际控制人在保证公司资产、人员、财务、机构、业务等方面的独立情况\n",
      "1、业务独立\n",
      "2、人员独立\n",
      "3、资产独立\n",
      "4、机构独立\n",
      "5、财务独立\n",
      "三、同业竞争情况\n",
      "四、报告期内召开的年度股东大会和临时股东大会的有关情况\n",
      "1、本报告期股东大会情况\n",
      "2、表决权恢复的优先股股东请求召开临时股东大会\n",
      "五、董事、监事和高级管理人员情况\n",
      "1、基本情况\n",
      "2、任职情况\n",
      "1、董事主要工作经历\n",
      "2、监事主要工作经历\n",
      "3、高级管理人员主要工作经历\n",
      "3、董事、监事、高级管理人员报酬情况\n",
      "六、报告期内董事履行职责的情况\n",
      "1、本报告期董事会情况\n",
      "2、董事出席董事会及股东大会的情况\n",
      "3、董事对公司有关事项提出异议的情况\n",
      "4、董事履行职责的其他说明\n",
      "七、董事会下设专门委员会在报告期内的情况\n",
      "八、监事会工作情况\n",
      "九、公司员工情况\n",
      "1、员工数量、专业构成及教育程度\n",
      "2、薪酬政策\n",
      "3、培训计划\n",
      "4、劳务外包情况\n",
      "十、公司利润分配及资本公积金转增股本情况\n",
      "十一、公司股权激励计划、员工持股计划或其他员工激励措施的实施情况\n",
      "十二、报告期内的内部控制制度建设及实施情况\n",
      "1、内部控制建设及实施情况\n",
      "2、报告期内发现的内部控制重大缺陷的具体情况\n",
      "十三、公司报告期内对子公司的管理控制情况\n",
      "十四、内部控制自我评价报告或内部控制审计报告\n",
      "1、内控自我评价报告\n",
      "2、内部控制审计报告\n",
      "十五、上市公司治理专项行动自查问题整改情况\n",
      "第五节环境和社会责任\n",
      "一、重大环保问题\n",
      "二、社会责任情况\n",
      "三、巩固拓展脱贫攻坚成果、乡村振兴的情况\n",
      "第六节重要事项\n",
      "一、承诺事项履行情况\n",
      "1、公司实际控制人、股东、关联方、收购人以及公司等承诺相关方在报告期内履行完毕及截至报告期末尚未履行完毕的承诺事项\n",
      "2、公司资产或项目存在盈利预测，且报告期仍处在盈利预测期间，公司就资产或项目达到原盈利预测及其原因做出说明\n",
      "二、控股股东及其他关联方对上市公司的非经营性占用资金情况\n",
      "三、违规对外担保情况\n",
      "四、董事会对最近一期“非标准审计报告”相关情况的说明\n",
      "五、董事会、监事会、独立董事（如有）对会计师事务所本报告期“非标准审计报告”的说明□适用√不适用\n",
      "六、与上年度财务报告相比，会计政策、会计估计变更或重大会计差错更正的情况说明√适用□不适用\n",
      "七、与上年度财务报告相比，合并报表范围发生变化的情况说明\n",
      "1、本报告期通过非同一控制下企业合并取得的子公司\n",
      "2、本报告期没有通过同一控制下企业合并取得的子公司。\n",
      "3、处置子公司\n",
      "4、其他原因的合并范围变动\n",
      "八、聘任、解聘会计师事务所情况\n",
      "九、年度报告披露后面临退市情况\n",
      "十、破产重整相关事项\n",
      "十一、重大诉讼、仲裁事项\n",
      "十二、处罚及整改情况\n",
      "十三、公司及其控股股东、实际控制人的诚信状况\n",
      "十四、重大关联交易\n",
      "1、与日常经营相关的关联交易\n",
      "2、资产或股权收购、出售发生的关联交易\n",
      "3、共同对外投资的关联交易\n",
      "4、关联债权债务往来\n",
      "5、与存在关联关系的财务公司的往来情况\n",
      "6、公司控股的财务公司与关联方的往来情况\n",
      "7、其他重大关联交易\n",
      "十五、重大合同及其履行情况\n",
      "1、托管、承包、租赁事项情况\n",
      "（1）托管情况\n",
      "（2）承包情况\n",
      "（3）租赁情况\n",
      "2、重大担保\n",
      "3、委托他人进行现金资产管理情况\n",
      "（1）委托理财情况\n",
      "（2）委托贷款情况\n",
      "4、其他重大合同\n",
      "十六、其他重大事项的说明\n",
      "十七、公司子公司重大事项\n",
      "第七节股份变动及股东情况\n",
      "一、股份变动情况\n",
      "1、股份变动情况\n",
      "2、限售股份变动情况\n",
      "二、证券发行与上市情况\n",
      "1、报告期内证券发行（不含优先股）情况\n",
      "2、公司股份总数及股东结构的变动、公司资产和负债结构的变动情况说明\n",
      "3、现存的内部职工股情况\n",
      "三、股东和实际控制人情况\n",
      "1、公司股东数量及持股情况\n",
      "2、公司控股股东情况\n",
      "3、公司实际控制人及其一致行动人\n",
      "4、公司控股股东或第一大股东及其一致行动人累计质押股份数量占其所持公司股份数量比例达到80%□适用√不适用\n",
      "5、其他持股在10%以上的法人股东\n",
      "6、控股股东、实际控制人、重组方及其他承诺主体股份限制减持情况\n",
      "四、股份回购在报告期的具体实施情况\n",
      "第八节优先股相关情况\n",
      "第九节债券相关情况\n",
      "第十节财务报告\n",
      "一、审计报告\n",
      "一、审计意见\n",
      "二、形成审计意见的基础\n",
      "三、关键审计事项\n",
      "四、其他信息\n",
      "五、管理层和治理层对财务报表的责任\n",
      "六、注册会计师对财务报表审计的责任\n",
      "（1）识别和评估由于舞弊或错误导致的财务报表重大错报风险，设计和实施审计程序以应对这些风险，并获取充分、适当的审计证据，作为发表审计意见的基础。由于舞弊可能涉及串通、伪造、故意遗漏、虚假陈述或凌驾于内部控制之上，未能发现由于舞弊导致的重大错报的风险高于未能发现由于错误导致的重大错报的风险。\n",
      "（2）了解与审计相关的内部控制，以设计恰当的审计程序，但目的并非对内部控制的有效性发表意见。\n",
      "（3）评价管理层选用会计政策的恰当性和作出会计估计及相关披露的合理性。\n",
      "（4）对管理层使用持续经营假设的恰当性得出结论。同时，根据获取的审计证据，就可能导致对世联行持续经营能力产生重大疑虑的事项或情况是否存在重大不确定性得出结论。如果我们得出结论认为存在重大不确定性，审计准则要求我们在审计报告中提请报表使用者注意财务报表中的相关披露；如果披露不充分，我们应当发表非无保留意见。我们的结论基于截至审计报告日可获得的信息。\n",
      "（5）评价财务报表的总体列报、结构和内容，并评价财务报表是否公允反映相关交易和事项。\n",
      "（6）就世联行中实体或业务活动的财务信息获取充分、适当的审计证据，以对财务报表发表审计意见。我们负责指导、监督和执行集团审计，并对审计意见承担全部责任。\n",
      "（项目合伙人）\n",
      "二、财务报表\n",
      "1、合并资产负债表\n",
      "3、合并利润表\n",
      "5、合并现金流量表\n",
      "6、母公司现金流量表\n",
      "7、合并所有者权益变动表\n",
      "8、母公司所有者权益变动表\n",
      "三、公司基本情况\n",
      "四、财务报表的编制基础\n",
      "1、编制基础\n",
      "2、持续经营\n",
      "五、重要会计政策及会计估计\n",
      "1、遵循企业会计准则的声明\n",
      "2、会计期间\n",
      "3、营业周期\n",
      "4、记账本位币\n",
      "5、同一控制下和非同一控制下企业合并的会计处理方法\n",
      "6、合并财务报表的编制方法\n",
      "7、合营安排分类及共同经营会计处理方法\n",
      "8、现金及现金等价物的确定标准\n",
      "9、外币业务和外币报表折算\n",
      "（1）外币业务\n",
      "（2）外币财务报表的折算\n",
      "10、金融工具\n",
      "（1）金融资产\n",
      "（2）金融负债\n",
      "（3）金融资产和金融负债的公允价值确定方法\n",
      "（4）金融资产和金融负债的抵销\n",
      "（5）金融负债与权益工具的区分及相关处理方法\n",
      "（5）金融资产减值\n",
      "11、应收票据\n",
      "12、应收账款\n",
      "13、其他应收款\n",
      "14、贷款\n",
      "15、存货\n",
      "16、合同资产\n",
      "17、合同成本\n",
      "（1）与合同成本有关的资产金额的确定方法\n",
      "（2）与合同成本有关的资产的摊销\n",
      "（3）与合同成本有关的资产的减值\n",
      "18、持有待售资产\n",
      "（1）本集团将同时符合下列条件的非流动资产或处置组划分为持有待售类别：1）根据类似交易中出售此类资产或处置组的惯例，在当前状况下即可立即出售；2）出售极可能发生，即已经就一项出售计划作出决议且获得确定的购买承诺，预计出售将在一年内完成。有关规定要求相关权力机构或者监管部门批准后方可出售的需要获得相关批准。本集团将非流动资产或处置组首次划分为持有待售类别前，按照相关会计准则规定计量非流动资产或处置组中各项资产和负债的账面价值。\n",
      "（2）本集团专为转售而取得的非流动资产或处置组，在取得日满足“预计出售将在一年内完成”的规定条件，且短期（通常为3个月）内很可能满足持有待售类别的其他划分条件的，在取得日将其划分为持有待售类别。在初始计量时，比较假定其不划分为持有待售类别情况下的初始计量金额和公允价值减去出售费用后的净额，以两者孰低计量。除企业合并中取得的非流动资产或处置组外，由非流动资产或处置组以公允价值减去出售费用后的净额作为初始计量金额而产生的差额，计入当期损益。\n",
      "（3）本集团因出售对子公司的投资等原因导致丧失对子公司控制权的，无论出售后本集团是否保留部分权益性投资，在拟出售的对子公司投资满足持有待售类别划分条件时，在母公司个别财务报表中将对子公司投资整体划分为持有待售类别，在合并财务报表中将子公司所有资产和负债划分为持有待售类别。\n",
      "（4）后续资产负债表日持有待售的非流动资产公允价值减去出售费用后的净额增加的，以前减记的金额应当予以恢复，并在划分为持有待售类别后确认的资产减值损失金额内转回，转回金额计入当期损益。划分为持有待售类别前确认的资产减值损失不得转回。\n",
      "（5）对于持有待售的处置组确认的资产减值损失金额，先抵减处置组中商誉的账面价值，再根据各项非流动资产账面价值所占比重，按比例抵减其账面价值。\n",
      "（6）后续资产负债表日持有待售的处置组公允价值减去出售费用后的净额增加的，以前减记的金额应当予以恢复，并在划分为持有待售类别后适用相关计量规定的非流动资产确认的资产减值损失金额内转回，转回金额计入当期损益。已抵减的商誉账面价值，以及非流动资产在划分为持有待售类别前确认的资产减值损失不得转回。\n",
      "（7）持有待售的处置组确认的资产减值损失后续转回金额，根据处置组中除商誉外，各项非流动资产账面价值所占比重，按比例增加其账面价值。\n",
      "（8）持有待售的非流动资产或处置组中的非流动资产不计提折旧或摊销，持有待售的处置组中负债的利息和其他费用继续165\n",
      "19、长期应收款\n",
      "20、长期股权投资\n",
      "21、投资性房地产\n",
      "22、固定资产\n",
      "（1）确认条件\n",
      "（2）折旧方法\n",
      "（3）融资租入固定资产的认定依据、计价和折旧方法\n",
      "23、在建工程\n",
      "24、借款费用\n",
      "25、使用权资产\n",
      "（1）初始计量\n",
      "（2）后续计量\n",
      "（3）租赁期内合同发生变更时，在租赁变更生效日，本集团按以下情形进行会计处理：\n",
      "26、无形资产\n",
      "（1）计价方法、使用寿命、减值测试\n",
      "（2）内部研究开发支出会计政策\n",
      "27、商誉\n",
      "28、长期资产减值\n",
      "（1）资产的市价当期大幅度下跌，其跌幅明显高于因时间的推移或者正常使用而预计的下跌；\n",
      "（2）企业经营所处的经济、技术或者法律等环境以及资产所处的市场在当期或者将在近期发生重大变化，从而对企业产生不利影响；\n",
      "（3）市场利率或者其他市场投资报酬率在当期已经提高，从而影响企业计算资产预计未来现金流量现值的折现率，导致资产可收回金额大幅度降低；\n",
      "（4）有证据表明资产已经陈旧过时或者其实体已经损坏；\n",
      "（5）资产已经或者将被闲置、终止使用或者计划提前处置；\n",
      "（6）企业内部报告的证据表明资产的经济绩效已经低于或者将低于预期，如资产所创造的净现金流量或者实现的营业171\n",
      "（7）其他表明资产可能已经发生减值的迹象。\n",
      "29、长期待摊费用\n",
      "30、合同负债\n",
      "31、职工薪酬\n",
      "（1）短期薪酬的会计处理方法\n",
      "（2）离职后福利的会计处理方法\n",
      "（3）辞退福利的会计处理方法\n",
      "（4）其他长期职工福利的会计处理方法\n",
      "32、租赁负债\n",
      "（1）初始计量\n",
      "（2）后续计量\n",
      "（3）重新计量\n",
      "33、预计负债\n",
      "34、担保赔偿准备、未到期责任准备\n",
      "35、股份支付\n",
      "36、优先股、永续债等其他金融工具\n",
      "37、收入\n",
      "（1）确认和计量方法\n",
      "（2）具体确认方法\n",
      "38、政府补助\n",
      "39、递延所得税资产/递延所得税负债\n",
      "40、所得税的会计核算\n",
      "41、租赁\n",
      "（1）租赁的识别\n",
      "（2）会计处理方法\n",
      "一项租赁存在下列一种或多种情形的，本集团通常将其分类为融资租赁：①在租赁期届满时，租赁资产的所有权转移给承租人；②承租人有购买租赁资产的选择权，所订立的购买价款与预计行使选择权时租赁资产的公允价值相比足够低，因而在租赁开始日就可以合理确定承租人将行使该选择权；③资产的所有权虽然不转移，但租赁期占租赁资产使用寿命的大部分（不低于租赁资产使用寿命的75%）；④在租赁开始日，租赁收款额的现值几乎相当于租赁资产的公允价值（不低于租赁资产公允价值的90%。）；⑤租赁资产性质特殊，如果不作较大改造，只有承租人才能使用。一项租赁存在下列一项或多项迹象的，本集团也可能将其分类为融资租赁：①若承租人撤销租赁，撤销租赁对出租人造成的损失由承租人承担；②资产余值的公允价值波动所产生的利得或损失归属于承租人；③承租人有能力以远低于市场水平的租金继续租赁至下一期间。\n",
      "42、终止经营\n",
      "43、资产证券化\n",
      "44、重要会计政策和会计估计变更\n",
      "（1）重要会计政策变更\n",
      "a、将于首次执行日后12个月内完成的租赁作为短期租赁处理；\n",
      "b、计量租赁负债时，具有相似特征的租赁采用同一折现率；\n",
      "c、使用权资产的计量不包含初始直接费用；\n",
      "d、存在续租选择权或终止租赁选择权的，根据首次执行日前选择权的实际行使及其他最新情况确定租赁期；\n",
      "e、作为使用权资产减值测试的替代，评估包含租赁的合同在首次执行日前是否为亏损合同，并根据首次执行日前计入资产负债表的亏损准备金额调整使用权资产；\n",
      "f、首次执行日之前发生的租赁变更，不进行追溯调整，根据租赁变更的最终安排，按照新租赁准则进行会计处理。\n",
      "（2）重要会计估计变更\n",
      "（3）2021年起首次执行新租赁准则调整首次执行当年年初财务报表相关项目情况\n",
      "（4）2021年起首次执行新租赁准则追溯调整前期比较数据说明\n",
      "45、其他\n",
      "（1）应收款项减值的会计估计\n",
      "（2）贷款减值损失的会计估计\n",
      "（3）商誉减值准备的会计估计\n",
      "（4）固定资产减值准备的会计估计\n",
      "（5）递延所得税资产确认的会计估计\n",
      "（6）固定资产、无形资产的可使用年限\n",
      "六、税项\n",
      "1、主要税种及税率\n",
      "2、税收优惠\n",
      "（1）世联咨询(香港)有限公司、SHIJU(HK)LIMITED适用香港地区利得税16.5%。\n",
      "（2）根据《财政部税务总局国家发展改革委关于延续西部大开发企业所得税政策的公告》（财政部公告2020年第23号），重庆世联君汇房地产运营管理有限公司享受税收优惠，减按15%税率征收企业所得税。\n",
      "（3）深圳先锋居善科技有限公司于2017年8月17日收到深圳市科技创新委员会、深圳市财政委员会、深圳市国家税务局、深圳市地方税务局联合颁发的编号为GR201744200012的《高新技术企业证书》，有效期三年。根据《中华人民共和国企业所得税法》、《中华人民共和国企业所得税法实施条例》、《国务院关于实施企业所得税过渡优惠政策的通知》等相关规定，深圳先锋居善科技有限公司自通过国家高新技术企业认定后，2017年起两年年内（2017年1月1日至2018年12月31日）享受“两免三减半”所得税优惠税率即按12.5%的税率缴纳企业所得税，期满后适用高新技术企业15%税率缴纳企业所得税。\n",
      "（4）根据《财政部税务总局关于实施小微企业和个体工商户所得税优惠政策》(财政部税务总局公告2021年第12号)公告的规定，自2021年1月1日至2022年12月31日，对小型微利企业年应纳税所得额不超过100万元的部分，减按12.5%计入应纳税所得额，按20%的税率缴纳企业所得税；根据《财政部税务总局关于实施小微企业普惠性税收减免政策的通知》(财税〔2019〕13号)公告的规定，自2019年1月1日至2021年12月31日，对年应纳税所得额超过100万元但不超过300万元的部分，减按50%计入应纳税所得额，按20%的税率缴纳企业所得税。本集团子公司珠海横琴世联行咨询有限公司等公司享有2.5%-10%超额累进所得税率优惠。\n",
      "3、其他\n",
      "七、合并财务报表项目注释\n",
      "1、货币资金\n",
      "2、交易性金融资产\n",
      "3、应收票据\n",
      "（1）应收票据分类列示\n",
      "（2）本期计提、收回或转回的坏账准备情况\n",
      "（3）期末公司已质押的应收票据\n",
      "（4）期末公司已背书或贴现且在资产负债表日尚未到期的应收票据\n",
      "（5）期末公司因出票人未履约而将其转应收账款的票据\n",
      "4、应收账款\n",
      "（1）应收账款分类披露\n",
      "（2）本期计提、收回或转回的坏账准备情况\n",
      "（3）本期实际核销的应收账款情况\n",
      "（4）按欠款方归集的期末余额前五名的应收账款情况\n",
      "5、预付款项\n",
      "（1）预付款项按账龄列示\n",
      "（2）按预付对象归集的期末余额前五名的预付款情况\n",
      "6、其他应收款\n",
      "（1）应收股利\n",
      "（2）其他应收款\n",
      "7、存货\n",
      "（1）存货分类\n",
      "（2）存货跌价准备和合同履约成本减值准备\n",
      "（3）存货期末余额含有借款费用资本化金额的说明\n",
      "（4）合同履约成本本期摊销金额的说明\n",
      "8、贷款\n",
      "（1）贷款分类披露\n",
      "（2）贷款的五级分类\n",
      "（3）贷款损失准备计提情况\n",
      "（4）本期计提、转回（或收回）贷款损失准备情况\n",
      "（5）本期实际核销的贷款\n",
      "9、合同资产\n",
      "10、一年内到期的非流动资产\n",
      "一年内到期的长期应收款是本集团12个月内到期的应收融资租赁款｡\n",
      "11、其他流动资产\n",
      "12、长期应收款\n",
      "（1）长期应收款情况\n",
      "13、长期股权投资\n",
      "14、其他权益工具投资\n",
      "15、其他非流动金融资产\n",
      "16、投资性房地产\n",
      "（1）采用成本计量模式的投资性房地产\n",
      "（2）采用公允价值计量模式的投资性房地产\n",
      "（3）未办妥产权证书的投资性房地产情况\n",
      "17、固定资产\n",
      "（1）固定资产情况\n",
      "（2）未办妥产权证书的固定资产情况\n",
      "18、使用权资产\n",
      "19、无形资产\n",
      "（1）无形资产情况\n",
      "（2）未办妥产权证书的土地使用权情况\n",
      "20、商誉\n",
      "（1）商誉账面原值\n",
      "（2）商誉减值准备\n",
      "21、长期待摊费用\n",
      "22、递延所得税资产/递延所得税负债\n",
      "（1）未经抵销的递延所得税资产\n",
      "（2）未经抵销的递延所得税负债\n",
      "（3）以抵销后净额列示的递延所得税资产或负债\n",
      "（4）未确认递延所得税资产明细\n",
      "（5）未确认递延所得税资产的可抵扣亏损将于以下年度到期\n",
      "23、短期借款\n",
      "（1）短期借款分类\n",
      "（2）已逾期未偿还的短期借款情况\n",
      "24、应付账款\n",
      "（1）应付账款列示\n",
      "（2）账龄超过1年的重要应付账款\n",
      "25、预收款项\n",
      "（1）预收款项列示\n",
      "（2）账龄超过1年的重要预收款项\n",
      "26、合同负债\n",
      "27、应付职工薪酬\n",
      "（1）应付职工薪酬列示\n",
      "（2）短期薪酬列示\n",
      "（3）设定提存计划列示\n",
      "28、应交税费\n",
      "29、其他应付款\n",
      "（1）应付利息\n",
      "（2）应付股利\n",
      "（3）其他应付款\n",
      "30、一年内到期的非流动负债\n",
      "31、其他流动负债\n",
      "32、长期借款\n",
      "（1）长期借款分类\n",
      "33、租赁负债\n",
      "34、长期应付款\n",
      "（1）按款项性质列示长期应付款\n",
      "35、股本\n",
      "36、资本公积\n",
      "37、库存股\n",
      "38、其他综合收益\n",
      "39、盈余公积\n",
      "40、未分配利润\n",
      "41、营业收入和营业成本\n",
      "42、主营业务成本明细\n",
      "43、税金及附加\n",
      "44、管理费用\n",
      "45、研发费用\n",
      "46、财务费用\n",
      "47、其他收益\n",
      "48、投资收益\n",
      "49、公允价值变动收益\n",
      "（1）所得税费用表\n",
      "（2）会计利润与所得税费用调整过程\n",
      "（1）收到的其他与经营活动有关的现金\n",
      "（2）支付的其他与经营活动有关的现金\n",
      "（3）收到的其他与投资活动有关的现金\n",
      "（4）支付的其他与投资活动有关的现金\n",
      "（5）收到的其他与筹资活动有关的现金\n",
      "（6）支付的其他与筹资活动有关的现金\n",
      "（1）现金流量表补充资料\n",
      "（2）本期支付的取得子公司的现金净额\n",
      "（3）本期收到的处置子公司的现金净额\n",
      "（4）现金和现金等价物的构成\n",
      "（1）股东权益变动表“股东投入或减少资本：其他”\n",
      "（2）少数股东权益减少4,014,391.82元，系：\n",
      "（1）外币货币性项目\n",
      "（2）境外经营实体说明，包括对于重要的境外经营实体，应披露其境外主要经营地、记账本位币及选择依据，记账本位币发生变化的还应披露原因。\n",
      "（1）政府补助基本情况\n",
      "（2）政府补助退回情况\n",
      "八、合并范围的变更\n",
      "1、非同一控制下企业合并\n",
      "（1）本期发生的非同一控制下企业合并\n",
      "（2）合并成本及商誉\n",
      "（3）被购买方于购买日可辨认资产、负债\n",
      "（4）购买日之前持有的股权按照公允价值重新计量产生的利得或损失\n",
      "2、处置子公司\n",
      "3、其他原因的合并范围变动\n",
      "九、在其他主体中的权益\n",
      "1、在子公司中的权益\n",
      "（1）企业集团的构成\n",
      "（2）重要的非全资子公司\n",
      "（3）重要非全资子公司的主要财务信息\n",
      "（4）使用企业集团资产和清偿企业集团债务的重大限制\n",
      "2、在子公司的所有者权益份额发生变化且仍控制子公司的交易\n",
      "（1）在子公司所有者权益份额发生变化的情况说明\n",
      "（2）交易对于少数股东权益及归属于母公司所有者权益的影响\n",
      "3、在合营安排或联营企业中的权益\n",
      "（1）重要的合营企业或联营企业\n",
      "（2）重要联营企业的主要财务信息\n",
      "（3）不重要的合营企业和联营企业的汇总财务信息\n",
      "（4）合营企业或联营企业向本公司转移资金的能力存在重大限制的说明\n",
      "（5）合营企业或联营企业发生的超额亏损\n",
      "十、与金融工具相关的风险\n",
      "1、各类风险管理目标和政策\n",
      "（1）市场风险\n",
      "（2）信用风险\n",
      "（3）流动风险\n",
      "2、敏感性分析\n",
      "（1）外汇风险敏感性分析\n",
      "十一、公允价值的披露\n",
      "1、以公允价值计量的资产和负债的期末公允价值\n",
      "2、持续的第三层次公允价值计量项目，期初与期末账面价值间的调节信息及不可观察参数敏感性分析上表中的权益工具投资和其他权益工具投资系本集团持有的不存在活跃市场的非上市企业股权或私募基金。本公司对持有的苏州工业园区睿灿投资企业（有限合伙）合伙份额在考虑其所投资企业的流动性折扣后确定公允价值，除此之外的被投资企业经营环境经营情况、财务状况未发生重大变化，所以本集团按持有的权益作为公允价值的合理估计进行计量。\n",
      "3、持续的公允价值计量项目，本期内发生各层级之间转换的，转换的原因及确定转换时点的政策\n",
      "4、本期内发生的估值技术变更及变更原因\n",
      "5、不以公允价值计量的金融资产和金融负债的公允价值情况\n",
      "十二、关联方及关联交易\n",
      "1、本企业的母公司情况\n",
      "2、本企业的子公司情况\n",
      "3、本企业合营和联营企业情况\n",
      "4、其他关联方情况\n",
      "5、关联交易情况\n",
      "（1）购销商品、提供和接受劳务的关联交易\n",
      "（2）关联受托管理/承包及委托管理/出包情况\n",
      "（3）关联租赁情况\n",
      "（4）关联担保情况\n",
      "（5）关联方资金拆借\n",
      "（6）关联方资产转让、债务重组情况\n",
      "（7）关键管理人员报酬\n",
      "（8）其他关联交易\n",
      "6、关联方应收应付款项\n",
      "（1）应收项目\n",
      "（2）其他非流动金融资产\n",
      "（3）应付项目\n",
      "十三、股份支付\n",
      "1、股份支付总体情况\n",
      "2、以权益结算的股份支付情况\n",
      "3、以现金结算的股份支付情况\n",
      "4、股份支付的修改、终止情况\n",
      "十四、承诺及或有事项\n",
      "1、或有事项\n",
      "（1）资产负债表日存在的重要或有事项\n",
      "（2）公司没有需要披露的重要或有事项，也应予以说明\n",
      "2、其他\n",
      "十五、资产负债表日后事项\n",
      "1、利润分配情况\n",
      "2、其他资产负债表日后事项说明\n",
      "十六、其他重要事项\n",
      "1、其他\n",
      "十七、母公司财务报表主要项目注释\n",
      "1、应收账款\n",
      "（1）应收账款分类披露\n",
      "（2）本期计提、收回或转回的坏账准备情况\n",
      "（3）本期实际核销的应收账款情况\n",
      "（4）按欠款方归集的期末余额前五名的应收账款情况\n",
      "2、其他应收款\n",
      "（1）应收股利\n",
      "（2）其他应收款\n",
      "3、长期股权投资\n",
      "（1）对子公司投资\n",
      "（2）对联营、合营企业投资\n",
      "（3）其他说明\n",
      "4、营业收入和营业成本\n",
      "5、投资收益\n",
      "十八、补充资料\n",
      "1、当期非经常性损益明细表\n",
      "2、净资产收益率及每股收益\n",
      "3、境内外会计准则下会计数据差异\n",
      "（1）同时按照国际会计准则与按中国会计准则披露的财务报告中净利润和净资产差异情况\n",
      "（2）同时按照境外会计准则与按中国会计准则披露的财务报告中净利润和净资产差异情况\n",
      "（3）境内外会计准则下会计数据差异原因说明，对已经境外审计机构审计的数据进行差异调节的，应注明该境外机构的名称\n",
      "第十一节备查文件目录\n",
      "一、载有法定代表人、财务负责人、会计机构负责人签名并盖章的会计报表。\n",
      "二、载有会计师事务所盖章、注册会计师签名并盖章的审计报告原件。\n",
      "三、报告期内在中国证监会指定报纸上公开披露的所有公司文件的正本及公告的原稿。\n",
      "四、载有董事长胡嘉先生签名的2021年年度报告文件原文。\n",
      "五、以上备查文件的备置地点：公司董事会办公室及深圳证券交易所。\n",
      "二〇二二年四月十三日\n"
     ]
    }
   ],
   "source": [
    "with open(\"../data/test_temp/outline.txt\", \"w\") as f:\n",
    "    for e in level:\n",
    "        print(e['inside'])\n",
    "        f.write(e['inside']+\"\\n\")"
   ]
  },
  {
   "cell_type": "code",
   "execution_count": 109,
   "metadata": {},
   "outputs": [
    {
     "name": "stdout",
     "output_type": "stream",
     "text": [
      "133 第二节公司简介和主要财务指标\n",
      "134 一、公司信息\n",
      "153 二、联系人和联系方式\n",
      "161 三、信息披露及备置地点\n",
      "168 四、注册变更情况\n",
      "179 五、其他有关资料\n",
      "189 六、主要会计数据和财务指标\n",
      "216 七、境内外会计准则下会计数据差异\n",
      "217 1、同时按照国际会计准则与按照中国会计准则披露的财务报告中净利润和净资产差异情况\n",
      "220 2、同时按照境外会计准则与按照中国会计准则披露的财务报告中净利润和净资产差异情况\n",
      "223 八、分季度主要财务指标\n",
      "233 九、非经常性损益项目及金额\n"
     ]
    }
   ],
   "source": [
    "for e in level:\n",
    "    if e[\"allrow\"] < 133 or e[\"allrow\"] >= 290:\n",
    "        continue\n",
    "    print(e[\"allrow\"], e['inside'])"
   ]
  },
  {
   "cell_type": "code",
   "execution_count": 110,
   "metadata": {},
   "outputs": [
    {
     "data": {
      "text/plain": [
       "{'accuracy': 98.38, 'whitespace': 22.86, 'order': 3, 'page': 27}"
      ]
     },
     "execution_count": 110,
     "metadata": {},
     "output_type": "execute_result"
    }
   ],
   "source": [
    "tables[30].parsing_report"
   ]
  },
  {
   "cell_type": "code",
   "execution_count": 111,
   "metadata": {},
   "outputs": [],
   "source": [
    "df1, df2 = tables[30].df, tables[31].df"
   ]
  },
  {
   "cell_type": "code",
   "execution_count": 112,
   "metadata": {},
   "outputs": [
    {
     "data": {
      "text/plain": [
       "{'accuracy': 96.76, 'whitespace': 0.0, 'order': 1, 'page': 28}"
      ]
     },
     "execution_count": 112,
     "metadata": {},
     "output_type": "execute_result"
    }
   ],
   "source": [
    "tables[31].parsing_report"
   ]
  },
  {
   "cell_type": "code",
   "execution_count": 113,
   "metadata": {},
   "outputs": [
    {
     "data": {
      "text/html": [
       "<div>\n",
       "<style scoped>\n",
       "    .dataframe tbody tr th:only-of-type {\n",
       "        vertical-align: middle;\n",
       "    }\n",
       "\n",
       "    .dataframe tbody tr th {\n",
       "        vertical-align: top;\n",
       "    }\n",
       "\n",
       "    .dataframe thead th {\n",
       "        text-align: right;\n",
       "    }\n",
       "</style>\n",
       "<table border=\"1\" class=\"dataframe\">\n",
       "  <thead>\n",
       "    <tr style=\"text-align: right;\">\n",
       "      <th></th>\n",
       "      <th>0</th>\n",
       "      <th>1</th>\n",
       "      <th>2</th>\n",
       "      <th>3</th>\n",
       "      <th>4</th>\n",
       "      <th>5</th>\n",
       "      <th>6</th>\n",
       "    </tr>\n",
       "  </thead>\n",
       "  <tbody>\n",
       "    <tr>\n",
       "      <th>0</th>\n",
       "      <td>业务类别</td>\n",
       "      <td>2021年</td>\n",
       "      <td></td>\n",
       "      <td>2020年</td>\n",
       "      <td></td>\n",
       "      <td>2019年</td>\n",
       "      <td></td>\n",
       "    </tr>\n",
       "    <tr>\n",
       "      <th>1</th>\n",
       "      <td></td>\n",
       "      <td>毛利</td>\n",
       "      <td>毛利率</td>\n",
       "      <td>毛利</td>\n",
       "      <td>毛利率</td>\n",
       "      <td>毛利</td>\n",
       "      <td>毛利率</td>\n",
       "    </tr>\n",
       "    <tr>\n",
       "      <th>2</th>\n",
       "      <td></td>\n",
       "      <td>金额（万元）  占比</td>\n",
       "      <td></td>\n",
       "      <td>金额（万元） \\n占比</td>\n",
       "      <td></td>\n",
       "      <td>金额（万元） \\n占比</td>\n",
       "      <td></td>\n",
       "    </tr>\n",
       "    <tr>\n",
       "      <th>3</th>\n",
       "      <td>代理销售业务</td>\n",
       "      <td>59,555.39 \\n64.98%</td>\n",
       "      <td>24.80%</td>\n",
       "      <td>81,458.34  101.62%</td>\n",
       "      <td>27.20%</td>\n",
       "      <td>67,490.26 \\n79.95%</td>\n",
       "      <td>23.64%</td>\n",
       "    </tr>\n",
       "    <tr>\n",
       "      <th>4</th>\n",
       "      <td>增长率</td>\n",
       "      <td>-26.89%</td>\n",
       "      <td>-2.40%</td>\n",
       "      <td>20.70%</td>\n",
       "      <td>3.56%</td>\n",
       "      <td>-35.43%</td>\n",
       "      <td>-7.88%</td>\n",
       "    </tr>\n",
       "  </tbody>\n",
       "</table>\n",
       "</div>"
      ],
      "text/plain": [
       "        0                   1       2                   3       4  \\\n",
       "0    业务类别               2021年                       2020年           \n",
       "1                          毛利     毛利率                  毛利     毛利率   \n",
       "2                  金额（万元）  占比                 金额（万元） \\n占比           \n",
       "3  代理销售业务  59,555.39 \\n64.98%  24.80%  81,458.34  101.62%  27.20%   \n",
       "4     增长率             -26.89%  -2.40%              20.70%   3.56%   \n",
       "\n",
       "                    5       6  \n",
       "0               2019年          \n",
       "1                  毛利     毛利率  \n",
       "2         金额（万元） \\n占比          \n",
       "3  67,490.26 \\n79.95%  23.64%  \n",
       "4             -35.43%  -7.88%  "
      ]
     },
     "execution_count": 113,
     "metadata": {},
     "output_type": "execute_result"
    }
   ],
   "source": [
    "df1"
   ]
  },
  {
   "cell_type": "code",
   "execution_count": 114,
   "metadata": {},
   "outputs": [],
   "source": [
    "with open(\"../data/test_temp/plain.txt\", \"w\") as f:\n",
    "    keyword = set()\n",
    "\n",
    "    for t in tables:\n",
    "        df = t.df\n",
    "        df = df.applymap(lambda x: x.replace(\"\\n\", \"\") if type(x) == str else x)\n",
    "\n",
    "        plain_txt_list = []\n",
    "\n",
    "        if df.shape[1] > 2:\n",
    "            plain_txt_list = column_row_data(df)\n",
    "        if df.shape[1] == 2:\n",
    "            plain_txt_list = row_column_data(df)\n",
    "\n",
    "        plain_txt_list = set(plain_txt_list)\n",
    "\n",
    "        for txt in plain_txt_list:\n",
    "            if \"指是指\" in txt:\n",
    "                continue\n",
    "            if txt[-1] in [\"是\",\"指\"]:\n",
    "                continue\n",
    "            if txt[0] in [\"的\"]:\n",
    "                continue\n",
    "            if txt[0].isdigit() and (not txt[1].isdigit()):\n",
    "                continue\n",
    "            if txt.count(\"%\") >= 2:\n",
    "                continue\n",
    "            if len(txt) < 2:\n",
    "                continue\n",
    "            if \"是\" in txt:\n",
    "                s = txt.split('是')\n",
    "                if s[0] == s[1]:\n",
    "                    continue\n",
    "                if s[0] in keyword:\n",
    "                    continue\n",
    "                keyword.add(s[0])\n",
    "            f.write(txt+'\\n')"
   ]
  },
  {
   "cell_type": "code",
   "execution_count": 115,
   "metadata": {},
   "outputs": [
    {
     "data": {
      "text/plain": [
       "5"
      ]
     },
     "execution_count": 115,
     "metadata": {},
     "output_type": "execute_result"
    }
   ],
   "source": [
    "tables[12].df.shape[1]"
   ]
  },
  {
   "cell_type": "code",
   "execution_count": 116,
   "metadata": {},
   "outputs": [],
   "source": [
    "level_set = set([e['inside'] for e in level])\n"
   ]
  },
  {
   "cell_type": "code",
   "execution_count": 117,
   "metadata": {},
   "outputs": [],
   "source": [
    "from transformers import AutoTokenizer\n",
    "base_tokenizer_model = 'D:\\\\code\\\\llm\\\\embeding\\\\text2vec-base-chinese-paraphrase'\n",
    "tokenizer = AutoTokenizer.from_pretrained(base_tokenizer_model)"
   ]
  },
  {
   "cell_type": "code",
   "execution_count": 118,
   "metadata": {},
   "outputs": [
    {
     "name": "stdout",
     "output_type": "stream",
     "text": [
      "too long\n",
      "too long\n"
     ]
    }
   ],
   "source": [
    "with open(\"../data/test_temp/topic.txt\", \"w\") as f:\n",
    "    topic_dict = {\"level\":\"\", \"n\":\"\", \"content\":\"\"}\n",
    "    for d in data:\n",
    "        if d['type'] != 'text':\n",
    "            continue\n",
    "        if d['inside'] in level_set:\n",
    "            topic_dict[\"content\"] = topic_dict[\"content\"].replace('\\n', '')\n",
    "            new_text = ''\n",
    "            n = 0\n",
    "            for text in topic_dict[\"content\"]:\n",
    "                new_text += text\n",
    "                if text[-1] in ['.', '!', '?', '。', '！', '？', '…', ';', '；', ':', '：', '”', '’', '）', '】', '》', '」',\n",
    "                                '』', '〕', '〉', '》', '〗', '〞', '〟', '»', '\"', \"'\", ')', ']', '}']:\n",
    "                    input_tokens = tokenizer(new_text)\n",
    "                    if len(input_tokens['input_ids']) > 150 and new_text:\n",
    "                        new_text = new_text.replace(' ', '')\n",
    "                        f.write(new_text)\n",
    "                        f.write('\\n')\n",
    "                        if len(input_tokens['input_ids']) > 256:\n",
    "                            print(\"too long\")\n",
    "                            f.write(new_text[200:])\n",
    "                            f.write('\\n')\n",
    "                        new_text = ''\n",
    "\n",
    "            topic_dict = {\"level\":\"\", \"content\":\"\"}\n",
    "            topic_dict['level'] = d['inside']\n",
    "        else:\n",
    "            topic_dict[\"content\"] += \" \" + d['inside']\n"
   ]
  },
  {
   "cell_type": "code",
   "execution_count": null,
   "metadata": {},
   "outputs": [],
   "source": []
  },
  {
   "cell_type": "code",
   "execution_count": null,
   "metadata": {},
   "outputs": [],
   "source": []
  },
  {
   "cell_type": "code",
   "execution_count": 119,
   "metadata": {},
   "outputs": [
    {
     "data": {
      "text/plain": [
       "(1075, 1036)"
      ]
     },
     "execution_count": 119,
     "metadata": {},
     "output_type": "execute_result"
    }
   ],
   "source": [
    "texts=\"回顾2021年，这一年是我国“十四五”的开端之年，“新冠”疫情仍在海外肆虐，反复变异的病毒不断突破防线，国内外环境复杂严峻。在中央坚强领导下，我国经济发展和疫情防控保持全球领先地位，疫情全局可控，局部虽有反复，但各行各业的生产经营活动基本恢复正常。 2021年，我国房地产市场前高后低，经历了从上半年热度较高到下半年快速转冷的转变。上半年信贷环境相对宽松，加之去年低基数效应，全国商品房销售规模增幅显著，在长三角、大湾区、西部核心城市、福建等带领下商品房销售量价齐升，土地市场保持较高热度。下半年，随着热点城市调控加码以及房地产贷款收紧政策效应的逐渐显现，房地产市场从销售到开工到房地产开发投资，均出现了快速的回落，其中销售下行的幅度更为明显。商品房销售面积自7月以来快速回落，单月销售面积同比降幅最高达22%，7月以后销售规模甚至低于2019年同期水平。多数地区价格战激烈，二线城市郊县和非核心城市群的三四线城市尤甚，分化进一步加剧。四季度后行业信贷环境改善，预期持续增强，但需求端仍然疲弱，不同城市市场分化格局仍较为突出。 全年全国商品房销售面积17.94亿平方米，同比增长1.9%；销售额18.19万亿元，同比增长4.8%。全国房地产开发投资14.76万亿元，同比增长4.4%；其中，住宅开发投资同比增长6.4%，占房地产开发投资的比重为75.3%。全国房屋新开工面积19.89亿平方米，同比减少11.4%；竣工10.14亿平方米，同比增长11.2%。 截止年底，全国商品房待售面积5.10亿平方米，同比增长2.4%。 政策方面，中央延续“房住不炒”总基调，全面落实行业长效机制：从房企融资“三道红线”、银行房贷“两集中”到预售资金监管等，房地产金融审慎监管持续完善；房地产融资持续下降，其中房地产贷款增速创8年新低，房企降杠杆成效逐渐显现；核心城市“集中供地”全面落地，集中供地首批火热，二批次明显降温，规则不断调整；住房保障体系加快完善，保障性租赁住房建设加速。地方全面落实因城施策，热点城市持续高频加码调控。 伴随市场下行，在融资环境收紧、商品房销售持续转弱的背景下，开发商流动性持续恶化，部分房企信用风险加大。下半年以来，境内外市场信用债出现了大规模的违约，离岸美元债市场净融资额创历史新低，行业整体流动性压力陡增。 展望2022年，我国经济发展的内外环境依然严峻复杂，我国房地产市场预计将迎来政策持续回暖、市14  深圳世联行集团股份有限公司2021年年度报告全文 场逐步修复、增速前低后高的发展态势，同时市场整合与分化将加速演变。 \"\n",
    "input_tokens = tokenizer(texts)\n",
    "len(texts), len(input_tokens['input_ids'])"
   ]
  }
 ],
 "metadata": {
  "kernelspec": {
   "display_name": "py10",
   "language": "python",
   "name": "python3"
  },
  "language_info": {
   "codemirror_mode": {
    "name": "ipython",
    "version": 3
   },
   "file_extension": ".py",
   "mimetype": "text/x-python",
   "name": "python",
   "nbconvert_exporter": "python",
   "pygments_lexer": "ipython3",
   "version": "3.10.6"
  },
  "orig_nbformat": 4
 },
 "nbformat": 4,
 "nbformat_minor": 2
}
