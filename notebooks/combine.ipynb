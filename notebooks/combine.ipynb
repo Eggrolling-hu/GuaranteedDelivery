{
 "cells": [
  {
   "cell_type": "code",
   "execution_count": 45,
   "metadata": {},
   "outputs": [],
   "source": [
    "import jsonlines\n",
    "import json\n",
    "import copy"
   ]
  },
  {
   "cell_type": "code",
   "execution_count": 46,
   "metadata": {},
   "outputs": [],
   "source": [
    "original_test_questions_list = []\n",
    "with jsonlines.open(\"../data/chatglm_llm_fintech_raw_dataset/test_questions.jsonl\", \"r\") as reader:\n",
    "    for obj in reader:\n",
    "        obj['answer'] = \"\"\n",
    "        original_test_questions_list.append(obj)\n"
   ]
  },
  {
   "cell_type": "code",
   "execution_count": 47,
   "metadata": {},
   "outputs": [
    {
     "data": {
      "text/plain": [
       "5000"
      ]
     },
     "execution_count": 47,
     "metadata": {},
     "output_type": "execute_result"
    }
   ],
   "source": [
    "original_test_questions_list.__len__()"
   ]
  },
  {
   "cell_type": "code",
   "execution_count": 48,
   "metadata": {},
   "outputs": [
    {
     "data": {
      "text/plain": [
       "4971"
      ]
     },
     "execution_count": 48,
     "metadata": {},
     "output_type": "execute_result"
    }
   ],
   "source": [
    "set([e['question'] for e in original_test_questions_list]).__len__()"
   ]
  },
  {
   "cell_type": "code",
   "execution_count": 49,
   "metadata": {},
   "outputs": [],
   "source": [
    "original_test_questions_dict = {}\n",
    "for e in original_test_questions_list:\n",
    "    original_test_questions_dict[e['question']] = [e['id'], e['answer']]"
   ]
  },
  {
   "cell_type": "code",
   "execution_count": 50,
   "metadata": {},
   "outputs": [],
   "source": [
    "def combine_answer(original_test_questions_dict, answer_path_list):\n",
    "    test_questions_dict = copy.deepcopy(original_test_questions_dict)\n",
    "    for path in answer_path_list:\n",
    "        with jsonlines.open(path, \"r\") as reader:\n",
    "            for obj in reader:\n",
    "                if obj['answer'] == '':\n",
    "                    continue\n",
    "                test_questions_dict[obj['question']][1] = obj['answer']\n",
    "    return test_questions_dict"
   ]
  },
  {
   "cell_type": "code",
   "execution_count": 51,
   "metadata": {},
   "outputs": [],
   "source": [
    "test_questions_dict = combine_answer(original_test_questions_dict, [\n",
    "    \"../data/submit/submission_new.jsonl\",\n",
    "    \"../data/submit/submission_1.jsonl\"\n",
    "])"
   ]
  },
  {
   "cell_type": "code",
   "execution_count": 52,
   "metadata": {},
   "outputs": [],
   "source": [
    "combined_answer_list = []\n",
    "for e in original_test_questions_list:\n",
    "    combined_answer_list.append({\"id\": e['id'], \"question\": e['question'], \"answer\": test_questions_dict[e['question']][1]})"
   ]
  },
  {
   "cell_type": "code",
   "execution_count": 53,
   "metadata": {},
   "outputs": [
    {
     "data": {
      "text/plain": [
       "5000"
      ]
     },
     "execution_count": 53,
     "metadata": {},
     "output_type": "execute_result"
    }
   ],
   "source": [
    "combined_answer_list.__len__()"
   ]
  },
  {
   "cell_type": "code",
   "execution_count": 54,
   "metadata": {},
   "outputs": [],
   "source": [
    "with open(\"../data/submit/combined_answer.json\", \"w\") as file:\n",
    "    for item in combined_answer_list:\n",
    "        line = json.dumps(item, ensure_ascii=False)\n",
    "        file.write(line + '\\n')"
   ]
  },
  {
   "cell_type": "code",
   "execution_count": 55,
   "metadata": {},
   "outputs": [],
   "source": [
    "with jsonlines.open(\"../data/submit/combined_answer.json\", \"r\") as reader:\n",
    "    for obj in reader:\n",
    "        obj"
   ]
  }
 ],
 "metadata": {
  "kernelspec": {
   "display_name": "py10-117",
   "language": "python",
   "name": "python3"
  },
  "language_info": {
   "codemirror_mode": {
    "name": "ipython",
    "version": 3
   },
   "file_extension": ".py",
   "mimetype": "text/x-python",
   "name": "python",
   "nbconvert_exporter": "python",
   "pygments_lexer": "ipython3",
   "version": "3.10.11"
  },
  "orig_nbformat": 4
 },
 "nbformat": 4,
 "nbformat_minor": 2
}
